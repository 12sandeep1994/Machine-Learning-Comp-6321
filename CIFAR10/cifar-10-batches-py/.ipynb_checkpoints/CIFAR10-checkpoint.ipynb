{
 "cells": [
  {
   "cell_type": "code",
   "execution_count": 1,
   "metadata": {},
   "outputs": [],
   "source": [
    "import pickle\n",
    "import numpy as np\n",
    "import matplotlib.pyplot as plt\n",
    "from sklearn.tree import DecisionTreeClassifier\n",
    "from sklearn.metrics import accuracy_score\n",
    "from datetime import datetime\n",
    "from sklearn.preprocessing import MinMaxScaler\n",
    "import torch\n",
    "import torch.utils.data as utils\n",
    "import torch.nn as nn\n",
    "import torch.nn.functional as F\n",
    "import torch.optim as optim"
   ]
  },
  {
   "cell_type": "code",
   "execution_count": 2,
   "metadata": {},
   "outputs": [],
   "source": [
    "def unpickle(file):\n",
    "    with open(file, 'rb') as fo:\n",
    "        dict = pickle.load(fo, encoding='bytes')\n",
    "    return dict"
   ]
  },
  {
   "cell_type": "code",
   "execution_count": 3,
   "metadata": {},
   "outputs": [],
   "source": [
    "dict_data_lot = unpickle('data_batch_1')\n",
    "X = dict_data_lot[b'data']\n",
    "y = np.asarray(dict_data_lot[b'labels']).astype(np.int64)\n",
    "batch_files = ['data_batch_2','data_batch_3','data_batch_4','data_batch_5']"
   ]
  },
  {
   "cell_type": "code",
   "execution_count": 4,
   "metadata": {},
   "outputs": [],
   "source": [
    "dict_data_lot = unpickle('test_batch')\n",
    "X_test = dict_data_lot[b'data']\n",
    "y_test = np.asarray(dict_data_lot[b'labels']).astype(np.int64)"
   ]
  },
  {
   "cell_type": "code",
   "execution_count": 5,
   "metadata": {},
   "outputs": [],
   "source": [
    "for file in batch_files:\n",
    "    dict_data_lot = unpickle(file)\n",
    "    X = np.append(X,dict_data_lot[b'data'],axis=0)\n",
    "    y = np.append(y,dict_data_lot[b'labels'],axis=0)  "
   ]
  },
  {
   "cell_type": "code",
   "execution_count": 6,
   "metadata": {},
   "outputs": [
    {
     "data": {
      "text/plain": [
       "<matplotlib.image.AxesImage at 0x204966869b0>"
      ]
     },
     "execution_count": 6,
     "metadata": {},
     "output_type": "execute_result"
    },
    {
     "data": {
      "image/png": "[encoded data removed]",
      "text/plain": [
       "<Figure size 432x288 with 1 Axes>"
      ]
     },
     "metadata": {
      "needs_background": "light"
     },
     "output_type": "display_data"
    }
   ],
   "source": [
    "plt.imshow(X[0].reshape(32,32,3))"
   ]
  },
  {
   "cell_type": "code",
   "execution_count": 7,
   "metadata": {},
   "outputs": [
    {
     "data": {
      "text/plain": [
       "<matplotlib.image.AxesImage at 0x204977e0f98>"
      ]
     },
     "execution_count": 7,
     "metadata": {},
     "output_type": "execute_result"
    },
    {
     "data": {
      "image/png": "[encoded data removed]",
      "text/plain": [
       "<Figure size 432x288 with 1 Axes>"
      ]
     },
     "metadata": {
      "needs_background": "light"
     },
     "output_type": "display_data"
    }
   ],
   "source": [
    "plt.imshow(X[0].reshape(3,32,32).transpose(1,2,0))"
   ]
  },
  {
   "cell_type": "code",
   "execution_count": 8,
   "metadata": {},
   "outputs": [],
   "source": [
    "#Takes 25 mins approx\n",
    "#print(\"Start =\"+str(datetime.now()))\n",
    "#max_depth_grid = [100, 150, 200, 400, 600, 800]\n",
    "#accuracies = np.empty((len(max_depth_grid), 2))\n",
    "#for i, max_depth in enumerate(max_depth_grid):\n",
    "#    dtree = DecisionTreeClassifier(random_state=0, max_depth=max_depth)\n",
    "#    dtree.fit(X, y)\n",
    "#    accuracies[i,0] = accuracy_score(y, dtree.predict(X))\n",
    "#    accuracies[i,1] = accuracy_score(y_test, dtree.predict(X_test))\n",
    "#print(\"End =\"+str(datetime.now()))"
   ]
  },
  {
   "cell_type": "code",
   "execution_count": 9,
   "metadata": {},
   "outputs": [],
   "source": [
    "#for i, str_set in enumerate(['Training Set', 'Test Set']):\n",
    "#    plt.plot(max_depth_grid, accuracies[:,i], label=str(str_set)+' Accuracy')\n",
    "#plt.legend()\n",
    "#plt.xlabel('Max depth')\n",
    "#plt.ylabel('Accuracy')\n",
    "#plt.show()"
   ]
  },
  {
   "cell_type": "code",
   "execution_count": 10,
   "metadata": {},
   "outputs": [],
   "source": [
    "#No improvement in accuracy for deicion tree."
   ]
  },
  {
   "cell_type": "code",
   "execution_count": 11,
   "metadata": {},
   "outputs": [
    {
     "name": "stdout",
     "output_type": "stream",
     "text": [
      "Training can only be done on a CPU...\n"
     ]
    }
   ],
   "source": [
    "# Check if CUDA is available\n",
    "gpu_present = torch.cuda.is_available()\n",
    "   \n",
    "if gpu_present:\n",
    "    print(\"Training can be done on a GPU...\")\n",
    "else:\n",
    "    print(\"Training can only be done on a CPU...\")"
   ]
  },
  {
   "cell_type": "code",
   "execution_count": 12,
   "metadata": {},
   "outputs": [],
   "source": [
    "#Tringing pytorch CNN"
   ]
  },
  {
   "cell_type": "code",
   "execution_count": 13,
   "metadata": {},
   "outputs": [],
   "source": [
    "scaler = MinMaxScaler(copy=True, feature_range=(-1, 1))\n",
    "scaler.fit(X)\n",
    "X_rescaled = scaler.transform(X).astype(np.float32)\n",
    "X_test_rescaled = scaler.transform(X_test).astype(np.float32)"
   ]
  },
  {
   "cell_type": "code",
   "execution_count": 14,
   "metadata": {},
   "outputs": [],
   "source": [
    "train_img_tensor_x = torch.from_numpy(X_rescaled.reshape(50000,3,32,32))\n",
    "train_img_tensor_y = torch.from_numpy(y)\n",
    "test_img_tensor_x = torch.from_numpy(X_test_rescaled.reshape(10000,3,32,32))\n",
    "test_img_tensor_y = torch.from_numpy(y_test)\n",
    "\n",
    "trainset = utils.TensorDataset(train_img_tensor_x,train_img_tensor_y)\n",
    "testset = utils.TensorDataset(test_img_tensor_x,test_img_tensor_y)\n",
    "\n",
    "trainloader = utils.DataLoader(trainset,batch_size=4,shuffle=True,num_workers=2)\n",
    "testloader = utils.DataLoader(testset, batch_size=4,shuffle=False, num_workers=2)"
   ]
  },
  {
   "cell_type": "code",
   "execution_count": 15,
   "metadata": {},
   "outputs": [],
   "source": [
    "#Neural Network for a three channel image\n",
    "class CIFAR_CNN_Net(nn.Module):\n",
    "    def __init__(self):\n",
    "        super(CIFAR_CNN_Net, self).__init__()\n",
    "        self.conv1 = nn.Conv2d(3, 16, 3, padding=1)\n",
    "        self.conv2 = nn.Conv2d(16, 32, 3, padding=1)\n",
    "        self.conv3 = nn.Conv2d(32, 64, 3, padding=1)\n",
    "        \n",
    "        self.pool = nn.MaxPool2d(2, 2)\n",
    "        \n",
    "        self.fc1 = nn.Linear(64 * 4 * 4, 500)\n",
    "        self.fc2 = nn.Linear(500, 10)\n",
    "        self.dropout = nn.Dropout(0.25)\n",
    "\n",
    "    def forward(self, x):\n",
    "        x = self.pool(F.relu(self.conv1(x)))\n",
    "        x = self.pool(F.relu(self.conv2(x)))\n",
    "        x = self.pool(F.relu(self.conv3(x)))\n",
    "        \n",
    "        x = x.view(-1, 64 * 4 * 4)\n",
    "        x = self.dropout(x)\n",
    "        x = F.relu(self.fc1(x))\n",
    "        x = self.dropout(x)\n",
    "        x = self.fc2(x)\n",
    "        return x\n",
    "    \n",
    "CIFAR_CNN = CIFAR_CNN_Net()\n",
    "\n",
    "# Move tensors to GPU is CUDA is available\n",
    "if gpu_present:\n",
    "    CIFAR_CNN.cuda()"
   ]
  },
  {
   "cell_type": "code",
   "execution_count": 16,
   "metadata": {},
   "outputs": [],
   "source": [
    "#Let’s use a Classification Cross-Entropy loss and SGD with momentum.\n",
    "#Define a Loss function and optimizer"
   ]
  },
  {
   "cell_type": "code",
   "execution_count": 17,
   "metadata": {},
   "outputs": [],
   "source": [
    "criterion = nn.CrossEntropyLoss()\n",
    "optimizer = optim.SGD(CIFAR_CNN.parameters(), lr=0.001, momentum=0.9)"
   ]
  },
  {
   "cell_type": "code",
   "execution_count": 18,
   "metadata": {},
   "outputs": [],
   "source": [
    "#Train the network"
   ]
  },
  {
   "cell_type": "code",
   "execution_count": 19,
   "metadata": {},
   "outputs": [
    {
     "name": "stdout",
     "output_type": "stream",
     "text": [
      "Epoch: 1 \tTraining Loss: 0.408559\n",
      "Finished Training....\n",
      "Saved model parameters to disk.\n"
     ]
    }
   ],
   "source": [
    "model_path = 'CIFAR-10-CNN-MODEL.pt'\n",
    "num_epochs = 10\n",
    "\n",
    "for epoch in range(1, num_epochs+1):  # loop over the dataset multiple times\n",
    "\n",
    "    training_loss = 0.0\n",
    "    CIFAR_CNN.train()\n",
    "    for i, data in enumerate(trainloader, 0):\n",
    "        \n",
    "\n",
    "        # get the inputs; data is a list of [inputs, labels]\n",
    "        inputs, labels = data\n",
    "        \n",
    "        if gpu_present:\n",
    "            inputs, labels = inputs.cuda(), labels.cuda()\n",
    "        \n",
    "        # zero the parameter gradients\n",
    "        optimizer.zero_grad()\n",
    "\n",
    "        # forward + backward + optimize\n",
    "        outputs = CIFAR_CNN(inputs)\n",
    "        loss = criterion(outputs, labels)\n",
    "        loss.backward()\n",
    "        optimizer.step()\n",
    "\n",
    "        training_loss += loss.item()\n",
    "\n",
    "#        if i % 2000 == 1999:    # print every 2000 mini-batches\n",
    "#            print('[%d, %5d] loss: %.3f' %\n",
    "#                  (epoch + 1, i + 1, running_loss / 2000))\n",
    "#            running_loss = 0.0\n",
    "\n",
    "    training_loss = training_loss/len(trainloader.dataset)\n",
    "    # print training/validation statistics \n",
    "    print('Epoch: {} \\tTraining Loss: {:.6f}'.format(epoch, training_loss))    \n",
    "    \n",
    "print('Finished Training....')\n",
    "torch.save(CIFAR_CNN.state_dict(), model_path)\n",
    "print('Saved model parameters to disk.')"
   ]
  },
  {
   "cell_type": "code",
   "execution_count": 20,
   "metadata": {},
   "outputs": [],
   "source": [
    "#Testing the network"
   ]
  },
  {
   "cell_type": "code",
   "execution_count": 22,
   "metadata": {},
   "outputs": [
    {
     "name": "stdout",
     "output_type": "stream",
     "text": [
      "Model accuracy on 10000 test images: 54.89%\n"
     ]
    }
   ],
   "source": [
    "CIFAR_CNN.eval()\n",
    "total_correct = 0\n",
    "total_images = 0\n",
    "with torch.no_grad():\n",
    "    for data in testloader:\n",
    "        images, labels = data\n",
    "        # move tensors to GPU if CUDA is available\n",
    "        if gpu_present:\n",
    "            data, target = data.cuda(), target.cuda()     \n",
    "        outputs = CIFAR_CNN(images)\n",
    "        # convert output probabilities to predicted class\n",
    "        _, predicted = torch.max(outputs.data, 1)\n",
    "        total_images += labels.size(0)\n",
    "        total_correct += (predicted == labels).sum().item()\n",
    "\n",
    "model_accuracy = total_correct / total_images * 100\n",
    "print('Model accuracy on {0} test images: {1:.2f}%'.format(total_images, model_accuracy))"
   ]
  },
  {
   "cell_type": "code",
   "execution_count": null,
   "metadata": {},
   "outputs": [],
   "source": []
  },
  {
   "cell_type": "code",
   "execution_count": null,
   "metadata": {},
   "outputs": [],
   "source": []
  }
 ],
 "metadata": {
  "kernelspec": {
   "display_name": "Python 3",
   "language": "python",
   "name": "python3"
  },
  "language_info": {
   "codemirror_mode": {
    "name": "ipython",
    "version": 3
   },
   "file_extension": ".py",
   "mimetype": "text/x-python",
   "name": "python",
   "nbconvert_exporter": "python",
   "pygments_lexer": "ipython3",
   "version": "3.7.0"
  }
 },
 "nbformat": 4,
 "nbformat_minor": 2
}
