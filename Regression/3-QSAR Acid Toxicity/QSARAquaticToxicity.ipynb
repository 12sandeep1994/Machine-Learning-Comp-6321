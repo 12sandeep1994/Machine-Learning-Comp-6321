{
 "cells": [
  {
   "cell_type": "code",
   "execution_count": 1,
   "metadata": {},
   "outputs": [
    {
     "name": "stderr",
     "output_type": "stream",
     "text": [
      "C:\\Users\\Loveshant\\Anaconda3\\lib\\site-packages\\sklearn\\ensemble\\weight_boosting.py:29: DeprecationWarning: numpy.core.umath_tests is an internal NumPy module and should not be imported. It will be removed in a future NumPy release.\n",
      "  from numpy.core.umath_tests import inner1d\n"
     ]
    }
   ],
   "source": [
    "import numpy as np \n",
    "import pandas as pd\n",
    "import matplotlib.pyplot as plt \n",
    "import seaborn as sns\n",
    "\n",
    "from sklearn import preprocessing\n",
    "from sklearn.model_selection import train_test_split\n",
    "from sklearn.model_selection import KFold\n",
    "from sklearn.model_selection import cross_val_score\n",
    "from sklearn.metrics import mean_squared_error\n",
    "from sklearn.model_selection import GridSearchCV\n",
    "from sklearn.metrics import accuracy_score\n",
    "\n",
    "from sklearn.svm import SVR\n",
    "from sklearn.tree import DecisionTreeRegressor\n",
    "from sklearn.ensemble import RandomForestRegressor\n",
    "from sklearn.ensemble import AdaBoostRegressor\n",
    "from sklearn.gaussian_process import GaussianProcessRegressor\n",
    "from sklearn.gaussian_process.kernels import RBF, RationalQuadratic, ExpSineSquared, ConstantKernel\n",
    "from sklearn.linear_model import LinearRegression\n",
    "from sklearn.neural_network import MLPRegressor\n",
    "from datetime import datetime"
   ]
  },
  {
   "cell_type": "code",
   "execution_count": 2,
   "metadata": {},
   "outputs": [],
   "source": [
    "#importing the Dataset\n",
    "df_aquatic_toxicity = pd.read_csv('qsar_aquatic_toxicity.csv',sep=';',names=[\"TPSA(Tot)\",\"SAacc\",\"H-050\",\"MLOGP\",\"RDCHI\",\"GATS1p\",\"nN\",\"C-040\",\"LC50\"])"
   ]
  },
  {
   "cell_type": "code",
   "execution_count": 3,
   "metadata": {},
   "outputs": [
    {
     "name": "stdout",
     "output_type": "stream",
     "text": [
      "TPSA(Tot)    0\n",
      "SAacc        0\n",
      "H-050        0\n",
      "MLOGP        0\n",
      "RDCHI        0\n",
      "GATS1p       0\n",
      "nN           0\n",
      "C-040        0\n",
      "LC50         0\n",
      "dtype: int64\n",
      "<class 'pandas.core.frame.DataFrame'>\n",
      "RangeIndex: 546 entries, 0 to 545\n",
      "Data columns (total 9 columns):\n",
      "TPSA(Tot)    546 non-null float64\n",
      "SAacc        546 non-null float64\n",
      "H-050        546 non-null int64\n",
      "MLOGP        546 non-null float64\n",
      "RDCHI        546 non-null float64\n",
      "GATS1p       546 non-null float64\n",
      "nN           546 non-null int64\n",
      "C-040        546 non-null int64\n",
      "LC50         546 non-null float64\n",
      "dtypes: float64(6), int64(3)\n",
      "memory usage: 38.5 KB\n"
     ]
    }
   ],
   "source": [
    "# A clean dataset with no NULL values and all numeric values\n",
    "print(df_aquatic_toxicity.isnull().sum())\n",
    "df_aquatic_toxicity.info()"
   ]
  },
  {
   "cell_type": "code",
   "execution_count": 4,
   "metadata": {},
   "outputs": [
    {
     "data": {
      "text/html": [
       "<div>\n",
       "<style scoped>\n",
       "    .dataframe tbody tr th:only-of-type {\n",
       "        vertical-align: middle;\n",
       "    }\n",
       "\n",
       "    .dataframe tbody tr th {\n",
       "        vertical-align: top;\n",
       "    }\n",
       "\n",
       "    .dataframe thead th {\n",
       "        text-align: right;\n",
       "    }\n",
       "</style>\n",
       "<table border=\"1\" class=\"dataframe\">\n",
       "  <thead>\n",
       "    <tr style=\"text-align: right;\">\n",
       "      <th></th>\n",
       "      <th>TPSA(Tot)</th>\n",
       "      <th>SAacc</th>\n",
       "      <th>H-050</th>\n",
       "      <th>MLOGP</th>\n",
       "      <th>RDCHI</th>\n",
       "      <th>GATS1p</th>\n",
       "      <th>nN</th>\n",
       "      <th>C-040</th>\n",
       "      <th>LC50</th>\n",
       "    </tr>\n",
       "  </thead>\n",
       "  <tbody>\n",
       "    <tr>\n",
       "      <th>0</th>\n",
       "      <td>0.00</td>\n",
       "      <td>0.0</td>\n",
       "      <td>0</td>\n",
       "      <td>2.419</td>\n",
       "      <td>1.225</td>\n",
       "      <td>0.667</td>\n",
       "      <td>0</td>\n",
       "      <td>0</td>\n",
       "      <td>3.740</td>\n",
       "    </tr>\n",
       "    <tr>\n",
       "      <th>1</th>\n",
       "      <td>0.00</td>\n",
       "      <td>0.0</td>\n",
       "      <td>0</td>\n",
       "      <td>2.638</td>\n",
       "      <td>1.401</td>\n",
       "      <td>0.632</td>\n",
       "      <td>0</td>\n",
       "      <td>0</td>\n",
       "      <td>4.330</td>\n",
       "    </tr>\n",
       "    <tr>\n",
       "      <th>2</th>\n",
       "      <td>9.23</td>\n",
       "      <td>11.0</td>\n",
       "      <td>0</td>\n",
       "      <td>5.799</td>\n",
       "      <td>2.930</td>\n",
       "      <td>0.486</td>\n",
       "      <td>0</td>\n",
       "      <td>0</td>\n",
       "      <td>7.019</td>\n",
       "    </tr>\n",
       "    <tr>\n",
       "      <th>3</th>\n",
       "      <td>9.23</td>\n",
       "      <td>11.0</td>\n",
       "      <td>0</td>\n",
       "      <td>5.453</td>\n",
       "      <td>2.887</td>\n",
       "      <td>0.495</td>\n",
       "      <td>0</td>\n",
       "      <td>0</td>\n",
       "      <td>6.723</td>\n",
       "    </tr>\n",
       "    <tr>\n",
       "      <th>4</th>\n",
       "      <td>9.23</td>\n",
       "      <td>11.0</td>\n",
       "      <td>0</td>\n",
       "      <td>4.068</td>\n",
       "      <td>2.758</td>\n",
       "      <td>0.695</td>\n",
       "      <td>0</td>\n",
       "      <td>0</td>\n",
       "      <td>5.979</td>\n",
       "    </tr>\n",
       "  </tbody>\n",
       "</table>\n",
       "</div>"
      ],
      "text/plain": [
       "   TPSA(Tot)  SAacc  H-050  MLOGP  RDCHI  GATS1p  nN  C-040   LC50\n",
       "0       0.00    0.0      0  2.419  1.225   0.667   0      0  3.740\n",
       "1       0.00    0.0      0  2.638  1.401   0.632   0      0  4.330\n",
       "2       9.23   11.0      0  5.799  2.930   0.486   0      0  7.019\n",
       "3       9.23   11.0      0  5.453  2.887   0.495   0      0  6.723\n",
       "4       9.23   11.0      0  4.068  2.758   0.695   0      0  5.979"
      ]
     },
     "execution_count": 4,
     "metadata": {},
     "output_type": "execute_result"
    }
   ],
   "source": [
    "df_aquatic_toxicity.head()"
   ]
  },
  {
   "cell_type": "code",
   "execution_count": 5,
   "metadata": {},
   "outputs": [
    {
     "data": {
      "text/html": [
       "<div>\n",
       "<style scoped>\n",
       "    .dataframe tbody tr th:only-of-type {\n",
       "        vertical-align: middle;\n",
       "    }\n",
       "\n",
       "    .dataframe tbody tr th {\n",
       "        vertical-align: top;\n",
       "    }\n",
       "\n",
       "    .dataframe thead th {\n",
       "        text-align: right;\n",
       "    }\n",
       "</style>\n",
       "<table border=\"1\" class=\"dataframe\">\n",
       "  <thead>\n",
       "    <tr style=\"text-align: right;\">\n",
       "      <th></th>\n",
       "      <th>TPSA(Tot)</th>\n",
       "      <th>SAacc</th>\n",
       "      <th>H-050</th>\n",
       "      <th>MLOGP</th>\n",
       "      <th>RDCHI</th>\n",
       "      <th>GATS1p</th>\n",
       "      <th>nN</th>\n",
       "      <th>C-040</th>\n",
       "      <th>LC50</th>\n",
       "    </tr>\n",
       "  </thead>\n",
       "  <tbody>\n",
       "    <tr>\n",
       "      <th>541</th>\n",
       "      <td>24.06</td>\n",
       "      <td>35.776</td>\n",
       "      <td>2</td>\n",
       "      <td>3.326</td>\n",
       "      <td>2.837</td>\n",
       "      <td>0.849</td>\n",
       "      <td>2</td>\n",
       "      <td>0</td>\n",
       "      <td>4.651</td>\n",
       "    </tr>\n",
       "    <tr>\n",
       "      <th>542</th>\n",
       "      <td>9.23</td>\n",
       "      <td>11.000</td>\n",
       "      <td>0</td>\n",
       "      <td>3.275</td>\n",
       "      <td>2.727</td>\n",
       "      <td>0.874</td>\n",
       "      <td>0</td>\n",
       "      <td>0</td>\n",
       "      <td>3.953</td>\n",
       "    </tr>\n",
       "    <tr>\n",
       "      <th>543</th>\n",
       "      <td>0.00</td>\n",
       "      <td>0.000</td>\n",
       "      <td>0</td>\n",
       "      <td>5.165</td>\n",
       "      <td>3.111</td>\n",
       "      <td>0.732</td>\n",
       "      <td>0</td>\n",
       "      <td>0</td>\n",
       "      <td>6.219</td>\n",
       "    </tr>\n",
       "    <tr>\n",
       "      <th>544</th>\n",
       "      <td>13.14</td>\n",
       "      <td>9.507</td>\n",
       "      <td>0</td>\n",
       "      <td>2.859</td>\n",
       "      <td>2.614</td>\n",
       "      <td>0.827</td>\n",
       "      <td>0</td>\n",
       "      <td>0</td>\n",
       "      <td>4.995</td>\n",
       "    </tr>\n",
       "    <tr>\n",
       "      <th>545</th>\n",
       "      <td>0.00</td>\n",
       "      <td>0.000</td>\n",
       "      <td>0</td>\n",
       "      <td>2.255</td>\n",
       "      <td>1.800</td>\n",
       "      <td>0.917</td>\n",
       "      <td>0</td>\n",
       "      <td>0</td>\n",
       "      <td>2.480</td>\n",
       "    </tr>\n",
       "  </tbody>\n",
       "</table>\n",
       "</div>"
      ],
      "text/plain": [
       "     TPSA(Tot)   SAacc  H-050  MLOGP  RDCHI  GATS1p  nN  C-040   LC50\n",
       "541      24.06  35.776      2  3.326  2.837   0.849   2      0  4.651\n",
       "542       9.23  11.000      0  3.275  2.727   0.874   0      0  3.953\n",
       "543       0.00   0.000      0  5.165  3.111   0.732   0      0  6.219\n",
       "544      13.14   9.507      0  2.859  2.614   0.827   0      0  4.995\n",
       "545       0.00   0.000      0  2.255  1.800   0.917   0      0  2.480"
      ]
     },
     "execution_count": 5,
     "metadata": {},
     "output_type": "execute_result"
    }
   ],
   "source": [
    "df_aquatic_toxicity.tail()"
   ]
  },
  {
   "cell_type": "code",
   "execution_count": 6,
   "metadata": {},
   "outputs": [
    {
     "data": {
      "image/png": "[encoded data removed]",
      "text/plain": [
       "<Figure size 720x720 with 2 Axes>"
      ]
     },
     "metadata": {
      "needs_background": "light"
     },
     "output_type": "display_data"
    }
   ],
   "source": [
    "#Analysing Correlation between various features of the aquatic toxicity dataset\n",
    "aquatic_toxicity_corr = df_aquatic_toxicity.corr()\n",
    "figure, ax = plt.subplots(figsize = (10,10))\n",
    "ax.set_title('Correlation Matrix for aquatic toxicity data-set')\n",
    "matrix = sns.heatmap(aquatic_toxicity_corr,ax=ax, annot= True)"
   ]
  },
  {
   "cell_type": "code",
   "execution_count": 7,
   "metadata": {},
   "outputs": [],
   "source": [
    "#Feature Selection by dropping features having correlation less than 0.05 with target variable quality\n",
    "abs_val_aquatic_toxicity_corr = aquatic_toxicity_corr['LC50'].drop('LC50').abs()\n",
    "imp_feature_idx = abs_val_aquatic_toxicity_corr[abs_val_aquatic_toxicity_corr > 0.05].index.values.tolist()"
   ]
  },
  {
   "cell_type": "code",
   "execution_count": 8,
   "metadata": {},
   "outputs": [],
   "source": [
    "#Preparing the final dataset\n",
    "x = df_aquatic_toxicity[imp_feature_idx] \n",
    "y = df_aquatic_toxicity['LC50']"
   ]
  },
  {
   "cell_type": "code",
   "execution_count": 9,
   "metadata": {},
   "outputs": [],
   "source": [
    "#Creating Traning and test set\n",
    "x_train,x_test,y_train,y_test = train_test_split(x,y,test_size=0.33,random_state=0)"
   ]
  },
  {
   "cell_type": "code",
   "execution_count": 10,
   "metadata": {},
   "outputs": [],
   "source": [
    "#Standardizing the prepared training and test data\n",
    "scaler = preprocessing.StandardScaler().fit(x_train)\n",
    "x_train_scaled = scaler.transform(x_train)\n",
    "x_test_scaled = scaler.transform(x_test)"
   ]
  },
  {
   "cell_type": "code",
   "execution_count": 11,
   "metadata": {},
   "outputs": [],
   "source": [
    "def svr_param_selection(X, y, nfolds):\n",
    "    Kernels = ['linear', 'poly', 'rbf']\n",
    "    Cs = [0.001, 0.01, 0.1, 1]\n",
    "    Gammas = [0.001, 0.01, 0.1]\n",
    "    param_grid = {'kernel':Kernels, 'C': Cs, 'gamma' : Gammas}\n",
    "    grid_search = GridSearchCV(SVR(), param_grid, cv=nfolds, n_jobs=-1)\n",
    "    grid_search.fit(X, y)\n",
    "    print('SVR Lowest MSE Score: '+str(grid_search.best_score_))\n",
    "    print('SVR With Parameters: '+str(grid_search.best_params_))    \n",
    "    return grid_search.best_params_"
   ]
  },
  {
   "cell_type": "code",
   "execution_count": 12,
   "metadata": {},
   "outputs": [],
   "source": [
    "def random_forest_regressor_param_selection(X, y, nfolds):\n",
    "    Estimators = np.arange(1,100,15)\n",
    "    Max_features = ['auto', 'sqrt']\n",
    "    Min_samples_leafs = np.linspace(0.01, 0.05, 5, endpoint=True)\n",
    "    param_grid = {'n_estimators': Estimators, 'max_features': Max_features, 'min_samples_leaf': Min_samples_leafs}\n",
    "    grid_search = GridSearchCV(RandomForestRegressor(random_state=0), param_grid, cv=nfolds, n_jobs=-1)\n",
    "    grid_search.fit(X, y)\n",
    "    print('RandomForestRegressor Lowest MSE Score: '+str(grid_search.best_score_))\n",
    "    print('RandomForestRegressor With Parameters: '+str(grid_search.best_params_))    \n",
    "    return grid_search.best_params_"
   ]
  },
  {
   "cell_type": "code",
   "execution_count": 13,
   "metadata": {},
   "outputs": [],
   "source": [
    "def decision_tree_regressor_param_selection(X, y, nfolds):\n",
    "    Max_features = ['auto', 'sqrt']\n",
    "    Min_samples_leafs = np.linspace(0.01, 0.05, 5, endpoint=True)\n",
    "    param_grid = {'max_features': Max_features, 'min_samples_leaf': Min_samples_leafs}\n",
    "    grid_search = GridSearchCV(DecisionTreeRegressor(random_state=0), param_grid, cv=nfolds, n_jobs=-1)\n",
    "    grid_search.fit(X, y)\n",
    "    print('DecisionTreeRegressor Lowest MSE Score: '+str(grid_search.best_score_))\n",
    "    print('DecisionTreeRegressor With Parameters: '+str(grid_search.best_params_))    \n",
    "    return grid_search.best_params_"
   ]
  },
  {
   "cell_type": "code",
   "execution_count": 14,
   "metadata": {},
   "outputs": [],
   "source": [
    "def ada_boost_regressor_param_selection(X, y, nfolds):\n",
    "    Estimators = np.arange(1,100,15)\n",
    "    Learning_rates = [0.01,0.05,0.1,0.3]\n",
    "    Losses = ['linear', 'square', 'exponential']\n",
    "    param_grid = {'n_estimators': Estimators, 'learning_rate': Learning_rates, 'loss': Losses}\n",
    "    grid_search = GridSearchCV(AdaBoostRegressor(base_estimator=DecisionTreeRegressor(random_state=0),random_state=0), param_grid, cv=nfolds, n_jobs=-1)\n",
    "    grid_search.fit(X, y)\n",
    "    print('AdaBoostRegressor Lowest MSE Score:'+str(grid_search.best_score_))\n",
    "    print('AdaBoostRegressor With Parameters:'+str(grid_search.best_params_))    \n",
    "    return grid_search.best_params_"
   ]
  },
  {
   "cell_type": "code",
   "execution_count": 15,
   "metadata": {},
   "outputs": [],
   "source": [
    "def gaussian_regressor_param_selection(X, y, nfolds):\n",
    "    kernel_rbf = ConstantKernel(1.0, constant_value_bounds=\"fixed\") * RBF(1.0, length_scale_bounds=\"fixed\")\n",
    "    kernel_rq = ConstantKernel(1.0, constant_value_bounds=\"fixed\") * RationalQuadratic(alpha=0.1, length_scale=1)\n",
    "    kernel_expsine = ConstantKernel(1.0, constant_value_bounds=\"fixed\") * ExpSineSquared(1.0, 5.0, periodicity_bounds=(1e-2, 1e1))\n",
    "    Kernels = [kernel_rbf, kernel_rq]\n",
    "    param_grid = {'kernel': Kernels}\n",
    "    grid_search = GridSearchCV(GaussianProcessRegressor(random_state=0), param_grid, cv=nfolds, n_jobs=-1)\n",
    "    grid_search.fit(X, y)\n",
    "    print('GaussianRegressor Lowest MSE Score:'+str(grid_search.best_score_))\n",
    "    print('GaussianRegressor With Parameters:'+str(grid_search.best_params_))    \n",
    "    return grid_search.best_params_"
   ]
  },
  {
   "cell_type": "code",
   "execution_count": 16,
   "metadata": {},
   "outputs": [],
   "source": [
    "def linear_regressor_param_selection(X, y, nfolds):\n",
    "    param_grid = {'fit_intercept':[True,False], 'normalize':[True,False], 'copy_X':[True, False]}\n",
    "    grid_search = GridSearchCV(LinearRegression(), param_grid, cv=nfolds, n_jobs=-1)\n",
    "    grid_search.fit(X, y)\n",
    "    print('LinearRegressor Lowest MSE Score:'+str(grid_search.best_score_))\n",
    "    print('LinearRegressor With Parameters:'+str(grid_search.best_params_))    \n",
    "    return grid_search.best_params_"
   ]
  },
  {
   "cell_type": "code",
   "execution_count": 17,
   "metadata": {},
   "outputs": [],
   "source": [
    "def neural_network_regressor_param_selection(X, y, nfolds):\n",
    "    Learning_rates = ['constant','adaptive']\n",
    "    Learning_rates_init = [0.001, 0.01, 0.1, 0.3]\n",
    "    Hidden_Layer_Sizes = [1, 5, 10, (5,5), (10,5)]\n",
    "    Activations = ['logistic', 'tanh', 'relu']\n",
    "    Alphas = [0.0001,0.002]\n",
    "    param_grid = {'learning_rate': Learning_rates, 'learning_rate_init': Learning_rates_init, 'hidden_layer_sizes': Hidden_Layer_Sizes, 'activation': Activations, 'alpha': Alphas}\n",
    "    grid_search = GridSearchCV(MLPRegressor(max_iter=900), param_grid, cv=nfolds, n_jobs=-1)\n",
    "    grid_search.fit(X, y)\n",
    "    print('NeuralNetworkRegressor Lowest MSE Score:'+str(grid_search.best_score_))\n",
    "    print('NeuralNetworkRegressor With Parameters:'+str(grid_search.best_params_))    \n",
    "    return grid_search.best_params_"
   ]
  },
  {
   "cell_type": "code",
   "execution_count": 18,
   "metadata": {},
   "outputs": [
    {
     "name": "stdout",
     "output_type": "stream",
     "text": [
      "now =2019-12-06 18:12:34.216200\n",
      "SVR Lowest MSE Score: 0.41907102558228887\n",
      "SVR With Parameters: {'C': 1, 'gamma': 0.1, 'kernel': 'rbf'}\n",
      "now =2019-12-06 18:12:51.769331\n",
      "RandomForestRegressor Lowest MSE Score: 0.49159993831886084\n",
      "RandomForestRegressor With Parameters: {'max_features': 'sqrt', 'min_samples_leaf': 0.01, 'n_estimators': 61}\n",
      "now =2019-12-06 18:13:17.741182\n",
      "DecisionTreeRegressor Lowest MSE Score: 0.3371764673707277\n",
      "DecisionTreeRegressor With Parameters: {'max_features': 'sqrt', 'min_samples_leaf': 0.05}\n",
      "now =2019-12-06 18:13:33.241238\n",
      "AdaBoostRegressor Lowest MSE Score:0.49993006916435734\n",
      "AdaBoostRegressor With Parameters:{'learning_rate': 0.1, 'loss': 'linear', 'n_estimators': 31}\n",
      "now =2019-12-06 18:14:02.878235\n",
      "LinearRegressor Lowest MSE Score:0.39552936263224786\n",
      "LinearRegressor With Parameters:{'copy_X': True, 'fit_intercept': True, 'normalize': True}\n",
      "now =2019-12-06 18:14:21.241642\n",
      "NeuralNetworkRegressor Lowest MSE Score:0.442970843810184\n",
      "NeuralNetworkRegressor With Parameters:{'activation': 'tanh', 'alpha': 0.0001, 'hidden_layer_sizes': 10, 'learning_rate': 'constant', 'learning_rate_init': 0.01}\n",
      "now =2019-12-06 18:17:37.803916\n"
     ]
    }
   ],
   "source": [
    "#Using the 3-Fold HyperParam Search to evaluate the best hyperparams for each model\n",
    "print(\"now =\"+str(datetime.now()))\n",
    "svr_best_param           = svr_param_selection(x_train_scaled, y_train, 3)\n",
    "print(\"now =\"+str(datetime.now()))\n",
    "random_forest_best_param = random_forest_regressor_param_selection(x_train_scaled, y_train, 3)\n",
    "print(\"now =\"+str(datetime.now()))\n",
    "decision_tree_best_param = decision_tree_regressor_param_selection(x_train_scaled, y_train, 3)\n",
    "print(\"now =\"+str(datetime.now()))\n",
    "ada_boost_best_param     = ada_boost_regressor_param_selection(x_train_scaled, y_train, 3)\n",
    "print(\"now =\"+str(datetime.now()))\n",
    "linear_best_param         = linear_regressor_param_selection(x_train_scaled, y_train, 3)\n",
    "print(\"now =\"+str(datetime.now()))\n",
    "neural_network_best_param = neural_network_regressor_param_selection(x_train_scaled, y_train, 3)\n",
    "print(\"now =\"+str(datetime.now()))\n"
   ]
  },
  {
   "cell_type": "code",
   "execution_count": 19,
   "metadata": {},
   "outputs": [
    {
     "name": "stdout",
     "output_type": "stream",
     "text": [
      "GaussianRegressor Lowest MSE Score:0.4756977963819313\n",
      "GaussianRegressor With Parameters:{'kernel': 1**2 * RationalQuadratic(alpha=0.1, length_scale=1)}\n",
      "now =2019-12-06 18:17:56.247334\n"
     ]
    },
    {
     "name": "stderr",
     "output_type": "stream",
     "text": [
      "C:\\Users\\Loveshant\\Anaconda3\\lib\\site-packages\\sklearn\\gaussian_process\\gpr.py:457: UserWarning: fmin_l_bfgs_b terminated abnormally with the  state: {'grad': array([-5084.82691753,   771.27262184]), 'task': b'ABNORMAL_TERMINATION_IN_LNSRCH', 'funcalls': 43, 'nit': 1, 'warnflag': 2}\n",
      "  \" state: %s\" % convergence_dict)\n"
     ]
    }
   ],
   "source": [
    "gaussian_best_param       = gaussian_regressor_param_selection(x_train_scaled, y_train, 3)\n",
    "print(\"now =\"+str(datetime.now()))"
   ]
  },
  {
   "cell_type": "code",
   "execution_count": 21,
   "metadata": {},
   "outputs": [
    {
     "name": "stdout",
     "output_type": "stream",
     "text": [
      "MSE for SVR: 1.7511001986669095\n"
     ]
    }
   ],
   "source": [
    "best_svr = SVR(C=1, gamma=0.1, kernel='rbf')\n",
    "best_svr.fit(x_train_scaled, y_train)\n",
    "y_pred = best_svr.predict(x_test_scaled)\n",
    "print('MSE for SVR: '+str(mean_squared_error(y_test, y_pred)))\n"
   ]
  },
  {
   "cell_type": "code",
   "execution_count": 23,
   "metadata": {},
   "outputs": [
    {
     "name": "stdout",
     "output_type": "stream",
     "text": [
      "MSE for Decision Tree Regressor: 2.037431998402202\n"
     ]
    }
   ],
   "source": [
    "best_decision_tree_regressor = DecisionTreeRegressor(max_features='sqrt', min_samples_leaf=0.05, random_state=0)\n",
    "best_decision_tree_regressor.fit(x_train_scaled, y_train)\n",
    "y_pred = best_decision_tree_regressor.predict(x_test_scaled)\n",
    "print('MSE for Decision Tree Regressor: '+str(mean_squared_error(y_test, y_pred)))"
   ]
  },
  {
   "cell_type": "code",
   "execution_count": 24,
   "metadata": {},
   "outputs": [
    {
     "name": "stdout",
     "output_type": "stream",
     "text": [
      "MSE for Random Forest Regressor: 1.6563803646437563\n"
     ]
    }
   ],
   "source": [
    "best_random_forest_regressor = RandomForestRegressor(max_features='sqrt', min_samples_leaf=0.01, n_estimators=61, random_state=0)\n",
    "best_random_forest_regressor.fit(x_train_scaled, y_train)\n",
    "y_pred = best_random_forest_regressor.predict(x_test_scaled)\n",
    "print('MSE for Random Forest Regressor: '+str(mean_squared_error(y_test, y_pred)))"
   ]
  },
  {
   "cell_type": "code",
   "execution_count": 25,
   "metadata": {},
   "outputs": [
    {
     "name": "stdout",
     "output_type": "stream",
     "text": [
      "MSE for AdaBoost Regressor: 1.7097962573250063\n"
     ]
    }
   ],
   "source": [
    "best_ada_boost_regressor = AdaBoostRegressor(learning_rate=0.1, loss='linear', n_estimators=31, random_state=0)\n",
    "best_ada_boost_regressor.fit(x_train_scaled, y_train)\n",
    "y_pred = best_ada_boost_regressor.predict(x_test_scaled)\n",
    "print('MSE for AdaBoost Regressor: '+str(mean_squared_error(y_test, y_pred)))"
   ]
  },
  {
   "cell_type": "code",
   "execution_count": 26,
   "metadata": {},
   "outputs": [
    {
     "name": "stdout",
     "output_type": "stream",
     "text": [
      "MSE for Linear Regressor: 1.7211188166775946\n"
     ]
    }
   ],
   "source": [
    "best_linear_regressor = LinearRegression(copy_X=True, fit_intercept=True, normalize=True)\n",
    "best_linear_regressor.fit(x_train_scaled, y_train)\n",
    "y_pred = best_linear_regressor.predict(x_test_scaled)\n",
    "print('MSE for Linear Regressor: '+str(mean_squared_error(y_test, y_pred)))"
   ]
  },
  {
   "cell_type": "code",
   "execution_count": 27,
   "metadata": {},
   "outputs": [
    {
     "name": "stdout",
     "output_type": "stream",
     "text": [
      "MSE for Neural Network Regressor: 1.7380615059158095\n"
     ]
    },
    {
     "name": "stderr",
     "output_type": "stream",
     "text": [
      "C:\\Users\\Loveshant\\Anaconda3\\lib\\site-packages\\sklearn\\neural_network\\multilayer_perceptron.py:564: ConvergenceWarning: Stochastic Optimizer: Maximum iterations (200) reached and the optimization hasn't converged yet.\n",
      "  % self.max_iter, ConvergenceWarning)\n"
     ]
    }
   ],
   "source": [
    "best_neural_network_regressor = MLPRegressor(activation='tanh', alpha=0.0001, hidden_layer_sizes=10, learning_rate='constant', learning_rate_init=0.01, random_state=0)\n",
    "best_neural_network_regressor.fit(x_train_scaled, y_train)\n",
    "y_pred = best_neural_network_regressor.predict(x_test_scaled)\n",
    "print('MSE for Neural Network Regressor: '+str(mean_squared_error(y_test, y_pred)))"
   ]
  },
  {
   "cell_type": "code",
   "execution_count": 28,
   "metadata": {},
   "outputs": [
    {
     "name": "stdout",
     "output_type": "stream",
     "text": [
      "MSE for Gaussian Regressor: 1.5927997382325982\n"
     ]
    }
   ],
   "source": [
    "best_gaussian_regressor = GaussianProcessRegressor(kernel=1**2 * RationalQuadratic(alpha=0.1, length_scale=1))\n",
    "best_gaussian_regressor.fit(x_train_scaled, y_train)\n",
    "y_pred = best_gaussian_regressor.predict(x_test_scaled)\n",
    "print('MSE for Gaussian Regressor: '+str(mean_squared_error(y_test, y_pred)))"
   ]
  },
  {
   "cell_type": "code",
   "execution_count": null,
   "metadata": {},
   "outputs": [],
   "source": []
  }
 ],
 "metadata": {
  "kernelspec": {
   "display_name": "Python 3",
   "language": "python",
   "name": "python3"
  },
  "language_info": {
   "codemirror_mode": {
    "name": "ipython",
    "version": 3
   },
   "file_extension": ".py",
   "mimetype": "text/x-python",
   "name": "python",
   "nbconvert_exporter": "python",
   "pygments_lexer": "ipython3",
   "version": "3.7.0"
  }
 },
 "nbformat": 4,
 "nbformat_minor": 2
}
