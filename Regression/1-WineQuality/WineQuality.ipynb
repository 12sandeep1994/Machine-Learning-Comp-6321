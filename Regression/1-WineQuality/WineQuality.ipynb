{
 "cells": [
  {
   "cell_type": "code",
   "execution_count": 1,
   "metadata": {},
   "outputs": [],
   "source": [
    "import numpy as np \n",
    "import pandas as pd\n",
    "import matplotlib.pyplot as plt \n",
    "import seaborn as sns\n",
    "\n",
    "from sklearn import preprocessing\n",
    "from sklearn.model_selection import train_test_split\n",
    "from sklearn.model_selection import KFold\n",
    "from sklearn.model_selection import cross_val_score\n",
    "from sklearn.metrics import mean_squared_error\n",
    "from sklearn.model_selection import GridSearchCV\n",
    "from sklearn.metrics import accuracy_score\n",
    "\n",
    "from sklearn.svm import SVR\n",
    "from sklearn.tree import DecisionTreeRegressor\n",
    "from sklearn.ensemble import RandomForestRegressor\n",
    "from sklearn.ensemble import AdaBoostRegressor\n",
    "from sklearn.gaussian_process import GaussianProcessRegressor\n",
    "from sklearn.gaussian_process.kernels import RBF, RationalQuadratic, ExpSineSquared, ConstantKernel\n",
    "from sklearn.linear_model import LinearRegression\n",
    "from sklearn.neural_network import MLPRegressor\n",
    "from datetime import datetime"
   ]
  },
  {
   "cell_type": "code",
   "execution_count": 2,
   "metadata": {},
   "outputs": [],
   "source": [
    "# Data-Set has two different wine types Red-White\n",
    "#importing the Dataset\n",
    "df_red_wine = pd.read_csv('winequality-red.csv',sep=';')\n",
    "df_white_wine = pd.read_csv('winequality-white.csv',sep=';')\n",
    "\n",
    "#adding a new column Type - 1(Red Wine), 2(White Wine), to datasets\n",
    "df_red_wine['type'] = 1.0\n",
    "df_white_wine['type'] = 2.0\n",
    "\n",
    "#Combining datasets to one \n",
    "df_wine = pd.concat([df_red_wine, df_white_wine], axis=0)"
   ]
  },
  {
   "cell_type": "code",
   "execution_count": 3,
   "metadata": {},
   "outputs": [
    {
     "name": "stdout",
     "output_type": "stream",
     "text": [
      "fixed acidity           0\n",
      "volatile acidity        0\n",
      "citric acid             0\n",
      "residual sugar          0\n",
      "chlorides               0\n",
      "free sulfur dioxide     0\n",
      "total sulfur dioxide    0\n",
      "density                 0\n",
      "pH                      0\n",
      "sulphates               0\n",
      "alcohol                 0\n",
      "quality                 0\n",
      "type                    0\n",
      "dtype: int64\n",
      "<class 'pandas.core.frame.DataFrame'>\n",
      "Int64Index: 6497 entries, 0 to 4897\n",
      "Data columns (total 13 columns):\n",
      "fixed acidity           6497 non-null float64\n",
      "volatile acidity        6497 non-null float64\n",
      "citric acid             6497 non-null float64\n",
      "residual sugar          6497 non-null float64\n",
      "chlorides               6497 non-null float64\n",
      "free sulfur dioxide     6497 non-null float64\n",
      "total sulfur dioxide    6497 non-null float64\n",
      "density                 6497 non-null float64\n",
      "pH                      6497 non-null float64\n",
      "sulphates               6497 non-null float64\n",
      "alcohol                 6497 non-null float64\n",
      "quality                 6497 non-null int64\n",
      "type                    6497 non-null float64\n",
      "dtypes: float64(12), int64(1)\n",
      "memory usage: 710.6 KB\n"
     ]
    }
   ],
   "source": [
    "# A clean dataset with no NULL values and all numeric values\n",
    "print(df_wine.isnull().sum())\n",
    "df_wine.info()"
   ]
  },
  {
   "cell_type": "code",
   "execution_count": 4,
   "metadata": {},
   "outputs": [
    {
     "data": {
      "text/html": [
       "<div>\n",
       "<style scoped>\n",
       "    .dataframe tbody tr th:only-of-type {\n",
       "        vertical-align: middle;\n",
       "    }\n",
       "\n",
       "    .dataframe tbody tr th {\n",
       "        vertical-align: top;\n",
       "    }\n",
       "\n",
       "    .dataframe thead th {\n",
       "        text-align: right;\n",
       "    }\n",
       "</style>\n",
       "<table border=\"1\" class=\"dataframe\">\n",
       "  <thead>\n",
       "    <tr style=\"text-align: right;\">\n",
       "      <th></th>\n",
       "      <th>fixed acidity</th>\n",
       "      <th>volatile acidity</th>\n",
       "      <th>citric acid</th>\n",
       "      <th>residual sugar</th>\n",
       "      <th>chlorides</th>\n",
       "      <th>free sulfur dioxide</th>\n",
       "      <th>total sulfur dioxide</th>\n",
       "      <th>density</th>\n",
       "      <th>pH</th>\n",
       "      <th>sulphates</th>\n",
       "      <th>alcohol</th>\n",
       "      <th>quality</th>\n",
       "      <th>type</th>\n",
       "    </tr>\n",
       "  </thead>\n",
       "  <tbody>\n",
       "    <tr>\n",
       "      <th>0</th>\n",
       "      <td>7.4</td>\n",
       "      <td>0.70</td>\n",
       "      <td>0.00</td>\n",
       "      <td>1.9</td>\n",
       "      <td>0.076</td>\n",
       "      <td>11.0</td>\n",
       "      <td>34.0</td>\n",
       "      <td>0.9978</td>\n",
       "      <td>3.51</td>\n",
       "      <td>0.56</td>\n",
       "      <td>9.4</td>\n",
       "      <td>5</td>\n",
       "      <td>1.0</td>\n",
       "    </tr>\n",
       "    <tr>\n",
       "      <th>1</th>\n",
       "      <td>7.8</td>\n",
       "      <td>0.88</td>\n",
       "      <td>0.00</td>\n",
       "      <td>2.6</td>\n",
       "      <td>0.098</td>\n",
       "      <td>25.0</td>\n",
       "      <td>67.0</td>\n",
       "      <td>0.9968</td>\n",
       "      <td>3.20</td>\n",
       "      <td>0.68</td>\n",
       "      <td>9.8</td>\n",
       "      <td>5</td>\n",
       "      <td>1.0</td>\n",
       "    </tr>\n",
       "    <tr>\n",
       "      <th>2</th>\n",
       "      <td>7.8</td>\n",
       "      <td>0.76</td>\n",
       "      <td>0.04</td>\n",
       "      <td>2.3</td>\n",
       "      <td>0.092</td>\n",
       "      <td>15.0</td>\n",
       "      <td>54.0</td>\n",
       "      <td>0.9970</td>\n",
       "      <td>3.26</td>\n",
       "      <td>0.65</td>\n",
       "      <td>9.8</td>\n",
       "      <td>5</td>\n",
       "      <td>1.0</td>\n",
       "    </tr>\n",
       "    <tr>\n",
       "      <th>3</th>\n",
       "      <td>11.2</td>\n",
       "      <td>0.28</td>\n",
       "      <td>0.56</td>\n",
       "      <td>1.9</td>\n",
       "      <td>0.075</td>\n",
       "      <td>17.0</td>\n",
       "      <td>60.0</td>\n",
       "      <td>0.9980</td>\n",
       "      <td>3.16</td>\n",
       "      <td>0.58</td>\n",
       "      <td>9.8</td>\n",
       "      <td>6</td>\n",
       "      <td>1.0</td>\n",
       "    </tr>\n",
       "    <tr>\n",
       "      <th>4</th>\n",
       "      <td>7.4</td>\n",
       "      <td>0.70</td>\n",
       "      <td>0.00</td>\n",
       "      <td>1.9</td>\n",
       "      <td>0.076</td>\n",
       "      <td>11.0</td>\n",
       "      <td>34.0</td>\n",
       "      <td>0.9978</td>\n",
       "      <td>3.51</td>\n",
       "      <td>0.56</td>\n",
       "      <td>9.4</td>\n",
       "      <td>5</td>\n",
       "      <td>1.0</td>\n",
       "    </tr>\n",
       "  </tbody>\n",
       "</table>\n",
       "</div>"
      ],
      "text/plain": [
       "   fixed acidity  volatile acidity  citric acid  residual sugar  chlorides  \\\n",
       "0            7.4              0.70         0.00             1.9      0.076   \n",
       "1            7.8              0.88         0.00             2.6      0.098   \n",
       "2            7.8              0.76         0.04             2.3      0.092   \n",
       "3           11.2              0.28         0.56             1.9      0.075   \n",
       "4            7.4              0.70         0.00             1.9      0.076   \n",
       "\n",
       "   free sulfur dioxide  total sulfur dioxide  density    pH  sulphates  \\\n",
       "0                 11.0                  34.0   0.9978  3.51       0.56   \n",
       "1                 25.0                  67.0   0.9968  3.20       0.68   \n",
       "2                 15.0                  54.0   0.9970  3.26       0.65   \n",
       "3                 17.0                  60.0   0.9980  3.16       0.58   \n",
       "4                 11.0                  34.0   0.9978  3.51       0.56   \n",
       "\n",
       "   alcohol  quality  type  \n",
       "0      9.4        5   1.0  \n",
       "1      9.8        5   1.0  \n",
       "2      9.8        5   1.0  \n",
       "3      9.8        6   1.0  \n",
       "4      9.4        5   1.0  "
      ]
     },
     "execution_count": 4,
     "metadata": {},
     "output_type": "execute_result"
    }
   ],
   "source": [
    "df_wine.head()"
   ]
  },
  {
   "cell_type": "code",
   "execution_count": 5,
   "metadata": {},
   "outputs": [
    {
     "data": {
      "text/html": [
       "<div>\n",
       "<style scoped>\n",
       "    .dataframe tbody tr th:only-of-type {\n",
       "        vertical-align: middle;\n",
       "    }\n",
       "\n",
       "    .dataframe tbody tr th {\n",
       "        vertical-align: top;\n",
       "    }\n",
       "\n",
       "    .dataframe thead th {\n",
       "        text-align: right;\n",
       "    }\n",
       "</style>\n",
       "<table border=\"1\" class=\"dataframe\">\n",
       "  <thead>\n",
       "    <tr style=\"text-align: right;\">\n",
       "      <th></th>\n",
       "      <th>fixed acidity</th>\n",
       "      <th>volatile acidity</th>\n",
       "      <th>citric acid</th>\n",
       "      <th>residual sugar</th>\n",
       "      <th>chlorides</th>\n",
       "      <th>free sulfur dioxide</th>\n",
       "      <th>total sulfur dioxide</th>\n",
       "      <th>density</th>\n",
       "      <th>pH</th>\n",
       "      <th>sulphates</th>\n",
       "      <th>alcohol</th>\n",
       "      <th>quality</th>\n",
       "      <th>type</th>\n",
       "    </tr>\n",
       "  </thead>\n",
       "  <tbody>\n",
       "    <tr>\n",
       "      <th>4893</th>\n",
       "      <td>6.2</td>\n",
       "      <td>0.21</td>\n",
       "      <td>0.29</td>\n",
       "      <td>1.6</td>\n",
       "      <td>0.039</td>\n",
       "      <td>24.0</td>\n",
       "      <td>92.0</td>\n",
       "      <td>0.99114</td>\n",
       "      <td>3.27</td>\n",
       "      <td>0.50</td>\n",
       "      <td>11.2</td>\n",
       "      <td>6</td>\n",
       "      <td>2.0</td>\n",
       "    </tr>\n",
       "    <tr>\n",
       "      <th>4894</th>\n",
       "      <td>6.6</td>\n",
       "      <td>0.32</td>\n",
       "      <td>0.36</td>\n",
       "      <td>8.0</td>\n",
       "      <td>0.047</td>\n",
       "      <td>57.0</td>\n",
       "      <td>168.0</td>\n",
       "      <td>0.99490</td>\n",
       "      <td>3.15</td>\n",
       "      <td>0.46</td>\n",
       "      <td>9.6</td>\n",
       "      <td>5</td>\n",
       "      <td>2.0</td>\n",
       "    </tr>\n",
       "    <tr>\n",
       "      <th>4895</th>\n",
       "      <td>6.5</td>\n",
       "      <td>0.24</td>\n",
       "      <td>0.19</td>\n",
       "      <td>1.2</td>\n",
       "      <td>0.041</td>\n",
       "      <td>30.0</td>\n",
       "      <td>111.0</td>\n",
       "      <td>0.99254</td>\n",
       "      <td>2.99</td>\n",
       "      <td>0.46</td>\n",
       "      <td>9.4</td>\n",
       "      <td>6</td>\n",
       "      <td>2.0</td>\n",
       "    </tr>\n",
       "    <tr>\n",
       "      <th>4896</th>\n",
       "      <td>5.5</td>\n",
       "      <td>0.29</td>\n",
       "      <td>0.30</td>\n",
       "      <td>1.1</td>\n",
       "      <td>0.022</td>\n",
       "      <td>20.0</td>\n",
       "      <td>110.0</td>\n",
       "      <td>0.98869</td>\n",
       "      <td>3.34</td>\n",
       "      <td>0.38</td>\n",
       "      <td>12.8</td>\n",
       "      <td>7</td>\n",
       "      <td>2.0</td>\n",
       "    </tr>\n",
       "    <tr>\n",
       "      <th>4897</th>\n",
       "      <td>6.0</td>\n",
       "      <td>0.21</td>\n",
       "      <td>0.38</td>\n",
       "      <td>0.8</td>\n",
       "      <td>0.020</td>\n",
       "      <td>22.0</td>\n",
       "      <td>98.0</td>\n",
       "      <td>0.98941</td>\n",
       "      <td>3.26</td>\n",
       "      <td>0.32</td>\n",
       "      <td>11.8</td>\n",
       "      <td>6</td>\n",
       "      <td>2.0</td>\n",
       "    </tr>\n",
       "  </tbody>\n",
       "</table>\n",
       "</div>"
      ],
      "text/plain": [
       "      fixed acidity  volatile acidity  citric acid  residual sugar  chlorides  \\\n",
       "4893            6.2              0.21         0.29             1.6      0.039   \n",
       "4894            6.6              0.32         0.36             8.0      0.047   \n",
       "4895            6.5              0.24         0.19             1.2      0.041   \n",
       "4896            5.5              0.29         0.30             1.1      0.022   \n",
       "4897            6.0              0.21         0.38             0.8      0.020   \n",
       "\n",
       "      free sulfur dioxide  total sulfur dioxide  density    pH  sulphates  \\\n",
       "4893                 24.0                  92.0  0.99114  3.27       0.50   \n",
       "4894                 57.0                 168.0  0.99490  3.15       0.46   \n",
       "4895                 30.0                 111.0  0.99254  2.99       0.46   \n",
       "4896                 20.0                 110.0  0.98869  3.34       0.38   \n",
       "4897                 22.0                  98.0  0.98941  3.26       0.32   \n",
       "\n",
       "      alcohol  quality  type  \n",
       "4893     11.2        6   2.0  \n",
       "4894      9.6        5   2.0  \n",
       "4895      9.4        6   2.0  \n",
       "4896     12.8        7   2.0  \n",
       "4897     11.8        6   2.0  "
      ]
     },
     "execution_count": 5,
     "metadata": {},
     "output_type": "execute_result"
    }
   ],
   "source": [
    "df_wine.tail()"
   ]
  },
  {
   "cell_type": "code",
   "execution_count": 6,
   "metadata": {},
   "outputs": [
    {
     "data": {
      "image/png": "[encoded data removed]",
      "text/plain": [
       "<Figure size 720x720 with 2 Axes>"
      ]
     },
     "metadata": {
      "needs_background": "light"
     },
     "output_type": "display_data"
    }
   ],
   "source": [
    "#Analysing Correlation between various features of the wine dataset\n",
    "wine_corr = df_wine.corr()\n",
    "figure, ax = plt.subplots(figsize = (10,10))\n",
    "ax.set_title('Correlation Matrix for wine data-set')\n",
    "matrix = sns.heatmap(wine_corr,ax=ax, annot= True)"
   ]
  },
  {
   "cell_type": "code",
   "execution_count": 7,
   "metadata": {},
   "outputs": [],
   "source": [
    "#Feature Selection by dropping features having correlation less than 0.05 with target variable quality\n",
    "abs_val_wine_corr = wine_corr['quality'].drop('quality').abs()\n",
    "imp_feature_idx = abs_val_wine_corr[abs_val_wine_corr > 0.05].index.values.tolist()"
   ]
  },
  {
   "cell_type": "code",
   "execution_count": 8,
   "metadata": {},
   "outputs": [],
   "source": [
    "#Preparing the final dataset\n",
    "x = df_wine[imp_feature_idx] \n",
    "y = df_wine['quality']"
   ]
  },
  {
   "cell_type": "code",
   "execution_count": 9,
   "metadata": {},
   "outputs": [],
   "source": [
    "#Creating Traning and test set\n",
    "x_train,x_test,y_train,y_test = train_test_split(x,y,random_state=0,stratify=y)"
   ]
  },
  {
   "cell_type": "code",
   "execution_count": 10,
   "metadata": {},
   "outputs": [],
   "source": [
    "#Standardizing the prepared training and test data\n",
    "scaler = preprocessing.StandardScaler().fit(x_train)\n",
    "x_train_scaled = scaler.transform(x_train)\n",
    "x_test_scaled = scaler.transform(x_test)"
   ]
  },
  {
   "cell_type": "code",
   "execution_count": 11,
   "metadata": {},
   "outputs": [],
   "source": [
    "def svr_param_selection(X, y, nfolds):\n",
    "    Kernels = ['linear', 'poly', 'rbf']\n",
    "    Cs = [0.001, 0.01, 0.1, 1]\n",
    "    Gammas = [0.001, 0.01, 0.1]\n",
    "    param_grid = {'kernel':Kernels, 'C': Cs, 'gamma' : Gammas}\n",
    "    grid_search = GridSearchCV(SVR(), param_grid, cv=nfolds, n_jobs=-1)\n",
    "    grid_search.fit(X, y)\n",
    "    print('SVR Lowest MSE Score: '+str(grid_search.best_score_))\n",
    "    print('SVR With Parameters: '+str(grid_search.best_params_))    \n",
    "    return grid_search.best_params_"
   ]
  },
  {
   "cell_type": "code",
   "execution_count": 12,
   "metadata": {},
   "outputs": [],
   "source": [
    "def random_forest_regressor_param_selection(X, y, nfolds):\n",
    "    Estimators = np.arange(1,100,15)\n",
    "    Max_features = ['auto', 'sqrt']\n",
    "    Min_samples_leafs = np.linspace(0.01, 0.05, 5, endpoint=True)\n",
    "    param_grid = {'n_estimators': Estimators, 'max_features': Max_features, 'min_samples_leaf': Min_samples_leafs}\n",
    "    grid_search = GridSearchCV(RandomForestRegressor(random_state=0), param_grid, cv=nfolds, n_jobs=-1)\n",
    "    grid_search.fit(X, y)\n",
    "    print('RandomForestRegressor Lowest MSE Score: '+str(grid_search.best_score_))\n",
    "    print('RandomForestRegressor With Parameters: '+str(grid_search.best_params_))    \n",
    "    return grid_search.best_params_"
   ]
  },
  {
   "cell_type": "code",
   "execution_count": 13,
   "metadata": {},
   "outputs": [],
   "source": [
    "def decision_tree_regressor_param_selection(X, y, nfolds):\n",
    "    Max_features = ['auto', 'sqrt']\n",
    "    Min_samples_leafs = np.linspace(0.01, 0.05, 5, endpoint=True)\n",
    "    param_grid = {'max_features': Max_features, 'min_samples_leaf': Min_samples_leafs}\n",
    "    grid_search = GridSearchCV(DecisionTreeRegressor(random_state=0), param_grid, cv=nfolds, n_jobs=-1)\n",
    "    grid_search.fit(X, y)\n",
    "    print('DecisionTreeRegressor Lowest MSE Score: '+str(grid_search.best_score_))\n",
    "    print('DecisionTreeRegressor With Parameters: '+str(grid_search.best_params_))    \n",
    "    return grid_search.best_params_"
   ]
  },
  {
   "cell_type": "code",
   "execution_count": 14,
   "metadata": {},
   "outputs": [],
   "source": [
    "def ada_boost_regressor_param_selection(X, y, nfolds):\n",
    "    Estimators = np.arange(1,100,15)\n",
    "    Learning_rates = [0.01,0.05,0.1,0.3]\n",
    "    Losses = ['linear', 'square', 'exponential']\n",
    "    param_grid = {'n_estimators': Estimators, 'learning_rate': Learning_rates, 'loss': Losses}\n",
    "    grid_search = GridSearchCV(AdaBoostRegressor(base_estimator=DecisionTreeRegressor(random_state=0),random_state=0), param_grid, cv=nfolds, n_jobs=-1)\n",
    "    grid_search.fit(X, y)\n",
    "    print('AdaBoostRegressor Lowest MSE Score:'+str(grid_search.best_score_))\n",
    "    print('AdaBoostRegressor With Parameters:'+str(grid_search.best_params_))    \n",
    "    return grid_search.best_params_"
   ]
  },
  {
   "cell_type": "code",
   "execution_count": 15,
   "metadata": {},
   "outputs": [],
   "source": [
    "def gaussian_regressor_param_selection(X, y, nfolds):\n",
    "    kernel_rbf = ConstantKernel(1.0, constant_value_bounds=\"fixed\") * RBF(1.0, length_scale_bounds=\"fixed\")\n",
    "    kernel_rq = ConstantKernel(1.0, constant_value_bounds=\"fixed\") * RationalQuadratic(alpha=0.1, length_scale=1)\n",
    "    kernel_expsine = ConstantKernel(1.0, constant_value_bounds=\"fixed\") * ExpSineSquared(1.0, 5.0, periodicity_bounds=(1e-2, 1e1))\n",
    "    Kernels = [kernel_rbf, kernel_rq, kernel_expsine]\n",
    "    param_grid = {'kernel': Kernels}\n",
    "    grid_search = GridSearchCV(GaussianProcessRegressor(random_state=0), param_grid, cv=nfolds, n_jobs=-1)\n",
    "    grid_search.fit(X, y)\n",
    "    print('GaussianRegressor Lowest MSE Score:'+str(grid_search.best_score_))\n",
    "    print('GaussianRegressor With Parameters:'+str(grid_search.best_params_))    \n",
    "    return grid_search.best_params_"
   ]
  },
  {
   "cell_type": "code",
   "execution_count": 16,
   "metadata": {},
   "outputs": [],
   "source": [
    "def linear_regressor_param_selection(X, y, nfolds):\n",
    "    param_grid = {'fit_intercept':[True,False], 'normalize':[True,False], 'copy_X':[True, False]}\n",
    "    grid_search = GridSearchCV(LinearRegression(), param_grid, cv=nfolds, n_jobs=-1)\n",
    "    grid_search.fit(X, y)\n",
    "    print('LinearRegressor Lowest MSE Score:'+str(grid_search.best_score_))\n",
    "    print('LinearRegressor With Parameters:'+str(grid_search.best_params_))    \n",
    "    return grid_search.best_params_"
   ]
  },
  {
   "cell_type": "code",
   "execution_count": 17,
   "metadata": {},
   "outputs": [],
   "source": [
    "def neural_network_regressor_param_selection(X, y, nfolds):\n",
    "    Learning_rates = ['constant','adaptive']\n",
    "    Learning_rates_init = [0.001, 0.01, 0.1, 0.3]\n",
    "    Hidden_Layer_Sizes = [1, 5, 10, (5,5), (10,5)]\n",
    "    Activations = ['logistic', 'tanh', 'relu']\n",
    "    Alphas = [0.0001,0.002]\n",
    "    param_grid = {'learning_rate': Learning_rates, 'learning_rate_init': Learning_rates_init, 'hidden_layer_sizes': Hidden_Layer_Sizes, 'activation': Activations, 'alpha': Alphas}\n",
    "    grid_search = GridSearchCV(MLPRegressor(max_iter=900), param_grid, cv=nfolds, n_jobs=-1)\n",
    "    grid_search.fit(X, y)\n",
    "    print('NeuralNetworkRegressor Lowest MSE Score:'+str(grid_search.best_score_))\n",
    "    print('NeuralNetworkRegressor With Parameters:'+str(grid_search.best_params_))    \n",
    "    return grid_search.best_params_"
   ]
  },
  {
   "cell_type": "code",
   "execution_count": 20,
   "metadata": {},
   "outputs": [
    {
     "name": "stdout",
     "output_type": "stream",
     "text": [
      "now =2019-11-03 19:11:45.765334\n",
      "SVR Lowest MSE Score: 0.33954521683822225\n",
      "SVR With Parameters: {'C': 1, 'gamma': 0.1, 'kernel': 'rbf'}\n",
      "now =2019-11-03 19:12:35.742712\n",
      "RandomForestRegressor Lowest MSE Score: 0.33656483956306776\n",
      "RandomForestRegressor With Parameters: {'max_features': 'auto', 'min_samples_leaf': 0.01, 'n_estimators': 91}\n",
      "now =2019-11-03 19:12:51.005413\n",
      "DecisionTreeRegressor Lowest MSE Score: 0.27523751683300113\n",
      "DecisionTreeRegressor With Parameters: {'max_features': 'auto', 'min_samples_leaf': 0.05}\n",
      "now =2019-11-03 19:12:51.146029\n",
      "AdaBoostRegressor Lowest MSE Score:0.35307884732665845\n",
      "AdaBoostRegressor With Parameters:{'learning_rate': 0.01, 'loss': 'linear', 'n_estimators': 91}\n",
      "now =2019-11-03 19:14:18.680379\n",
      "LinearRegressor Lowest MSE Score:0.27635335642735737\n",
      "LinearRegressor With Parameters:{'copy_X': True, 'fit_intercept': True, 'normalize': True}\n",
      "now =2019-11-03 19:14:18.856553\n",
      "NeuralNetworkRegressor Lowest MSE Score:0.3369275047766063\n",
      "NeuralNetworkRegressor With Parameters:{'activation': 'logistic', 'alpha': 0.002, 'hidden_layer_sizes': (10, 5), 'learning_rate': 'constant', 'learning_rate_init': 0.01}\n",
      "now =2019-11-03 19:19:48.060315\n"
     ]
    }
   ],
   "source": [
    "#Using the 3-Fold HyperParam Search to evaluate the best hyperparams for each model\n",
    "print(\"now =\"+str(datetime.now()))\n",
    "svr_best_param           = svr_param_selection(x_train_scaled, y_train, 3)\n",
    "print(\"now =\"+str(datetime.now()))\n",
    "random_forest_best_param = random_forest_regressor_param_selection(x_train_scaled, y_train, 3)\n",
    "print(\"now =\"+str(datetime.now()))\n",
    "decision_tree_best_param = decision_tree_regressor_param_selection(x_train_scaled, y_train, 3)\n",
    "print(\"now =\"+str(datetime.now()))\n",
    "ada_boost_best_param     = ada_boost_regressor_param_selection(x_train_scaled, y_train, 3)\n",
    "print(\"now =\"+str(datetime.now()))\n",
    "linear_best_param         = linear_regressor_param_selection(x_train_scaled, y_train, 3)\n",
    "print(\"now =\"+str(datetime.now()))\n",
    "neural_network_best_param = neural_network_regressor_param_selection(x_train_scaled, y_train, 3)\n",
    "print(\"now =\"+str(datetime.now()))\n",
    "#gaussian_best_param       = gaussian_regressor_param_selection(x_train_scaled, y_train, 3)\n",
    "#print(\"now =\"+str(datetime.now()))"
   ]
  },
  {
   "cell_type": "code",
   "execution_count": null,
   "metadata": {},
   "outputs": [],
   "source": [
    "#Checking MSE of each of the best regressors on test data"
   ]
  },
  {
   "cell_type": "code",
   "execution_count": 18,
   "metadata": {},
   "outputs": [
    {
     "name": "stdout",
     "output_type": "stream",
     "text": [
      "now =2019-11-13 10:59:02.298083\n",
      "SVR Lowest MSE Score: 0.33954521683822225\n",
      "SVR With Parameters: {'C': 1, 'gamma': 0.1, 'kernel': 'rbf'}\n",
      "now =2019-11-13 10:59:29.787709\n"
     ]
    }
   ],
   "source": [
    "print(\"now =\"+str(datetime.now()))\n",
    "svr_best_param           = svr_param_selection(x_train_scaled, y_train, 3)\n",
    "print(\"now =\"+str(datetime.now()))"
   ]
  },
  {
   "cell_type": "code",
   "execution_count": 33,
   "metadata": {},
   "outputs": [
    {
     "name": "stdout",
     "output_type": "stream",
     "text": [
      "MSE for SVR: 0.5098582658496492\n"
     ]
    }
   ],
   "source": [
    "best_svr = SVR(C=1, gamma=0.1, kernel='rbf')\n",
    "best_svr.fit(x_train_scaled, y_train)\n",
    "y_pred = best_svr.predict(x_test_scaled)\n",
    "print('MSE for SVR: '+str(mean_squared_error(y_test, y_pred)))\n",
    "print(best_svr.score(x_test_scaled))"
   ]
  },
  {
   "cell_type": "code",
   "execution_count": 34,
   "metadata": {},
   "outputs": [
    {
     "name": "stdout",
     "output_type": "stream",
     "text": [
      "MSE for Decision Tree Regressor: 0.5859696750104505\n"
     ]
    }
   ],
   "source": [
    "best_decision_tree_regressor = DecisionTreeRegressor(max_features='auto', min_samples_leaf=0.05, random_state=0)\n",
    "best_decision_tree_regressor.fit(x_train_scaled, y_train)\n",
    "y_pred = best_decision_tree_regressor.predict(x_test_scaled)\n",
    "print('MSE for Decision Tree Regressor: '+str(mean_squared_error(y_test, y_pred)))"
   ]
  },
  {
   "cell_type": "code",
   "execution_count": 35,
   "metadata": {},
   "outputs": [
    {
     "name": "stdout",
     "output_type": "stream",
     "text": [
      "MSE for Random Forest Regressor: 0.5304160974580991\n"
     ]
    }
   ],
   "source": [
    "best_random_forest_regressor = RandomForestRegressor(max_features='auto', min_samples_leaf=0.01, n_estimators=91, random_state=0)\n",
    "best_random_forest_regressor.fit(x_train_scaled, y_train)\n",
    "y_pred = best_random_forest_regressor.predict(x_test_scaled)\n",
    "print('MSE for Random Forest Regressor: '+str(mean_squared_error(y_test, y_pred)))"
   ]
  },
  {
   "cell_type": "code",
   "execution_count": 36,
   "metadata": {},
   "outputs": [
    {
     "name": "stdout",
     "output_type": "stream",
     "text": [
      "MSE for AdaBoost Regressor: 0.5745866853963647\n"
     ]
    }
   ],
   "source": [
    "best_ada_boost_regressor = AdaBoostRegressor(learning_rate=0.01, loss='linear', n_estimators=91, random_state=0)\n",
    "best_ada_boost_regressor.fit(x_train_scaled, y_train)\n",
    "y_pred = best_ada_boost_regressor.predict(x_test_scaled)\n",
    "print('MSE for AdaBoost Regressor: '+str(mean_squared_error(y_test, y_pred)))"
   ]
  },
  {
   "cell_type": "code",
   "execution_count": 37,
   "metadata": {},
   "outputs": [
    {
     "name": "stdout",
     "output_type": "stream",
     "text": [
      "MSE for Linear Regressor: 0.5618535387986636\n"
     ]
    }
   ],
   "source": [
    "best_linear_regressor = LinearRegression(copy_X=True, fit_intercept=True, normalize=True)\n",
    "best_linear_regressor.fit(x_train_scaled, y_train)\n",
    "y_pred = best_linear_regressor.predict(x_test_scaled)\n",
    "print('MSE for Linear Regressor: '+str(mean_squared_error(y_test, y_pred)))"
   ]
  },
  {
   "cell_type": "code",
   "execution_count": 38,
   "metadata": {},
   "outputs": [
    {
     "name": "stdout",
     "output_type": "stream",
     "text": [
      "MSE for Neural Network Regressor: 0.5203408222175507\n"
     ]
    }
   ],
   "source": [
    "best_neural_network_regressor = MLPRegressor(activation='logistic', alpha=0.002, hidden_layer_sizes=(10, 5), learning_rate='constant', learning_rate_init=0.01, random_state=0)\n",
    "best_neural_network_regressor.fit(x_train_scaled, y_train)\n",
    "y_pred = best_neural_network_regressor.predict(x_test_scaled)\n",
    "print('MSE for Neural Network Regressor: '+str(mean_squared_error(y_test, y_pred)))"
   ]
  },
  {
   "cell_type": "code",
   "execution_count": null,
   "metadata": {},
   "outputs": [],
   "source": []
  }
 ],
 "metadata": {
  "kernelspec": {
   "display_name": "Python 3",
   "language": "python",
   "name": "python3"
  },
  "language_info": {
   "codemirror_mode": {
    "name": "ipython",
    "version": 3
   },
   "file_extension": ".py",
   "mimetype": "text/x-python",
   "name": "python",
   "nbconvert_exporter": "python",
   "pygments_lexer": "ipython3",
   "version": "3.7.4"
  }
 },
 "nbformat": 4,
 "nbformat_minor": 2
}
