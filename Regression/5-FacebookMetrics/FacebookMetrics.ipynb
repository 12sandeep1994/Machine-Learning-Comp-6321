{
 "cells": [
  {
   "cell_type": "code",
   "execution_count": 99,
   "metadata": {},
   "outputs": [],
   "source": [
    "import numpy as np \n",
    "import pandas as pd\n",
    "import matplotlib.pyplot as plt \n",
    "import seaborn as sns\n",
    "\n",
    "from sklearn import preprocessing\n",
    "from sklearn.model_selection import train_test_split\n",
    "from sklearn.model_selection import KFold\n",
    "from sklearn.preprocessing import StandardScaler\n",
    "from sklearn.metrics import mean_squared_error\n",
    "from sklearn.model_selection import GridSearchCV\n",
    "from sklearn.preprocessing import LabelBinarizer\n",
    "\n",
    "from sklearn.svm import SVR\n",
    "from sklearn.tree import DecisionTreeRegressor\n",
    "from sklearn.ensemble import RandomForestRegressor\n",
    "from sklearn.ensemble import AdaBoostRegressor\n",
    "from sklearn.gaussian_process import GaussianProcessRegressor\n",
    "from sklearn.gaussian_process.kernels import RBF, RationalQuadratic, ExpSineSquared, ConstantKernel\n",
    "from sklearn.linear_model import LinearRegression\n",
    "from sklearn.neural_network import MLPRegressor\n",
    "from datetime import datetime"
   ]
  },
  {
   "cell_type": "code",
   "execution_count": 100,
   "metadata": {},
   "outputs": [],
   "source": [
    "df_fb_metrics = pd.read_csv('dataset_Facebook.csv',sep=';')"
   ]
  },
  {
   "cell_type": "code",
   "execution_count": 101,
   "metadata": {},
   "outputs": [
    {
     "name": "stdout",
     "output_type": "stream",
     "text": [
      "<class 'pandas.core.frame.DataFrame'>\n",
      "RangeIndex: 500 entries, 0 to 499\n",
      "Data columns (total 19 columns):\n",
      "Page total likes                                                       500 non-null int64\n",
      "Type                                                                   500 non-null object\n",
      "Category                                                               500 non-null int64\n",
      "Post Month                                                             500 non-null int64\n",
      "Post Weekday                                                           500 non-null int64\n",
      "Post Hour                                                              500 non-null int64\n",
      "Paid                                                                   499 non-null float64\n",
      "Lifetime Post Total Reach                                              500 non-null int64\n",
      "Lifetime Post Total Impressions                                        500 non-null int64\n",
      "Lifetime Engaged Users                                                 500 non-null int64\n",
      "Lifetime Post Consumers                                                500 non-null int64\n",
      "Lifetime Post Consumptions                                             500 non-null int64\n",
      "Lifetime Post Impressions by people who have liked your Page           500 non-null int64\n",
      "Lifetime Post reach by people who like your Page                       500 non-null int64\n",
      "Lifetime People who have liked your Page and engaged with your post    500 non-null int64\n",
      "comment                                                                500 non-null int64\n",
      "like                                                                   499 non-null float64\n",
      "share                                                                  496 non-null float64\n",
      "Total Interactions                                                     500 non-null int64\n",
      "dtypes: float64(3), int64(15), object(1)\n",
      "memory usage: 74.3+ KB\n",
      "None\n",
      "Page total likes                                                       0\n",
      "Type                                                                   0\n",
      "Category                                                               0\n",
      "Post Month                                                             0\n",
      "Post Weekday                                                           0\n",
      "Post Hour                                                              0\n",
      "Paid                                                                   1\n",
      "Lifetime Post Total Reach                                              0\n",
      "Lifetime Post Total Impressions                                        0\n",
      "Lifetime Engaged Users                                                 0\n",
      "Lifetime Post Consumers                                                0\n",
      "Lifetime Post Consumptions                                             0\n",
      "Lifetime Post Impressions by people who have liked your Page           0\n",
      "Lifetime Post reach by people who like your Page                       0\n",
      "Lifetime People who have liked your Page and engaged with your post    0\n",
      "comment                                                                0\n",
      "like                                                                   1\n",
      "share                                                                  4\n",
      "Total Interactions                                                     0\n",
      "dtype: int64\n"
     ]
    }
   ],
   "source": [
    "print(df_fb_metrics.info())\n",
    "df_fb_metrics.replace(r'^\\s*$', np.nan, regex=True, inplace = True)\n",
    "df_fb_metrics.replace('?', np.nan, inplace = True)\n",
    "print(df_fb_metrics.isnull().sum())"
   ]
  },
  {
   "cell_type": "code",
   "execution_count": 102,
   "metadata": {},
   "outputs": [
    {
     "data": {
      "text/html": [
       "<div>\n",
       "<style scoped>\n",
       "    .dataframe tbody tr th:only-of-type {\n",
       "        vertical-align: middle;\n",
       "    }\n",
       "\n",
       "    .dataframe tbody tr th {\n",
       "        vertical-align: top;\n",
       "    }\n",
       "\n",
       "    .dataframe thead th {\n",
       "        text-align: right;\n",
       "    }\n",
       "</style>\n",
       "<table border=\"1\" class=\"dataframe\">\n",
       "  <thead>\n",
       "    <tr style=\"text-align: right;\">\n",
       "      <th></th>\n",
       "      <th>Page total likes</th>\n",
       "      <th>Type</th>\n",
       "      <th>Category</th>\n",
       "      <th>Post Month</th>\n",
       "      <th>Post Weekday</th>\n",
       "      <th>Post Hour</th>\n",
       "      <th>Paid</th>\n",
       "      <th>Lifetime Post Total Reach</th>\n",
       "      <th>Lifetime Post Total Impressions</th>\n",
       "      <th>Lifetime Engaged Users</th>\n",
       "      <th>Lifetime Post Consumers</th>\n",
       "      <th>Lifetime Post Consumptions</th>\n",
       "      <th>Lifetime Post Impressions by people who have liked your Page</th>\n",
       "      <th>Lifetime Post reach by people who like your Page</th>\n",
       "      <th>Lifetime People who have liked your Page and engaged with your post</th>\n",
       "      <th>Total Interactions</th>\n",
       "    </tr>\n",
       "  </thead>\n",
       "  <tbody>\n",
       "    <tr>\n",
       "      <th>0</th>\n",
       "      <td>139441</td>\n",
       "      <td>Photo</td>\n",
       "      <td>2</td>\n",
       "      <td>12</td>\n",
       "      <td>4</td>\n",
       "      <td>3</td>\n",
       "      <td>0.0</td>\n",
       "      <td>2752</td>\n",
       "      <td>5091</td>\n",
       "      <td>178</td>\n",
       "      <td>109</td>\n",
       "      <td>159</td>\n",
       "      <td>3078</td>\n",
       "      <td>1640</td>\n",
       "      <td>119</td>\n",
       "      <td>100</td>\n",
       "    </tr>\n",
       "    <tr>\n",
       "      <th>1</th>\n",
       "      <td>139441</td>\n",
       "      <td>Status</td>\n",
       "      <td>2</td>\n",
       "      <td>12</td>\n",
       "      <td>3</td>\n",
       "      <td>10</td>\n",
       "      <td>0.0</td>\n",
       "      <td>10460</td>\n",
       "      <td>19057</td>\n",
       "      <td>1457</td>\n",
       "      <td>1361</td>\n",
       "      <td>1674</td>\n",
       "      <td>11710</td>\n",
       "      <td>6112</td>\n",
       "      <td>1108</td>\n",
       "      <td>164</td>\n",
       "    </tr>\n",
       "    <tr>\n",
       "      <th>2</th>\n",
       "      <td>139441</td>\n",
       "      <td>Photo</td>\n",
       "      <td>3</td>\n",
       "      <td>12</td>\n",
       "      <td>3</td>\n",
       "      <td>3</td>\n",
       "      <td>0.0</td>\n",
       "      <td>2413</td>\n",
       "      <td>4373</td>\n",
       "      <td>177</td>\n",
       "      <td>113</td>\n",
       "      <td>154</td>\n",
       "      <td>2812</td>\n",
       "      <td>1503</td>\n",
       "      <td>132</td>\n",
       "      <td>80</td>\n",
       "    </tr>\n",
       "    <tr>\n",
       "      <th>3</th>\n",
       "      <td>139441</td>\n",
       "      <td>Photo</td>\n",
       "      <td>2</td>\n",
       "      <td>12</td>\n",
       "      <td>2</td>\n",
       "      <td>10</td>\n",
       "      <td>1.0</td>\n",
       "      <td>50128</td>\n",
       "      <td>87991</td>\n",
       "      <td>2211</td>\n",
       "      <td>790</td>\n",
       "      <td>1119</td>\n",
       "      <td>61027</td>\n",
       "      <td>32048</td>\n",
       "      <td>1386</td>\n",
       "      <td>1777</td>\n",
       "    </tr>\n",
       "    <tr>\n",
       "      <th>4</th>\n",
       "      <td>139441</td>\n",
       "      <td>Photo</td>\n",
       "      <td>2</td>\n",
       "      <td>12</td>\n",
       "      <td>2</td>\n",
       "      <td>3</td>\n",
       "      <td>0.0</td>\n",
       "      <td>7244</td>\n",
       "      <td>13594</td>\n",
       "      <td>671</td>\n",
       "      <td>410</td>\n",
       "      <td>580</td>\n",
       "      <td>6228</td>\n",
       "      <td>3200</td>\n",
       "      <td>396</td>\n",
       "      <td>393</td>\n",
       "    </tr>\n",
       "  </tbody>\n",
       "</table>\n",
       "</div>"
      ],
      "text/plain": [
       "   Page total likes    Type  Category  Post Month  Post Weekday  Post Hour  \\\n",
       "0            139441   Photo         2          12             4          3   \n",
       "1            139441  Status         2          12             3         10   \n",
       "2            139441   Photo         3          12             3          3   \n",
       "3            139441   Photo         2          12             2         10   \n",
       "4            139441   Photo         2          12             2          3   \n",
       "\n",
       "   Paid  Lifetime Post Total Reach  Lifetime Post Total Impressions  \\\n",
       "0   0.0                       2752                             5091   \n",
       "1   0.0                      10460                            19057   \n",
       "2   0.0                       2413                             4373   \n",
       "3   1.0                      50128                            87991   \n",
       "4   0.0                       7244                            13594   \n",
       "\n",
       "   Lifetime Engaged Users  Lifetime Post Consumers  \\\n",
       "0                     178                      109   \n",
       "1                    1457                     1361   \n",
       "2                     177                      113   \n",
       "3                    2211                      790   \n",
       "4                     671                      410   \n",
       "\n",
       "   Lifetime Post Consumptions  \\\n",
       "0                         159   \n",
       "1                        1674   \n",
       "2                         154   \n",
       "3                        1119   \n",
       "4                         580   \n",
       "\n",
       "   Lifetime Post Impressions by people who have liked your Page  \\\n",
       "0                                               3078              \n",
       "1                                              11710              \n",
       "2                                               2812              \n",
       "3                                              61027              \n",
       "4                                               6228              \n",
       "\n",
       "   Lifetime Post reach by people who like your Page  \\\n",
       "0                                              1640   \n",
       "1                                              6112   \n",
       "2                                              1503   \n",
       "3                                             32048   \n",
       "4                                              3200   \n",
       "\n",
       "   Lifetime People who have liked your Page and engaged with your post  \\\n",
       "0                                                119                     \n",
       "1                                               1108                     \n",
       "2                                                132                     \n",
       "3                                               1386                     \n",
       "4                                                396                     \n",
       "\n",
       "   Total Interactions  \n",
       "0                 100  \n",
       "1                 164  \n",
       "2                  80  \n",
       "3                1777  \n",
       "4                 393  "
      ]
     },
     "execution_count": 102,
     "metadata": {},
     "output_type": "execute_result"
    }
   ],
   "source": [
    "#Since we are going to consider Total Interactions as the output variable (being the sum of Comment , Like, Share) \n",
    "#we can drop Comment , Like, Share and the null values associated with them.\n",
    "individual_interaction_components = ['comment','like','share']\n",
    "df_fb_metrics = df_fb_metrics.drop(columns=individual_interaction_components, axis=1)\n",
    "df_fb_metrics.head()"
   ]
  },
  {
   "cell_type": "code",
   "execution_count": 103,
   "metadata": {},
   "outputs": [
    {
     "data": {
      "text/plain": [
       "Photo     426\n",
       "Status     45\n",
       "Link       22\n",
       "Video       7\n",
       "Name: Type, dtype: int64"
      ]
     },
     "execution_count": 103,
     "metadata": {},
     "output_type": "execute_result"
    }
   ],
   "source": [
    "#We now have a categorical input variable Type.\n",
    "df_fb_metrics[\"Type\"].value_counts()"
   ]
  },
  {
   "cell_type": "code",
   "execution_count": 104,
   "metadata": {},
   "outputs": [
    {
     "data": {
      "text/html": [
       "<div>\n",
       "<style scoped>\n",
       "    .dataframe tbody tr th:only-of-type {\n",
       "        vertical-align: middle;\n",
       "    }\n",
       "\n",
       "    .dataframe tbody tr th {\n",
       "        vertical-align: top;\n",
       "    }\n",
       "\n",
       "    .dataframe thead th {\n",
       "        text-align: right;\n",
       "    }\n",
       "</style>\n",
       "<table border=\"1\" class=\"dataframe\">\n",
       "  <thead>\n",
       "    <tr style=\"text-align: right;\">\n",
       "      <th></th>\n",
       "      <th>Page total likes</th>\n",
       "      <th>Link</th>\n",
       "      <th>Photo</th>\n",
       "      <th>Status</th>\n",
       "      <th>Video</th>\n",
       "      <th>Category</th>\n",
       "      <th>Post Month</th>\n",
       "      <th>Post Weekday</th>\n",
       "      <th>Post Hour</th>\n",
       "      <th>Paid</th>\n",
       "      <th>Lifetime Post Total Reach</th>\n",
       "      <th>Lifetime Post Total Impressions</th>\n",
       "      <th>Lifetime Engaged Users</th>\n",
       "      <th>Lifetime Post Consumers</th>\n",
       "      <th>Lifetime Post Consumptions</th>\n",
       "      <th>Lifetime Post Impressions by people who have liked your Page</th>\n",
       "      <th>Lifetime Post reach by people who like your Page</th>\n",
       "      <th>Lifetime People who have liked your Page and engaged with your post</th>\n",
       "      <th>Total Interactions</th>\n",
       "    </tr>\n",
       "  </thead>\n",
       "  <tbody>\n",
       "    <tr>\n",
       "      <th>0</th>\n",
       "      <td>139441</td>\n",
       "      <td>0</td>\n",
       "      <td>1</td>\n",
       "      <td>0</td>\n",
       "      <td>0</td>\n",
       "      <td>2</td>\n",
       "      <td>12</td>\n",
       "      <td>4</td>\n",
       "      <td>3</td>\n",
       "      <td>0.0</td>\n",
       "      <td>2752</td>\n",
       "      <td>5091</td>\n",
       "      <td>178</td>\n",
       "      <td>109</td>\n",
       "      <td>159</td>\n",
       "      <td>3078</td>\n",
       "      <td>1640</td>\n",
       "      <td>119</td>\n",
       "      <td>100</td>\n",
       "    </tr>\n",
       "    <tr>\n",
       "      <th>1</th>\n",
       "      <td>139441</td>\n",
       "      <td>0</td>\n",
       "      <td>0</td>\n",
       "      <td>1</td>\n",
       "      <td>0</td>\n",
       "      <td>2</td>\n",
       "      <td>12</td>\n",
       "      <td>3</td>\n",
       "      <td>10</td>\n",
       "      <td>0.0</td>\n",
       "      <td>10460</td>\n",
       "      <td>19057</td>\n",
       "      <td>1457</td>\n",
       "      <td>1361</td>\n",
       "      <td>1674</td>\n",
       "      <td>11710</td>\n",
       "      <td>6112</td>\n",
       "      <td>1108</td>\n",
       "      <td>164</td>\n",
       "    </tr>\n",
       "    <tr>\n",
       "      <th>2</th>\n",
       "      <td>139441</td>\n",
       "      <td>0</td>\n",
       "      <td>1</td>\n",
       "      <td>0</td>\n",
       "      <td>0</td>\n",
       "      <td>3</td>\n",
       "      <td>12</td>\n",
       "      <td>3</td>\n",
       "      <td>3</td>\n",
       "      <td>0.0</td>\n",
       "      <td>2413</td>\n",
       "      <td>4373</td>\n",
       "      <td>177</td>\n",
       "      <td>113</td>\n",
       "      <td>154</td>\n",
       "      <td>2812</td>\n",
       "      <td>1503</td>\n",
       "      <td>132</td>\n",
       "      <td>80</td>\n",
       "    </tr>\n",
       "    <tr>\n",
       "      <th>3</th>\n",
       "      <td>139441</td>\n",
       "      <td>0</td>\n",
       "      <td>1</td>\n",
       "      <td>0</td>\n",
       "      <td>0</td>\n",
       "      <td>2</td>\n",
       "      <td>12</td>\n",
       "      <td>2</td>\n",
       "      <td>10</td>\n",
       "      <td>1.0</td>\n",
       "      <td>50128</td>\n",
       "      <td>87991</td>\n",
       "      <td>2211</td>\n",
       "      <td>790</td>\n",
       "      <td>1119</td>\n",
       "      <td>61027</td>\n",
       "      <td>32048</td>\n",
       "      <td>1386</td>\n",
       "      <td>1777</td>\n",
       "    </tr>\n",
       "    <tr>\n",
       "      <th>4</th>\n",
       "      <td>139441</td>\n",
       "      <td>0</td>\n",
       "      <td>1</td>\n",
       "      <td>0</td>\n",
       "      <td>0</td>\n",
       "      <td>2</td>\n",
       "      <td>12</td>\n",
       "      <td>2</td>\n",
       "      <td>3</td>\n",
       "      <td>0.0</td>\n",
       "      <td>7244</td>\n",
       "      <td>13594</td>\n",
       "      <td>671</td>\n",
       "      <td>410</td>\n",
       "      <td>580</td>\n",
       "      <td>6228</td>\n",
       "      <td>3200</td>\n",
       "      <td>396</td>\n",
       "      <td>393</td>\n",
       "    </tr>\n",
       "  </tbody>\n",
       "</table>\n",
       "</div>"
      ],
      "text/plain": [
       "   Page total likes  Link  Photo  Status  Video  Category  Post Month  \\\n",
       "0            139441     0      1       0      0         2          12   \n",
       "1            139441     0      0       1      0         2          12   \n",
       "2            139441     0      1       0      0         3          12   \n",
       "3            139441     0      1       0      0         2          12   \n",
       "4            139441     0      1       0      0         2          12   \n",
       "\n",
       "   Post Weekday  Post Hour  Paid  Lifetime Post Total Reach  \\\n",
       "0             4          3   0.0                       2752   \n",
       "1             3         10   0.0                      10460   \n",
       "2             3          3   0.0                       2413   \n",
       "3             2         10   1.0                      50128   \n",
       "4             2          3   0.0                       7244   \n",
       "\n",
       "   Lifetime Post Total Impressions  Lifetime Engaged Users  \\\n",
       "0                             5091                     178   \n",
       "1                            19057                    1457   \n",
       "2                             4373                     177   \n",
       "3                            87991                    2211   \n",
       "4                            13594                     671   \n",
       "\n",
       "   Lifetime Post Consumers  Lifetime Post Consumptions  \\\n",
       "0                      109                         159   \n",
       "1                     1361                        1674   \n",
       "2                      113                         154   \n",
       "3                      790                        1119   \n",
       "4                      410                         580   \n",
       "\n",
       "   Lifetime Post Impressions by people who have liked your Page  \\\n",
       "0                                               3078              \n",
       "1                                              11710              \n",
       "2                                               2812              \n",
       "3                                              61027              \n",
       "4                                               6228              \n",
       "\n",
       "   Lifetime Post reach by people who like your Page  \\\n",
       "0                                              1640   \n",
       "1                                              6112   \n",
       "2                                              1503   \n",
       "3                                             32048   \n",
       "4                                              3200   \n",
       "\n",
       "   Lifetime People who have liked your Page and engaged with your post  \\\n",
       "0                                                119                     \n",
       "1                                               1108                     \n",
       "2                                                132                     \n",
       "3                                               1386                     \n",
       "4                                                396                     \n",
       "\n",
       "   Total Interactions  \n",
       "0                 100  \n",
       "1                 164  \n",
       "2                  80  \n",
       "3                1777  \n",
       "4                 393  "
      ]
     },
     "execution_count": 104,
     "metadata": {},
     "output_type": "execute_result"
    }
   ],
   "source": [
    "#With just 4 different types of values we can plan to use OneHotEncoding which would add 4 new columns to our dataframe \n",
    "lb_style = LabelBinarizer()\n",
    "lb_results = lb_style.fit_transform(df_fb_metrics[\"Type\"])\n",
    "encoded_df = pd.DataFrame(lb_results, columns=lb_style.classes_)\n",
    "df_fb_metrics = pd.concat([df_fb_metrics,encoded_df], axis=1) \n",
    "cols = list(df_fb_metrics)\n",
    "cols.insert(1, cols.pop(cols.index('Link')))\n",
    "cols.insert(2, cols.pop(cols.index('Photo')))\n",
    "cols.insert(3, cols.pop(cols.index('Status')))\n",
    "cols.insert(4, cols.pop(cols.index('Video')))\n",
    "df_fb_metrics = df_fb_metrics.loc[:, cols]\n",
    "df_fb_metrics = df_fb_metrics.drop(columns=['Type'],axis=1)\n",
    "df_fb_metrics.head()"
   ]
  },
  {
   "cell_type": "code",
   "execution_count": 105,
   "metadata": {},
   "outputs": [
    {
     "data": {
      "text/plain": [
       "0.0    360\n",
       "1.0    139\n",
       "Name: Paid, dtype: int64"
      ]
     },
     "execution_count": 105,
     "metadata": {},
     "output_type": "execute_result"
    }
   ],
   "source": [
    "#We now have a categorical input variable Type.\n",
    "df_fb_metrics[\"Paid\"].value_counts()"
   ]
  },
  {
   "cell_type": "code",
   "execution_count": 106,
   "metadata": {},
   "outputs": [
    {
     "data": {
      "text/html": [
       "<div>\n",
       "<style scoped>\n",
       "    .dataframe tbody tr th:only-of-type {\n",
       "        vertical-align: middle;\n",
       "    }\n",
       "\n",
       "    .dataframe tbody tr th {\n",
       "        vertical-align: top;\n",
       "    }\n",
       "\n",
       "    .dataframe thead th {\n",
       "        text-align: right;\n",
       "    }\n",
       "</style>\n",
       "<table border=\"1\" class=\"dataframe\">\n",
       "  <thead>\n",
       "    <tr style=\"text-align: right;\">\n",
       "      <th></th>\n",
       "      <th>Page total likes</th>\n",
       "      <th>Link</th>\n",
       "      <th>Photo</th>\n",
       "      <th>Status</th>\n",
       "      <th>Video</th>\n",
       "      <th>Category</th>\n",
       "      <th>Post Month</th>\n",
       "      <th>Post Weekday</th>\n",
       "      <th>Post Hour</th>\n",
       "      <th>Paid</th>\n",
       "      <th>Lifetime Post Total Reach</th>\n",
       "      <th>Lifetime Post Total Impressions</th>\n",
       "      <th>Lifetime Engaged Users</th>\n",
       "      <th>Lifetime Post Consumers</th>\n",
       "      <th>Lifetime Post Consumptions</th>\n",
       "      <th>Lifetime Post Impressions by people who have liked your Page</th>\n",
       "      <th>Lifetime Post reach by people who like your Page</th>\n",
       "      <th>Lifetime People who have liked your Page and engaged with your post</th>\n",
       "      <th>Total Interactions</th>\n",
       "    </tr>\n",
       "  </thead>\n",
       "  <tbody>\n",
       "    <tr>\n",
       "      <th>499</th>\n",
       "      <td>81370</td>\n",
       "      <td>0</td>\n",
       "      <td>1</td>\n",
       "      <td>0</td>\n",
       "      <td>0</td>\n",
       "      <td>2</td>\n",
       "      <td>1</td>\n",
       "      <td>4</td>\n",
       "      <td>4</td>\n",
       "      <td>NaN</td>\n",
       "      <td>4188</td>\n",
       "      <td>7292</td>\n",
       "      <td>564</td>\n",
       "      <td>524</td>\n",
       "      <td>743</td>\n",
       "      <td>3861</td>\n",
       "      <td>2200</td>\n",
       "      <td>316</td>\n",
       "      <td>119</td>\n",
       "    </tr>\n",
       "  </tbody>\n",
       "</table>\n",
       "</div>"
      ],
      "text/plain": [
       "     Page total likes  Link  Photo  Status  Video  Category  Post Month  \\\n",
       "499             81370     0      1       0      0         2           1   \n",
       "\n",
       "     Post Weekday  Post Hour  Paid  Lifetime Post Total Reach  \\\n",
       "499             4          4   NaN                       4188   \n",
       "\n",
       "     Lifetime Post Total Impressions  Lifetime Engaged Users  \\\n",
       "499                             7292                     564   \n",
       "\n",
       "     Lifetime Post Consumers  Lifetime Post Consumptions  \\\n",
       "499                      524                         743   \n",
       "\n",
       "     Lifetime Post Impressions by people who have liked your Page  \\\n",
       "499                                               3861              \n",
       "\n",
       "     Lifetime Post reach by people who like your Page  \\\n",
       "499                                              2200   \n",
       "\n",
       "     Lifetime People who have liked your Page and engaged with your post  \\\n",
       "499                                                316                     \n",
       "\n",
       "     Total Interactions  \n",
       "499                 119  "
      ]
     },
     "execution_count": 106,
     "metadata": {},
     "output_type": "execute_result"
    }
   ],
   "source": [
    "df_fb_metrics[df_fb_metrics.isna().any(axis=1)]"
   ]
  },
  {
   "cell_type": "code",
   "execution_count": 107,
   "metadata": {},
   "outputs": [
    {
     "data": {
      "text/plain": [
       "(500, 19)"
      ]
     },
     "execution_count": 107,
     "metadata": {},
     "output_type": "execute_result"
    }
   ],
   "source": [
    "#Fill missing value with most common value\n",
    "df_fb_metrics = df_fb_metrics.apply(lambda x: x.fillna(x.value_counts().index[0]))\n",
    "df_fb_metrics.shape"
   ]
  },
  {
   "cell_type": "code",
   "execution_count": 108,
   "metadata": {},
   "outputs": [],
   "source": [
    "#Preparing the training and testing dataset.\n",
    "X_train, X_test, y_train, y_test = train_test_split(df_fb_metrics.iloc[:, 0:18].values, df_fb_metrics.iloc[:, 18].values, test_size=0.33, random_state=0)\n",
    "#Standardising the data set\n",
    "scaler = StandardScaler()\n",
    "scaler.fit(X_train)\n",
    "X_train_scaled = scaler.transform(X_train)\n",
    "X_test_scaled = scaler.transform(X_test)"
   ]
  },
  {
   "cell_type": "code",
   "execution_count": 109,
   "metadata": {},
   "outputs": [
    {
     "data": {
      "text/plain": [
       "<matplotlib.axes._subplots.AxesSubplot at 0x277030f0860>"
      ]
     },
     "execution_count": 109,
     "metadata": {},
     "output_type": "execute_result"
    },
    {
     "data": {
      "image/png": "[encoded data removed]",
      "text/plain": [
       "<Figure size 864x720 with 1 Axes>"
      ]
     },
     "metadata": {
      "needs_background": "light"
     },
     "output_type": "display_data"
    }
   ],
   "source": [
    "plt.figure(figsize=(12,10))\n",
    "df_fb_metrics_corr = df_fb_metrics.corr()\n",
    "mask = np.zeros_like(df_fb_metrics_corr, dtype=np.bool)\n",
    "mask[np.triu_indices_from(mask)] = True\n",
    "sns.heatmap(df_fb_metrics_corr,annot=True,cbar=False, mask=mask)"
   ]
  },
  {
   "cell_type": "code",
   "execution_count": 110,
   "metadata": {},
   "outputs": [],
   "source": [
    "#Running the dataset across various regressors"
   ]
  },
  {
   "cell_type": "code",
   "execution_count": 111,
   "metadata": {},
   "outputs": [],
   "source": [
    "def svr_param_selection(X, y, nfolds):\n",
    "    Kernels = ['linear', 'poly', 'rbf']\n",
    "    Cs = [0.001, 0.01, 0.1, 1]\n",
    "    Gammas = [0.001, 0.01, 0.1]\n",
    "    param_grid = {'kernel':Kernels, 'C': Cs, 'gamma' : Gammas}\n",
    "    grid_search = GridSearchCV(SVR(), param_grid, cv=nfolds, n_jobs=-1, iid=False)\n",
    "    grid_search.fit(X, y)\n",
    "    print('SVR Lowest MSE Score: '+str(grid_search.best_score_))\n",
    "    print('SVR With Parameters: '+str(grid_search.best_params_))    \n",
    "    return grid_search.best_params_"
   ]
  },
  {
   "cell_type": "code",
   "execution_count": 112,
   "metadata": {},
   "outputs": [],
   "source": [
    "def random_forest_regressor_param_selection(X, y, nfolds):\n",
    "    Estimators = np.arange(1,100,15)\n",
    "    Max_features = ['auto', 'sqrt']\n",
    "    Min_samples_leafs = np.linspace(0.01, 0.05, 5, endpoint=True)\n",
    "    param_grid = {'n_estimators': Estimators, 'max_features': Max_features, 'min_samples_leaf': Min_samples_leafs}\n",
    "    grid_search = GridSearchCV(RandomForestRegressor(random_state=0), param_grid, cv=nfolds, n_jobs=-1, iid=False)\n",
    "    grid_search.fit(X, y)\n",
    "    print('RandomForestRegressor Lowest MSE Score: '+str(grid_search.best_score_))\n",
    "    print('RandomForestRegressor With Parameters: '+str(grid_search.best_params_))    \n",
    "    return grid_search.best_params_"
   ]
  },
  {
   "cell_type": "code",
   "execution_count": 113,
   "metadata": {},
   "outputs": [],
   "source": [
    "def decision_tree_regressor_param_selection(X, y, nfolds):\n",
    "    Max_features = ['auto', 'sqrt']\n",
    "    Min_samples_leafs = np.linspace(0.01, 0.05, 5, endpoint=True)\n",
    "    param_grid = {'max_features': Max_features, 'min_samples_leaf': Min_samples_leafs}\n",
    "    grid_search = GridSearchCV(DecisionTreeRegressor(random_state=0), param_grid, cv=nfolds, n_jobs=-1, iid=False)\n",
    "    grid_search.fit(X, y)\n",
    "    print('DecisionTreeRegressor Lowest MSE Score: '+str(grid_search.best_score_))\n",
    "    print('DecisionTreeRegressor With Parameters: '+str(grid_search.best_params_))    \n",
    "    return grid_search.best_params_"
   ]
  },
  {
   "cell_type": "code",
   "execution_count": 114,
   "metadata": {},
   "outputs": [],
   "source": [
    "def ada_boost_regressor_param_selection(X, y, nfolds):\n",
    "    Estimators = np.arange(1,100,15)\n",
    "    Learning_rates = [0.01,0.05,0.1,0.3]\n",
    "    Losses = ['linear', 'square', 'exponential']\n",
    "    param_grid = {'n_estimators': Estimators, 'learning_rate': Learning_rates, 'loss': Losses}\n",
    "    grid_search = GridSearchCV(AdaBoostRegressor(base_estimator=DecisionTreeRegressor(random_state=0),random_state=0), param_grid, cv=nfolds, n_jobs=-1, iid=False)\n",
    "    grid_search.fit(X, y)\n",
    "    print('AdaBoostRegressor Lowest MSE Score:'+str(grid_search.best_score_))\n",
    "    print('AdaBoostRegressor With Parameters:'+str(grid_search.best_params_))    \n",
    "    return grid_search.best_params_"
   ]
  },
  {
   "cell_type": "code",
   "execution_count": 115,
   "metadata": {},
   "outputs": [],
   "source": [
    "def gaussian_regressor_param_selection(X, y, nfolds):\n",
    "    kernel_rbf = ConstantKernel(1.0, constant_value_bounds=\"fixed\") * RBF(1.0, length_scale_bounds=\"fixed\")\n",
    "    kernel_rq = ConstantKernel(1.0, constant_value_bounds=\"fixed\") * RationalQuadratic(alpha=0.1, length_scale=1)\n",
    "    kernel_expsine = ConstantKernel(1.0, constant_value_bounds=\"fixed\") * ExpSineSquared(1.0, 5.0, periodicity_bounds=(1e-2, 1e1))\n",
    "    Kernels = [kernel_rbf, kernel_rq, kernel_expsine]\n",
    "    param_grid = {'kernel': Kernels}\n",
    "    grid_search = GridSearchCV(GaussianProcessRegressor(random_state=0), param_grid, cv=nfolds, n_jobs=-1, iid=False)\n",
    "    grid_search.fit(X, y)\n",
    "    print('GaussianRegressor Lowest MSE Score:'+str(grid_search.best_score_))\n",
    "    print('GaussianRegressor With Parameters:'+str(grid_search.best_params_))    \n",
    "    return grid_search.best_params_"
   ]
  },
  {
   "cell_type": "code",
   "execution_count": 116,
   "metadata": {},
   "outputs": [],
   "source": [
    "def linear_regressor_param_selection(X, y, nfolds):\n",
    "    param_grid = {'fit_intercept':[True,False], 'normalize':[True,False], 'copy_X':[True, False]}\n",
    "    grid_search = GridSearchCV(LinearRegression(), param_grid, cv=nfolds, n_jobs=-1, iid=False)\n",
    "    grid_search.fit(X, y)\n",
    "    print('LinearRegressor Lowest MSE Score:'+str(grid_search.best_score_))\n",
    "    print('LinearRegressor With Parameters:'+str(grid_search.best_params_))    \n",
    "    return grid_search.best_params_"
   ]
  },
  {
   "cell_type": "code",
   "execution_count": 117,
   "metadata": {},
   "outputs": [],
   "source": [
    "def neural_network_regressor_param_selection(X, y, nfolds):\n",
    "    Learning_rates = ['constant','adaptive']\n",
    "    Learning_rates_init = [0.001, 0.01, 0.1, 0.3]\n",
    "    Hidden_Layer_Sizes = [1, 5, 10, (5,5), (10,5)]\n",
    "    Activations = ['logistic', 'tanh', 'relu']\n",
    "    Alphas = [0.0001,0.002]\n",
    "    param_grid = {'learning_rate': Learning_rates, 'learning_rate_init': Learning_rates_init, 'hidden_layer_sizes': Hidden_Layer_Sizes, 'activation': Activations, 'alpha': Alphas}\n",
    "    grid_search = GridSearchCV(MLPRegressor(max_iter=900), param_grid, cv=nfolds, n_jobs=-1, iid=False)\n",
    "    grid_search.fit(X, y)\n",
    "    print('NeuralNetworkRegressor Lowest MSE Score:'+str(grid_search.best_score_))\n",
    "    print('NeuralNetworkRegressor With Parameters:'+str(grid_search.best_params_))    \n",
    "    return grid_search.best_params_"
   ]
  },
  {
   "cell_type": "code",
   "execution_count": 118,
   "metadata": {},
   "outputs": [
    {
     "name": "stdout",
     "output_type": "stream",
     "text": [
      "now =2019-11-05 13:00:52.471889\n",
      "SVR Lowest MSE Score: 0.2267192767888381\n",
      "SVR With Parameters: {'C': 1, 'gamma': 0.001, 'kernel': 'linear'}\n",
      "now =2019-11-05 13:00:57.321739\n",
      "RandomForestRegressor Lowest MSE Score: 0.4044853712714526\n",
      "RandomForestRegressor With Parameters: {'max_features': 'sqrt', 'min_samples_leaf': 0.04, 'n_estimators': 31}\n",
      "now =2019-11-05 13:01:04.726675\n",
      "DecisionTreeRegressor Lowest MSE Score: 0.28752277069577076\n",
      "DecisionTreeRegressor With Parameters: {'max_features': 'sqrt', 'min_samples_leaf': 0.03}\n",
      "now =2019-11-05 13:01:04.804797\n",
      "AdaBoostRegressor Lowest MSE Score:0.5016436553402207\n",
      "AdaBoostRegressor With Parameters:{'learning_rate': 0.3, 'loss': 'exponential', 'n_estimators': 16}\n",
      "now =2019-11-05 13:01:31.729592\n",
      "LinearRegressor Lowest MSE Score:0.9321961042521462\n",
      "LinearRegressor With Parameters:{'copy_X': True, 'fit_intercept': True, 'normalize': False}\n",
      "now =2019-11-05 13:01:31.889500\n",
      "NeuralNetworkRegressor Lowest MSE Score:0.8566180004875257\n",
      "NeuralNetworkRegressor With Parameters:{'activation': 'relu', 'alpha': 0.002, 'hidden_layer_sizes': 5, 'learning_rate': 'adaptive', 'learning_rate_init': 0.1}\n",
      "now =2019-11-05 13:11:38.786115\n"
     ]
    }
   ],
   "source": [
    "#Using the 3-Fold HyperParam Search to evaluate the best hyperparams for each model\n",
    "print(\"now =\"+str(datetime.now()))\n",
    "svr_best_param           = svr_param_selection(X_train_scaled, y_train, 3)\n",
    "print(\"now =\"+str(datetime.now()))\n",
    "random_forest_best_param = random_forest_regressor_param_selection(X_train_scaled, y_train, 3)\n",
    "print(\"now =\"+str(datetime.now()))\n",
    "decision_tree_best_param = decision_tree_regressor_param_selection(X_train_scaled, y_train, 3)\n",
    "print(\"now =\"+str(datetime.now()))\n",
    "ada_boost_best_param     = ada_boost_regressor_param_selection(X_train_scaled, y_train, 3)\n",
    "print(\"now =\"+str(datetime.now()))\n",
    "linear_best_param         = linear_regressor_param_selection(X_train_scaled, y_train, 3)\n",
    "print(\"now =\"+str(datetime.now()))\n",
    "neural_network_best_param = neural_network_regressor_param_selection(X_train_scaled, y_train, 3)\n",
    "print(\"now =\"+str(datetime.now()))\n",
    "#gaussian_best_param       = gaussian_regressor_param_selection(x_train_scaled, y_train, 3)\n",
    "#print(\"now =\"+str(datetime.now()))"
   ]
  },
  {
   "cell_type": "code",
   "execution_count": 119,
   "metadata": {},
   "outputs": [
    {
     "name": "stdout",
     "output_type": "stream",
     "text": [
      "MSE for SVR: 33350.52712793564\n"
     ]
    }
   ],
   "source": [
    "#Checking MSE of each of the best regressors on test data\n",
    "best_svr = SVR(C=1, gamma=0.001, kernel='linear')\n",
    "best_svr.fit(X_train_scaled, y_train)\n",
    "y_pred = best_svr.predict(X_test_scaled)\n",
    "print('MSE for SVR: '+str(mean_squared_error(y_test, y_pred)))"
   ]
  },
  {
   "cell_type": "code",
   "execution_count": 120,
   "metadata": {},
   "outputs": [
    {
     "name": "stdout",
     "output_type": "stream",
     "text": [
      "MSE for Decision Tree Regressor: 52284.59943315354\n"
     ]
    }
   ],
   "source": [
    "best_decision_tree_regressor = DecisionTreeRegressor(max_features='sqrt', min_samples_leaf=0.03, random_state=0)\n",
    "best_decision_tree_regressor.fit(X_train_scaled, y_train)\n",
    "y_pred = best_decision_tree_regressor.predict(X_test_scaled)\n",
    "print('MSE for Decision Tree Regressor: '+str(mean_squared_error(y_test, y_pred)))"
   ]
  },
  {
   "cell_type": "code",
   "execution_count": 121,
   "metadata": {},
   "outputs": [
    {
     "name": "stdout",
     "output_type": "stream",
     "text": [
      "MSE for Random Forest Regressor: 28521.87742583811\n"
     ]
    }
   ],
   "source": [
    "best_random_forest_regressor = RandomForestRegressor(max_features='sqrt', min_samples_leaf=0.04, n_estimators=31, random_state=0)\n",
    "best_random_forest_regressor.fit(X_train_scaled, y_train)\n",
    "y_pred = best_random_forest_regressor.predict(X_test_scaled)\n",
    "print('MSE for Random Forest Regressor: '+str(mean_squared_error(y_test, y_pred)))"
   ]
  },
  {
   "cell_type": "code",
   "execution_count": 122,
   "metadata": {},
   "outputs": [
    {
     "name": "stdout",
     "output_type": "stream",
     "text": [
      "MSE for AdaBoost Regressor: 27948.956750707002\n"
     ]
    }
   ],
   "source": [
    "best_ada_boost_regressor = AdaBoostRegressor(learning_rate=0.03, loss='exponential', n_estimators=16, random_state=0)\n",
    "best_ada_boost_regressor.fit(X_train_scaled, y_train)\n",
    "y_pred = best_ada_boost_regressor.predict(X_test_scaled)\n",
    "print('MSE for AdaBoost Regressor: '+str(mean_squared_error(y_test, y_pred)))"
   ]
  },
  {
   "cell_type": "code",
   "execution_count": 123,
   "metadata": {},
   "outputs": [
    {
     "name": "stdout",
     "output_type": "stream",
     "text": [
      "MSE for Linear Regressor: 4194.209974214472\n"
     ]
    }
   ],
   "source": [
    "best_linear_regressor = LinearRegression(copy_X=True, fit_intercept=True, normalize=False)\n",
    "best_linear_regressor.fit(X_train_scaled, y_train)\n",
    "y_pred = best_linear_regressor.predict(X_test_scaled)\n",
    "print('MSE for Linear Regressor: '+str(mean_squared_error(y_test, y_pred)))"
   ]
  },
  {
   "cell_type": "code",
   "execution_count": 127,
   "metadata": {},
   "outputs": [
    {
     "name": "stdout",
     "output_type": "stream",
     "text": [
      "MSE for Neural Network Regressor: 7453.0181551513715\n"
     ]
    }
   ],
   "source": [
    "best_neural_network_regressor = MLPRegressor(max_iter=900, activation='relu', alpha=0.0001, hidden_layer_sizes=(5,), learning_rate='adaptive', learning_rate_init=0.1, random_state=0)\n",
    "best_neural_network_regressor.fit(X_train_scaled, y_train)\n",
    "y_pred = best_neural_network_regressor.predict(X_test_scaled)\n",
    "print('MSE for Neural Network Regressor: '+str(mean_squared_error(y_test, y_pred)))"
   ]
  },
  {
   "cell_type": "code",
   "execution_count": null,
   "metadata": {},
   "outputs": [],
   "source": []
  }
 ],
 "metadata": {
  "kernelspec": {
   "display_name": "Python 3",
   "language": "python",
   "name": "python3"
  },
  "language_info": {
   "codemirror_mode": {
    "name": "ipython",
    "version": 3
   },
   "file_extension": ".py",
   "mimetype": "text/x-python",
   "name": "python",
   "nbconvert_exporter": "python",
   "pygments_lexer": "ipython3",
   "version": "3.7.0"
  }
 },
 "nbformat": 4,
 "nbformat_minor": 2
}
