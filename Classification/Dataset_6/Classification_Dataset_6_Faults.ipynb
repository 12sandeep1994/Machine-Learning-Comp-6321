{
 "cells": [
  {
   "cell_type": "code",
   "execution_count": 2,
   "metadata": {},
   "outputs": [],
   "source": [
    "#Basic imports for all datasets\n",
    "import numpy as np \n",
    "import pandas as pd   # for data reading \n",
    "import matplotlib.pyplot as plt\n",
    "import sklearn\n",
    "import sklearn.linear_model\n",
    "import sklearn.tree\n",
    "import sklearn.ensemble\n",
    "import sklearn.naive_bayes\n",
    "import sklearn.neural_network\n",
    "from sklearn import preprocessing\n",
    "from sklearn.model_selection import train_test_split\n",
    "import sklearn.metrics           # For accuracy_score\n",
    "import sklearn.model_selection   # For GridSearchCV and RandomizedSearchCV\n",
    "import scipy\n",
    "import scipy.stats               # For reciprocal distribution\n",
    "import warnings\n",
    "warnings.filterwarnings(\"ignore\", category=DeprecationWarning)  # Ignore sklearn deprecation warnings\n",
    "warnings.filterwarnings(\"ignore\", category=FutureWarning)       # Ignore sklearn deprecation warnings\n",
    "from sklearn.gaussian_process.kernels import RBF, ConstantKernel, RationalQuadratic, ExpSineSquared"
   ]
  },
  {
   "cell_type": "code",
   "execution_count": 5,
   "metadata": {},
   "outputs": [
    {
     "data": {
      "text/html": [
       "<div>\n",
       "<style scoped>\n",
       "    .dataframe tbody tr th:only-of-type {\n",
       "        vertical-align: middle;\n",
       "    }\n",
       "\n",
       "    .dataframe tbody tr th {\n",
       "        vertical-align: top;\n",
       "    }\n",
       "\n",
       "    .dataframe thead th {\n",
       "        text-align: right;\n",
       "    }\n",
       "</style>\n",
       "<table border=\"1\" class=\"dataframe\">\n",
       "  <thead>\n",
       "    <tr style=\"text-align: right;\">\n",
       "      <th></th>\n",
       "      <th>count</th>\n",
       "      <th>unique</th>\n",
       "      <th>top</th>\n",
       "      <th>freq</th>\n",
       "    </tr>\n",
       "  </thead>\n",
       "  <tbody>\n",
       "    <tr>\n",
       "      <th>645\\t651\\t2538079\\t2538108\\t108\\t10\\t30\\t11397\\t84\\t123\\t1687\\t1\\t0\\t80\\t0.7647\\t0.3793\\t0.2069\\t0.0036\\t0.6\\t0.9667\\t1\\t2.0334\\t0.7782\\t1.4624\\t0.7931\\t-0.1756\\t0.2984\\t1\\t0\\t0\\t0\\t0\\t0\\t0</th>\n",
       "      <td>1939</td>\n",
       "      <td>1939</td>\n",
       "      <td>299\\t309\\t1692615\\t1692621\\t21\\t15\\t7\\t2683\\t1...</td>\n",
       "      <td>1</td>\n",
       "    </tr>\n",
       "  </tbody>\n",
       "</table>\n",
       "</div>"
      ],
      "text/plain": [
       "                                                   count unique  \\\n",
       "645\\t651\\t2538079\\t2538108\\t108\\t10\\t30\\t11397\\...  1939   1939   \n",
       "\n",
       "                                                                                                  top  \\\n",
       "645\\t651\\t2538079\\t2538108\\t108\\t10\\t30\\t11397\\...  299\\t309\\t1692615\\t1692621\\t21\\t15\\t7\\t2683\\t1...   \n",
       "\n",
       "                                                   freq  \n",
       "645\\t651\\t2538079\\t2538108\\t108\\t10\\t30\\t11397\\...    1  "
      ]
     },
     "execution_count": 5,
     "metadata": {},
     "output_type": "execute_result"
    }
   ],
   "source": [
    "#Dataset 2 : Default of credit card clients\n",
    "\n",
    "#Loading dataset\n",
    "data = np.loadtxt('Faults.NNA',dtype = 'str', delimiter=' ')\n",
    "c1 = data[data[:,27] > 0] \n",
    "c2 = data[data[:,28] > 0] \n",
    "c3 = data[data[:,29] > 0] \n",
    "c4 = data[data[:,30] > 0] \n",
    "c5 = data[data[:,31] > 0] \n",
    "c6 = data[data[:,32] > 0] \n",
    "c7 = data[data[:,33] > 0] \n",
    "c2[:,27] = 2\n",
    "c3[:,27] = 3\n",
    "c4[:,27] = 4\n",
    "c5[:,27] = 5\n",
    "c6[:,27] = 6\n",
    "c7[:,27] = 7\n",
    "data = np.concatenate((c1,c2,c3,c4,c5,c6,c7))\n",
    "\n",
    "df = pd.DataFrame({'A1':data[:, 0], 'A2':data[:, 1], 'A3':data[:, 2], 'A4':data[:, 4], 'A5':data[:, 5], \n",
    "                   'A6':data[:, 5], 'A7':data[:, 6], 'A8':data[:, 7], 'A9':data[:, 8], 'A10':data[:, 9], \n",
    "                   'A11':data[:, 10], 'A12':data[:, 11], 'A13':data[:, 12], 'A14':data[:, 13], 'Class attribute':data[:, 14] })\n",
    "\n",
    "df.sample(5)"
   ]
  },
  {
   "cell_type": "code",
   "execution_count": 6,
   "metadata": {},
   "outputs": [
    {
     "data": {
      "text/plain": [
       "0.41645244215938304"
      ]
     },
     "execution_count": 6,
     "metadata": {},
     "output_type": "execute_result"
    }
   ],
   "source": [
    "#k-Nearest neighbours classification\n",
    "knn_model = sklearn.neighbors.KNeighborsClassifier(n_neighbors=7)\n",
    "knn_model.fit(X_train, y_train)\n",
    "y_pred = knn_model.predict(X_test)\n",
    "sklearn.metrics.accuracy_score(y_test, y_pred)"
   ]
  },
  {
   "cell_type": "code",
   "execution_count": 5,
   "metadata": {},
   "outputs": [
    {
     "data": {
      "text/plain": [
       "0.442159383033419"
      ]
     },
     "execution_count": 5,
     "metadata": {},
     "output_type": "execute_result"
    }
   ],
   "source": [
    "#Logistic regression\n",
    "logistic_model = sklearn.linear_model.LogisticRegression(C = 10,fit_intercept=True, penalty='l2', \n",
    "                 solver='saga',multi_class = 'multinomial',max_iter = 10000)\n",
    "logistic_model.fit(X_train, y_train);\n",
    "y_pred = logistic_model.predict(X_test)\n",
    "sklearn.metrics.accuracy_score(y_test, y_pred)"
   ]
  },
  {
   "cell_type": "code",
   "execution_count": 7,
   "metadata": {},
   "outputs": [
    {
     "name": "stderr",
     "output_type": "stream",
     "text": [
      "/home/kbeepi/anaconda3/lib/python3.7/site-packages/sklearn/svm/base.py:196: FutureWarning: The default value of gamma will change from 'auto' to 'scale' in version 0.22 to account better for unscaled features. Set gamma explicitly to 'auto' or 'scale' to avoid this warning.\n",
      "  \"avoid this warning.\", FutureWarning)\n"
     ]
    },
    {
     "data": {
      "text/plain": [
       "0.3341902313624679"
      ]
     },
     "execution_count": 7,
     "metadata": {},
     "output_type": "execute_result"
    }
   ],
   "source": [
    "#SVM classifier\n",
    "svm_model = sklearn.svm.SVC()\n",
    "svm_model.fit(X_train, y_train)\n",
    "y_pred = svm_model.predict(X_test)\n",
    "sklearn.metrics.accuracy_score(y_test, y_pred)"
   ]
  },
  {
   "cell_type": "code",
   "execution_count": 8,
   "metadata": {},
   "outputs": [
    {
     "data": {
      "text/plain": [
       "0.7352185089974294"
      ]
     },
     "execution_count": 8,
     "metadata": {},
     "output_type": "execute_result"
    }
   ],
   "source": [
    "#Decision tree classification\n",
    "DTC_model = sklearn.tree.DecisionTreeClassifier()\n",
    "DTC_model.fit(X_train, y_train)\n",
    "y_pred = DTC_model.predict(X_test)\n",
    "sklearn.metrics.accuracy_score(y_test, y_pred)"
   ]
  },
  {
   "cell_type": "code",
   "execution_count": 9,
   "metadata": {},
   "outputs": [
    {
     "name": "stderr",
     "output_type": "stream",
     "text": [
      "/home/kbeepi/anaconda3/lib/python3.7/site-packages/sklearn/ensemble/forest.py:246: FutureWarning: The default value of n_estimators will change from 10 in version 0.20 to 100 in 0.22.\n",
      "  \"10 in version 0.20 to 100 in 0.22.\", FutureWarning)\n"
     ]
    },
    {
     "data": {
      "text/plain": [
       "0.7532133676092545"
      ]
     },
     "execution_count": 9,
     "metadata": {},
     "output_type": "execute_result"
    }
   ],
   "source": [
    "#Random forest classification\n",
    "RFC_model = sklearn.ensemble.RandomForestClassifier()\n",
    "RFC_model.fit(X_train, y_train)\n",
    "y_pred = RFC_model.predict(X_test)\n",
    "sklearn.metrics.accuracy_score(y_test, y_pred)"
   ]
  },
  {
   "cell_type": "code",
   "execution_count": 10,
   "metadata": {},
   "outputs": [
    {
     "data": {
      "text/plain": [
       "0.4884318766066838"
      ]
     },
     "execution_count": 10,
     "metadata": {},
     "output_type": "execute_result"
    }
   ],
   "source": [
    "#AdaBoost classification\n",
    "ABC_model = sklearn.ensemble.AdaBoostClassifier()\n",
    "ABC_model.fit(X_train, y_train)\n",
    "y_pred = ABC_model.predict(X_test)\n",
    "sklearn.metrics.accuracy_score(y_test, y_pred)"
   ]
  },
  {
   "cell_type": "code",
   "execution_count": 11,
   "metadata": {},
   "outputs": [
    {
     "data": {
      "text/plain": [
       "0.4884318766066838"
      ]
     },
     "execution_count": 11,
     "metadata": {},
     "output_type": "execute_result"
    }
   ],
   "source": [
    "#Gaussian naive Bayes classification\n",
    "GNB_model = sklearn.naive_bayes.GaussianNB()\n",
    "GNB_model.fit(X_train, y_train)\n",
    "y_pred = ABC_model.predict(X_test)\n",
    "sklearn.metrics.accuracy_score(y_test, y_pred)"
   ]
  },
  {
   "cell_type": "code",
   "execution_count": 12,
   "metadata": {},
   "outputs": [
    {
     "data": {
      "text/plain": [
       "0.2133676092544987"
      ]
     },
     "execution_count": 12,
     "metadata": {},
     "output_type": "execute_result"
    }
   ],
   "source": [
    "#Neural network classification\n",
    "NNC_model = sklearn.neural_network.MLPClassifier()\n",
    "NNC_model.fit(X_train, y_train)\n",
    "y_pred = NNC_model.predict(X_test)\n",
    "sklearn.metrics.accuracy_score(y_test, y_pred)"
   ]
  }
 ],
 "metadata": {
  "kernelspec": {
   "display_name": "Python 3",
   "language": "python",
   "name": "python3"
  },
  "language_info": {
   "codemirror_mode": {
    "name": "ipython",
    "version": 3
   },
   "file_extension": ".py",
   "mimetype": "text/x-python",
   "name": "python",
   "nbconvert_exporter": "python",
   "pygments_lexer": "ipython3",
   "version": "3.7.1"
  }
 },
 "nbformat": 4,
 "nbformat_minor": 2
}
