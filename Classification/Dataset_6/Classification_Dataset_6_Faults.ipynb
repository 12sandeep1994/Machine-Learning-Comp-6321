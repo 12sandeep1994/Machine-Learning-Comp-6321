{
 "cells": [
  {
   "cell_type": "code",
   "execution_count": 1,
   "metadata": {},
   "outputs": [],
   "source": [
    "#Basic imports for all datasets\n",
    "import numpy as np \n",
    "import pandas as pd   # for data reading \n",
    "import matplotlib.pyplot as plt\n",
    "import sklearn\n",
    "import sklearn.linear_model\n",
    "import sklearn.tree\n",
    "import sklearn.ensemble\n",
    "import sklearn.naive_bayes\n",
    "import sklearn.neural_network\n",
    "from sklearn import preprocessing\n",
    "from sklearn.model_selection import train_test_split\n",
    "import sklearn.metrics           # For accuracy_score\n",
    "import sklearn.model_selection   # For GridSearchCV and RandomizedSearchCV\n",
    "import scipy\n",
    "import scipy.stats               # For reciprocal distribution\n",
    "import warnings\n",
    "warnings.filterwarnings(\"ignore\", category=DeprecationWarning)  # Ignore sklearn deprecation warnings\n",
    "warnings.filterwarnings(\"ignore\", category=FutureWarning)       # Ignore sklearn deprecation warnings\n",
    "from sklearn.gaussian_process.kernels import RBF, ConstantKernel, RationalQuadratic, ExpSineSquared"
   ]
  },
  {
   "cell_type": "code",
   "execution_count": 2,
   "metadata": {},
   "outputs": [
    {
     "data": {
      "text/html": [
       "<div>\n",
       "<style scoped>\n",
       "    .dataframe tbody tr th:only-of-type {\n",
       "        vertical-align: middle;\n",
       "    }\n",
       "\n",
       "    .dataframe tbody tr th {\n",
       "        vertical-align: top;\n",
       "    }\n",
       "\n",
       "    .dataframe thead th {\n",
       "        text-align: right;\n",
       "    }\n",
       "</style>\n",
       "<table border=\"1\" class=\"dataframe\">\n",
       "  <thead>\n",
       "    <tr style=\"text-align: right;\">\n",
       "      <th></th>\n",
       "      <th>0</th>\n",
       "      <th>1</th>\n",
       "      <th>2</th>\n",
       "      <th>3</th>\n",
       "      <th>4</th>\n",
       "      <th>5</th>\n",
       "      <th>6</th>\n",
       "      <th>7</th>\n",
       "      <th>8</th>\n",
       "      <th>9</th>\n",
       "      <th>...</th>\n",
       "      <th>24</th>\n",
       "      <th>25</th>\n",
       "      <th>26</th>\n",
       "      <th>27</th>\n",
       "      <th>28</th>\n",
       "      <th>29</th>\n",
       "      <th>30</th>\n",
       "      <th>31</th>\n",
       "      <th>32</th>\n",
       "      <th>33</th>\n",
       "    </tr>\n",
       "  </thead>\n",
       "  <tbody>\n",
       "    <tr>\n",
       "      <th>count</th>\n",
       "      <td>1941.000000</td>\n",
       "      <td>1941.000000</td>\n",
       "      <td>1.941000e+03</td>\n",
       "      <td>1.941000e+03</td>\n",
       "      <td>1941.000000</td>\n",
       "      <td>1941.000000</td>\n",
       "      <td>1941.000000</td>\n",
       "      <td>1.941000e+03</td>\n",
       "      <td>1941.000000</td>\n",
       "      <td>1941.000000</td>\n",
       "      <td>...</td>\n",
       "      <td>1941.000000</td>\n",
       "      <td>1941.000000</td>\n",
       "      <td>1941.000000</td>\n",
       "      <td>1941.000000</td>\n",
       "      <td>1941.000000</td>\n",
       "      <td>1941.000000</td>\n",
       "      <td>1941.000000</td>\n",
       "      <td>1941.000000</td>\n",
       "      <td>1941.000000</td>\n",
       "      <td>1941.000000</td>\n",
       "    </tr>\n",
       "    <tr>\n",
       "      <th>mean</th>\n",
       "      <td>571.136012</td>\n",
       "      <td>617.964451</td>\n",
       "      <td>1.650685e+06</td>\n",
       "      <td>1.650739e+06</td>\n",
       "      <td>1893.878413</td>\n",
       "      <td>111.855229</td>\n",
       "      <td>82.965997</td>\n",
       "      <td>2.063121e+05</td>\n",
       "      <td>84.548686</td>\n",
       "      <td>130.193715</td>\n",
       "      <td>...</td>\n",
       "      <td>0.083288</td>\n",
       "      <td>-0.131305</td>\n",
       "      <td>0.585420</td>\n",
       "      <td>0.081401</td>\n",
       "      <td>0.097888</td>\n",
       "      <td>0.201443</td>\n",
       "      <td>0.037094</td>\n",
       "      <td>0.028336</td>\n",
       "      <td>0.207110</td>\n",
       "      <td>0.346728</td>\n",
       "    </tr>\n",
       "    <tr>\n",
       "      <th>std</th>\n",
       "      <td>520.690671</td>\n",
       "      <td>497.627410</td>\n",
       "      <td>1.774578e+06</td>\n",
       "      <td>1.774590e+06</td>\n",
       "      <td>5168.459560</td>\n",
       "      <td>301.209187</td>\n",
       "      <td>426.482879</td>\n",
       "      <td>5.122936e+05</td>\n",
       "      <td>32.134276</td>\n",
       "      <td>18.690992</td>\n",
       "      <td>...</td>\n",
       "      <td>0.500868</td>\n",
       "      <td>0.148767</td>\n",
       "      <td>0.339452</td>\n",
       "      <td>0.273521</td>\n",
       "      <td>0.297239</td>\n",
       "      <td>0.401181</td>\n",
       "      <td>0.189042</td>\n",
       "      <td>0.165973</td>\n",
       "      <td>0.405339</td>\n",
       "      <td>0.476051</td>\n",
       "    </tr>\n",
       "    <tr>\n",
       "      <th>min</th>\n",
       "      <td>0.000000</td>\n",
       "      <td>4.000000</td>\n",
       "      <td>6.712000e+03</td>\n",
       "      <td>6.724000e+03</td>\n",
       "      <td>2.000000</td>\n",
       "      <td>2.000000</td>\n",
       "      <td>1.000000</td>\n",
       "      <td>2.500000e+02</td>\n",
       "      <td>0.000000</td>\n",
       "      <td>37.000000</td>\n",
       "      <td>...</td>\n",
       "      <td>-0.991000</td>\n",
       "      <td>-0.998900</td>\n",
       "      <td>0.119000</td>\n",
       "      <td>0.000000</td>\n",
       "      <td>0.000000</td>\n",
       "      <td>0.000000</td>\n",
       "      <td>0.000000</td>\n",
       "      <td>0.000000</td>\n",
       "      <td>0.000000</td>\n",
       "      <td>0.000000</td>\n",
       "    </tr>\n",
       "    <tr>\n",
       "      <th>25%</th>\n",
       "      <td>51.000000</td>\n",
       "      <td>192.000000</td>\n",
       "      <td>4.712530e+05</td>\n",
       "      <td>4.712810e+05</td>\n",
       "      <td>84.000000</td>\n",
       "      <td>15.000000</td>\n",
       "      <td>13.000000</td>\n",
       "      <td>9.522000e+03</td>\n",
       "      <td>63.000000</td>\n",
       "      <td>124.000000</td>\n",
       "      <td>...</td>\n",
       "      <td>-0.333300</td>\n",
       "      <td>-0.195000</td>\n",
       "      <td>0.248200</td>\n",
       "      <td>0.000000</td>\n",
       "      <td>0.000000</td>\n",
       "      <td>0.000000</td>\n",
       "      <td>0.000000</td>\n",
       "      <td>0.000000</td>\n",
       "      <td>0.000000</td>\n",
       "      <td>0.000000</td>\n",
       "    </tr>\n",
       "    <tr>\n",
       "      <th>50%</th>\n",
       "      <td>435.000000</td>\n",
       "      <td>467.000000</td>\n",
       "      <td>1.204128e+06</td>\n",
       "      <td>1.204136e+06</td>\n",
       "      <td>174.000000</td>\n",
       "      <td>26.000000</td>\n",
       "      <td>25.000000</td>\n",
       "      <td>1.920200e+04</td>\n",
       "      <td>90.000000</td>\n",
       "      <td>127.000000</td>\n",
       "      <td>...</td>\n",
       "      <td>0.095200</td>\n",
       "      <td>-0.133000</td>\n",
       "      <td>0.506300</td>\n",
       "      <td>0.000000</td>\n",
       "      <td>0.000000</td>\n",
       "      <td>0.000000</td>\n",
       "      <td>0.000000</td>\n",
       "      <td>0.000000</td>\n",
       "      <td>0.000000</td>\n",
       "      <td>0.000000</td>\n",
       "    </tr>\n",
       "    <tr>\n",
       "      <th>75%</th>\n",
       "      <td>1053.000000</td>\n",
       "      <td>1072.000000</td>\n",
       "      <td>2.183073e+06</td>\n",
       "      <td>2.183084e+06</td>\n",
       "      <td>822.000000</td>\n",
       "      <td>84.000000</td>\n",
       "      <td>83.000000</td>\n",
       "      <td>8.301100e+04</td>\n",
       "      <td>106.000000</td>\n",
       "      <td>140.000000</td>\n",
       "      <td>...</td>\n",
       "      <td>0.511600</td>\n",
       "      <td>-0.066600</td>\n",
       "      <td>0.999800</td>\n",
       "      <td>0.000000</td>\n",
       "      <td>0.000000</td>\n",
       "      <td>0.000000</td>\n",
       "      <td>0.000000</td>\n",
       "      <td>0.000000</td>\n",
       "      <td>0.000000</td>\n",
       "      <td>1.000000</td>\n",
       "    </tr>\n",
       "    <tr>\n",
       "      <th>max</th>\n",
       "      <td>1705.000000</td>\n",
       "      <td>1713.000000</td>\n",
       "      <td>1.298766e+07</td>\n",
       "      <td>1.298769e+07</td>\n",
       "      <td>152655.000000</td>\n",
       "      <td>10449.000000</td>\n",
       "      <td>18152.000000</td>\n",
       "      <td>1.159141e+07</td>\n",
       "      <td>203.000000</td>\n",
       "      <td>253.000000</td>\n",
       "      <td>...</td>\n",
       "      <td>0.991700</td>\n",
       "      <td>0.642100</td>\n",
       "      <td>1.000000</td>\n",
       "      <td>1.000000</td>\n",
       "      <td>1.000000</td>\n",
       "      <td>1.000000</td>\n",
       "      <td>1.000000</td>\n",
       "      <td>1.000000</td>\n",
       "      <td>1.000000</td>\n",
       "      <td>1.000000</td>\n",
       "    </tr>\n",
       "  </tbody>\n",
       "</table>\n",
       "<p>8 rows × 34 columns</p>\n",
       "</div>"
      ],
      "text/plain": [
       "                0            1             2             3              4   \\\n",
       "count  1941.000000  1941.000000  1.941000e+03  1.941000e+03    1941.000000   \n",
       "mean    571.136012   617.964451  1.650685e+06  1.650739e+06    1893.878413   \n",
       "std     520.690671   497.627410  1.774578e+06  1.774590e+06    5168.459560   \n",
       "min       0.000000     4.000000  6.712000e+03  6.724000e+03       2.000000   \n",
       "25%      51.000000   192.000000  4.712530e+05  4.712810e+05      84.000000   \n",
       "50%     435.000000   467.000000  1.204128e+06  1.204136e+06     174.000000   \n",
       "75%    1053.000000  1072.000000  2.183073e+06  2.183084e+06     822.000000   \n",
       "max    1705.000000  1713.000000  1.298766e+07  1.298769e+07  152655.000000   \n",
       "\n",
       "                 5             6             7            8            9   \\\n",
       "count   1941.000000   1941.000000  1.941000e+03  1941.000000  1941.000000   \n",
       "mean     111.855229     82.965997  2.063121e+05    84.548686   130.193715   \n",
       "std      301.209187    426.482879  5.122936e+05    32.134276    18.690992   \n",
       "min        2.000000      1.000000  2.500000e+02     0.000000    37.000000   \n",
       "25%       15.000000     13.000000  9.522000e+03    63.000000   124.000000   \n",
       "50%       26.000000     25.000000  1.920200e+04    90.000000   127.000000   \n",
       "75%       84.000000     83.000000  8.301100e+04   106.000000   140.000000   \n",
       "max    10449.000000  18152.000000  1.159141e+07   203.000000   253.000000   \n",
       "\n",
       "          ...                24           25           26           27  \\\n",
       "count     ...       1941.000000  1941.000000  1941.000000  1941.000000   \n",
       "mean      ...          0.083288    -0.131305     0.585420     0.081401   \n",
       "std       ...          0.500868     0.148767     0.339452     0.273521   \n",
       "min       ...         -0.991000    -0.998900     0.119000     0.000000   \n",
       "25%       ...         -0.333300    -0.195000     0.248200     0.000000   \n",
       "50%       ...          0.095200    -0.133000     0.506300     0.000000   \n",
       "75%       ...          0.511600    -0.066600     0.999800     0.000000   \n",
       "max       ...          0.991700     0.642100     1.000000     1.000000   \n",
       "\n",
       "                28           29           30           31           32  \\\n",
       "count  1941.000000  1941.000000  1941.000000  1941.000000  1941.000000   \n",
       "mean      0.097888     0.201443     0.037094     0.028336     0.207110   \n",
       "std       0.297239     0.401181     0.189042     0.165973     0.405339   \n",
       "min       0.000000     0.000000     0.000000     0.000000     0.000000   \n",
       "25%       0.000000     0.000000     0.000000     0.000000     0.000000   \n",
       "50%       0.000000     0.000000     0.000000     0.000000     0.000000   \n",
       "75%       0.000000     0.000000     0.000000     0.000000     0.000000   \n",
       "max       1.000000     1.000000     1.000000     1.000000     1.000000   \n",
       "\n",
       "                33  \n",
       "count  1941.000000  \n",
       "mean      0.346728  \n",
       "std       0.476051  \n",
       "min       0.000000  \n",
       "25%       0.000000  \n",
       "50%       0.000000  \n",
       "75%       1.000000  \n",
       "max       1.000000  \n",
       "\n",
       "[8 rows x 34 columns]"
      ]
     },
     "metadata": {},
     "output_type": "display_data"
    }
   ],
   "source": [
    "#Dataset 6 : Faults \n",
    "\n",
    "#Loading dataset\n",
    "np.random.seed(0)\n",
    "data = np.loadtxt('Faults.NNA')\n",
    "df = pd.DataFrame(data)\n",
    "df.head()\n",
    "display(df.describe(include=\"all\"))"
   ]
  },
  {
   "cell_type": "code",
   "execution_count": 3,
   "metadata": {},
   "outputs": [
    {
     "name": "stdout",
     "output_type": "stream",
     "text": [
      "(1941, 7)\n"
     ]
    }
   ],
   "source": [
    "#Splitting training and testing data\n",
    "y_dataframe =data[:,27:34]\n",
    "print(y_dataframe.shape)\n",
    "y = []\n",
    "for i in range(y_dataframe.shape[0]):\n",
    "    if y_dataframe[i][0] == 1:\n",
    "        y.append(0)\n",
    "#         print(\"Heree\")\n",
    "    elif y_dataframe[i][1] == 1:\n",
    "        y.append(1)\n",
    "    elif y_dataframe[i][2] == 1:\n",
    "        y.append(2)\n",
    "    elif y_dataframe[i][3] == 1:\n",
    "        y.append(3)\n",
    "    elif y_dataframe[i][4] == 1:\n",
    "        y.append(4)\n",
    "    elif y_dataframe[i][5] == 1:\n",
    "        y.append(5)\n",
    "    elif y_dataframe[i][6] == 1:\n",
    "        y.append(6)\n",
    "#     print(\"Her\"+str(i))\n",
    "y = np.array(y)\n",
    "X_train, X_test, y_train, y_test = train_test_split(\n",
    "    data[:,0:27], \n",
    "    y, \n",
    "    test_size=0.2, \n",
    "    random_state=0)\n",
    "X_train = X_train.astype(np.float)\n",
    "X_test = X_test.astype(np.float)"
   ]
  },
  {
   "cell_type": "code",
   "execution_count": 4,
   "metadata": {},
   "outputs": [
    {
     "name": "stdout",
     "output_type": "stream",
     "text": [
      "Fitting 5 folds for each of 10 candidates, totalling 50 fits\n"
     ]
    },
    {
     "name": "stderr",
     "output_type": "stream",
     "text": [
      "[Parallel(n_jobs=1)]: Using backend SequentialBackend with 1 concurrent workers.\n"
     ]
    },
    {
     "name": "stdout",
     "output_type": "stream",
     "text": [
      "KNeighborsClassifier(algorithm='auto', leaf_size=30, metric='minkowski',\n",
      "           metric_params=None, n_jobs=-1, n_neighbors=37, p=2,\n",
      "           weights='uniform')\n"
     ]
    },
    {
     "name": "stderr",
     "output_type": "stream",
     "text": [
      "[Parallel(n_jobs=1)]: Done  50 out of  50 | elapsed:    5.8s finished\n"
     ]
    },
    {
     "data": {
      "text/plain": [
       "0.46786632390745503"
      ]
     },
     "execution_count": 4,
     "metadata": {},
     "output_type": "execute_result"
    }
   ],
   "source": [
    "#k-Nearest neighbours classification\n",
    "knn_model = sklearn.neighbors.KNeighborsClassifier(n_jobs=-1)\n",
    "param_grid = {'n_neighbors':(np.arange(2,52, 5))}\n",
    "\n",
    "mdls = sklearn.model_selection.GridSearchCV(knn_model, param_grid, verbose=1,cv=5).fit(X_train, y_train)\n",
    "print(mdls.best_estimator_)\n",
    "y_pred = mdls.best_estimator_.predict(X_test)\n",
    "sklearn.metrics.accuracy_score(y_test, y_pred)"
   ]
  },
  {
   "cell_type": "code",
   "execution_count": 5,
   "metadata": {},
   "outputs": [
    {
     "name": "stderr",
     "output_type": "stream",
     "text": [
      "[Parallel(n_jobs=1)]: Using backend SequentialBackend with 1 concurrent workers.\n"
     ]
    },
    {
     "name": "stdout",
     "output_type": "stream",
     "text": [
      "Fitting 5 folds for each of 15 candidates, totalling 75 fits\n"
     ]
    },
    {
     "name": "stderr",
     "output_type": "stream",
     "text": [
      "/home/kbeepi/anaconda3/lib/python3.7/site-packages/sklearn/linear_model/logistic.py:1297: UserWarning: 'n_jobs' > 1 does not have any effect when 'solver' is set to 'liblinear'. Got 'n_jobs' = 4.\n",
      "  \" = {}.\".format(effective_n_jobs(self.n_jobs)))\n",
      "/home/kbeepi/anaconda3/lib/python3.7/site-packages/sklearn/linear_model/logistic.py:1297: UserWarning: 'n_jobs' > 1 does not have any effect when 'solver' is set to 'liblinear'. Got 'n_jobs' = 4.\n",
      "  \" = {}.\".format(effective_n_jobs(self.n_jobs)))\n",
      "/home/kbeepi/anaconda3/lib/python3.7/site-packages/sklearn/linear_model/logistic.py:1297: UserWarning: 'n_jobs' > 1 does not have any effect when 'solver' is set to 'liblinear'. Got 'n_jobs' = 4.\n",
      "  \" = {}.\".format(effective_n_jobs(self.n_jobs)))\n",
      "/home/kbeepi/anaconda3/lib/python3.7/site-packages/sklearn/linear_model/logistic.py:1297: UserWarning: 'n_jobs' > 1 does not have any effect when 'solver' is set to 'liblinear'. Got 'n_jobs' = 4.\n",
      "  \" = {}.\".format(effective_n_jobs(self.n_jobs)))\n",
      "/home/kbeepi/anaconda3/lib/python3.7/site-packages/sklearn/linear_model/logistic.py:1297: UserWarning: 'n_jobs' > 1 does not have any effect when 'solver' is set to 'liblinear'. Got 'n_jobs' = 4.\n",
      "  \" = {}.\".format(effective_n_jobs(self.n_jobs)))\n",
      "/home/kbeepi/anaconda3/lib/python3.7/site-packages/sklearn/linear_model/logistic.py:1297: UserWarning: 'n_jobs' > 1 does not have any effect when 'solver' is set to 'liblinear'. Got 'n_jobs' = 4.\n",
      "  \" = {}.\".format(effective_n_jobs(self.n_jobs)))\n",
      "/home/kbeepi/anaconda3/lib/python3.7/site-packages/sklearn/linear_model/logistic.py:1297: UserWarning: 'n_jobs' > 1 does not have any effect when 'solver' is set to 'liblinear'. Got 'n_jobs' = 4.\n",
      "  \" = {}.\".format(effective_n_jobs(self.n_jobs)))\n",
      "/home/kbeepi/anaconda3/lib/python3.7/site-packages/sklearn/linear_model/logistic.py:1297: UserWarning: 'n_jobs' > 1 does not have any effect when 'solver' is set to 'liblinear'. Got 'n_jobs' = 4.\n",
      "  \" = {}.\".format(effective_n_jobs(self.n_jobs)))\n",
      "/home/kbeepi/anaconda3/lib/python3.7/site-packages/sklearn/linear_model/logistic.py:1297: UserWarning: 'n_jobs' > 1 does not have any effect when 'solver' is set to 'liblinear'. Got 'n_jobs' = 4.\n",
      "  \" = {}.\".format(effective_n_jobs(self.n_jobs)))\n",
      "/home/kbeepi/anaconda3/lib/python3.7/site-packages/sklearn/linear_model/logistic.py:1297: UserWarning: 'n_jobs' > 1 does not have any effect when 'solver' is set to 'liblinear'. Got 'n_jobs' = 4.\n",
      "  \" = {}.\".format(effective_n_jobs(self.n_jobs)))\n",
      "/home/kbeepi/anaconda3/lib/python3.7/site-packages/sklearn/linear_model/logistic.py:1297: UserWarning: 'n_jobs' > 1 does not have any effect when 'solver' is set to 'liblinear'. Got 'n_jobs' = 4.\n",
      "  \" = {}.\".format(effective_n_jobs(self.n_jobs)))\n",
      "/home/kbeepi/anaconda3/lib/python3.7/site-packages/sklearn/linear_model/logistic.py:1297: UserWarning: 'n_jobs' > 1 does not have any effect when 'solver' is set to 'liblinear'. Got 'n_jobs' = 4.\n",
      "  \" = {}.\".format(effective_n_jobs(self.n_jobs)))\n",
      "/home/kbeepi/anaconda3/lib/python3.7/site-packages/sklearn/linear_model/logistic.py:1297: UserWarning: 'n_jobs' > 1 does not have any effect when 'solver' is set to 'liblinear'. Got 'n_jobs' = 4.\n",
      "  \" = {}.\".format(effective_n_jobs(self.n_jobs)))\n",
      "/home/kbeepi/anaconda3/lib/python3.7/site-packages/sklearn/linear_model/logistic.py:1297: UserWarning: 'n_jobs' > 1 does not have any effect when 'solver' is set to 'liblinear'. Got 'n_jobs' = 4.\n",
      "  \" = {}.\".format(effective_n_jobs(self.n_jobs)))\n",
      "/home/kbeepi/anaconda3/lib/python3.7/site-packages/sklearn/linear_model/logistic.py:1297: UserWarning: 'n_jobs' > 1 does not have any effect when 'solver' is set to 'liblinear'. Got 'n_jobs' = 4.\n",
      "  \" = {}.\".format(effective_n_jobs(self.n_jobs)))\n",
      "[Parallel(n_jobs=1)]: Done  75 out of  75 | elapsed:  1.4min finished\n"
     ]
    },
    {
     "name": "stdout",
     "output_type": "stream",
     "text": [
      "LogisticRegression(C=1.0, class_weight=None, dual=False, fit_intercept=True,\n",
      "          intercept_scaling=1, max_iter=300, multi_class='warn', n_jobs=-1,\n",
      "          penalty='l2', random_state=None, solver='newton-cg', tol=0.0001,\n",
      "          verbose=0, warm_start=False)\n"
     ]
    },
    {
     "data": {
      "text/plain": [
       "0.6889460154241646"
      ]
     },
     "execution_count": 5,
     "metadata": {},
     "output_type": "execute_result"
    }
   ],
   "source": [
    "#Logistic regression (for classification)\n",
    "#Fit_intercept is set to True because we don't have bias\n",
    "# logistic_model = sklearn.linear_model.LogisticRegression(fit_intercept=True)\n",
    "logistic_model = sklearn.linear_model.LogisticRegression(n_jobs=-1)\n",
    "param_grid = { \"fit_intercept\":[True], \"solver\":['newton-cg', 'lbfgs', 'liblinear', 'sag', 'saga'], \n",
    "             \"max_iter\":np.arange(100,400, 100)}\n",
    "\n",
    "\n",
    "mdls = sklearn.model_selection.GridSearchCV(logistic_model, param_grid, verbose=1,cv=5).fit(X_train, y_train)\n",
    "print(mdls.best_estimator_)\n",
    "\n",
    "y_pred = mdls.best_estimator_.predict(X_test)\n",
    "sklearn.metrics.accuracy_score(y_test, y_pred)"
   ]
  },
  {
   "cell_type": "code",
   "execution_count": 6,
   "metadata": {},
   "outputs": [
    {
     "name": "stdout",
     "output_type": "stream",
     "text": [
      "Fitting 5 folds for each of 2550 candidates, totalling 12750 fits\n"
     ]
    },
    {
     "name": "stderr",
     "output_type": "stream",
     "text": [
      "[Parallel(n_jobs=1)]: Using backend SequentialBackend with 1 concurrent workers.\n"
     ]
    },
    {
     "name": "stdout",
     "output_type": "stream",
     "text": [
      "DecisionTreeClassifier(class_weight=None, criterion='gini', max_depth=11,\n",
      "            max_features='log2', max_leaf_nodes=None,\n",
      "            min_impurity_decrease=0.0, min_impurity_split=None,\n",
      "            min_samples_leaf=0.01, min_samples_split=0.1,\n",
      "            min_weight_fraction_leaf=0.0, presort=False, random_state=0,\n",
      "            splitter='best')\n"
     ]
    },
    {
     "name": "stderr",
     "output_type": "stream",
     "text": [
      "[Parallel(n_jobs=1)]: Done 12750 out of 12750 | elapsed:  1.3min finished\n"
     ]
    },
    {
     "data": {
      "text/plain": [
       "0.6478149100257069"
      ]
     },
     "execution_count": 6,
     "metadata": {},
     "output_type": "execute_result"
    }
   ],
   "source": [
    "#Decision tree classification\n",
    "DTC_model = sklearn.tree.DecisionTreeClassifier(random_state=0)\n",
    "Max_features = ['auto', 'sqrt', 'log2']\n",
    "Max_depths = np.arange(1,34,2)\n",
    "Min_samples_splits = np.linspace(0.1, 1.0, 10, endpoint=True)\n",
    "Min_samples_leafs = np.linspace(0.01, 0.05, 5, endpoint=True)\n",
    "param_grid = {'max_features': Max_features, 'max_depth': Max_depths,  'min_samples_split': Min_samples_splits, 'min_samples_leaf': Min_samples_leafs}\n",
    "\n",
    "mdls = sklearn.model_selection.GridSearchCV(DTC_model, param_grid, verbose=1,cv=5).fit(X_train, y_train)\n",
    "print(mdls.best_estimator_)\n",
    "\n",
    "y_pred = mdls.best_estimator_.predict(X_test)\n",
    "sklearn.metrics.accuracy_score(y_test, y_pred)"
   ]
  },
  {
   "cell_type": "code",
   "execution_count": 7,
   "metadata": {},
   "outputs": [
    {
     "name": "stderr",
     "output_type": "stream",
     "text": [
      "[Parallel(n_jobs=1)]: Using backend SequentialBackend with 1 concurrent workers.\n"
     ]
    },
    {
     "name": "stdout",
     "output_type": "stream",
     "text": [
      "Fitting 5 folds for each of 15 candidates, totalling 75 fits\n"
     ]
    },
    {
     "name": "stderr",
     "output_type": "stream",
     "text": [
      "[Parallel(n_jobs=1)]: Done  75 out of  75 | elapsed:  1.0min finished\n"
     ]
    },
    {
     "name": "stdout",
     "output_type": "stream",
     "text": [
      "RandomForestClassifier(bootstrap=True, class_weight=None, criterion='gini',\n",
      "            max_depth=None, max_features='auto', max_leaf_nodes=None,\n",
      "            min_impurity_decrease=0.0, min_impurity_split=None,\n",
      "            min_samples_leaf=1, min_samples_split=2,\n",
      "            min_weight_fraction_leaf=0.0, n_estimators=103, n_jobs=None,\n",
      "            oob_score=False, random_state=0, verbose=0, warm_start=False)\n"
     ]
    },
    {
     "data": {
      "text/plain": [
       "0.7532133676092545"
      ]
     },
     "execution_count": 7,
     "metadata": {},
     "output_type": "execute_result"
    }
   ],
   "source": [
    "#Random forest classification\n",
    "RFC_model = sklearn.ensemble.RandomForestClassifier(random_state=0)\n",
    "Estimators = np.arange(100,105,1)\n",
    "Max_features = ['auto', 'sqrt', 'log2']\n",
    "param_grid = {'n_estimators': Estimators,'max_features': Max_features, }\n",
    "\n",
    "mdls = sklearn.model_selection.GridSearchCV(RFC_model, param_grid, verbose=1,cv=5).fit(X_train, y_train)\n",
    "print(mdls.best_estimator_)\n",
    "\n",
    "y_pred = mdls.best_estimator_.predict(X_test)\n",
    "sklearn.metrics.accuracy_score(y_test, y_pred)"
   ]
  },
  {
   "cell_type": "code",
   "execution_count": 8,
   "metadata": {},
   "outputs": [
    {
     "name": "stdout",
     "output_type": "stream",
     "text": [
      "Fitting 5 folds for each of 50 candidates, totalling 250 fits\n"
     ]
    },
    {
     "name": "stderr",
     "output_type": "stream",
     "text": [
      "[Parallel(n_jobs=1)]: Using backend SequentialBackend with 1 concurrent workers.\n",
      "[Parallel(n_jobs=1)]: Done 250 out of 250 | elapsed:  2.1min finished\n"
     ]
    },
    {
     "name": "stdout",
     "output_type": "stream",
     "text": [
      "AdaBoostClassifier(algorithm='SAMME', base_estimator=None, learning_rate=1,\n",
      "          n_estimators=80, random_state=0)\n"
     ]
    },
    {
     "data": {
      "text/plain": [
       "0.6169665809768637"
      ]
     },
     "execution_count": 8,
     "metadata": {},
     "output_type": "execute_result"
    }
   ],
   "source": [
    "#AdaBoost classification\n",
    "ABC_model = sklearn.ensemble.AdaBoostClassifier(random_state=0)\n",
    "Estimators = np.arange(50,100,10)\n",
    "Learning_rates = [0.01,0.05,0.1,0.3,1]\n",
    "algorithm = ['SAMME', 'SAMME.R']\n",
    "param_grid = {'n_estimators': Estimators, 'learning_rate': Learning_rates, 'algorithm': algorithm}\n",
    "\n",
    "mdls = sklearn.model_selection.GridSearchCV(ABC_model, param_grid, verbose=1,cv=5).fit(X_train, y_train)\n",
    "print(mdls.best_estimator_)\n",
    "\n",
    "y_pred = mdls.best_estimator_.predict(X_test)\n",
    "sklearn.metrics.accuracy_score(y_test, y_pred)"
   ]
  },
  {
   "cell_type": "code",
   "execution_count": 9,
   "metadata": {},
   "outputs": [
    {
     "data": {
      "text/plain": [
       "0.4524421593830334"
      ]
     },
     "execution_count": 9,
     "metadata": {},
     "output_type": "execute_result"
    }
   ],
   "source": [
    "#Gaussian naive Bayes classification\n",
    "\n",
    "class1_prob = y_train[y_train == 0].shape[0]/y_train.shape[0]\n",
    "class2_prob = y_train[y_train == 1].shape[0]/y_train.shape[0]\n",
    "class3_prob = y_train[y_train == 2].shape[0]/y_train.shape[0]\n",
    "class4_prob = y_train[y_train == 3].shape[0]/y_train.shape[0]\n",
    "class5_prob = y_train[y_train == 4].shape[0]/y_train.shape[0]\n",
    "class6_prob = y_train[y_train == 5].shape[0]/y_train.shape[0]\n",
    "class7_prob = y_train[y_train == 6].shape[0]/y_train.shape[0]\n",
    "\n",
    "prob = np.array([class1_prob, class2_prob, class3_prob, class4_prob, class5_prob, class6_prob,class7_prob])\n",
    "GNB_model = sklearn.naive_bayes.GaussianNB(priors = prob)\n",
    "GNB_model.fit(X_train, y_train)\n",
    "# mdls = sklearn.model_selection.GridSearchCV(GNB_model, param_grid, verbose=1,cv=5).fit(X_train, y_train)\n",
    "# print(mdls.best_estimator_)\n",
    "\n",
    "y_pred = GNB_model.predict(X_test)\n",
    "sklearn.metrics.accuracy_score(y_test, y_pred)"
   ]
  },
  {
   "cell_type": "code",
   "execution_count": 10,
   "metadata": {},
   "outputs": [
    {
     "name": "stdout",
     "output_type": "stream",
     "text": [
      "Fitting 5 folds for each of 20 candidates, totalling 100 fits\n"
     ]
    },
    {
     "name": "stderr",
     "output_type": "stream",
     "text": [
      "[Parallel(n_jobs=1)]: Using backend SequentialBackend with 1 concurrent workers.\n",
      "/home/kbeepi/anaconda3/lib/python3.7/site-packages/sklearn/neural_network/multilayer_perceptron.py:562: ConvergenceWarning: Stochastic Optimizer: Maximum iterations (200) reached and the optimization hasn't converged yet.\n",
      "  % self.max_iter, ConvergenceWarning)\n",
      "/home/kbeepi/anaconda3/lib/python3.7/site-packages/sklearn/neural_network/multilayer_perceptron.py:562: ConvergenceWarning: Stochastic Optimizer: Maximum iterations (200) reached and the optimization hasn't converged yet.\n",
      "  % self.max_iter, ConvergenceWarning)\n",
      "/home/kbeepi/anaconda3/lib/python3.7/site-packages/sklearn/neural_network/multilayer_perceptron.py:562: ConvergenceWarning: Stochastic Optimizer: Maximum iterations (200) reached and the optimization hasn't converged yet.\n",
      "  % self.max_iter, ConvergenceWarning)\n",
      "[Parallel(n_jobs=1)]: Done 100 out of 100 | elapsed:  2.2min finished\n"
     ]
    },
    {
     "name": "stdout",
     "output_type": "stream",
     "text": [
      "MLPClassifier(activation='logistic', alpha=0.0001, batch_size=100, beta_1=0.9,\n",
      "       beta_2=0.999, early_stopping=False, epsilon=1e-08,\n",
      "       hidden_layer_sizes=(100,), learning_rate='constant',\n",
      "       learning_rate_init=0.001, max_iter=200, momentum=0.0,\n",
      "       n_iter_no_change=10, nesterovs_momentum=True, power_t=0.5,\n",
      "       random_state=None, shuffle=True, solver='adam', tol=0.0001,\n",
      "       validation_fraction=0.1, verbose=False, warm_start=False)\n"
     ]
    },
    {
     "data": {
      "text/plain": [
       "0.40616966580976865"
      ]
     },
     "execution_count": 10,
     "metadata": {},
     "output_type": "execute_result"
    }
   ],
   "source": [
    "#Neural network classification\n",
    "NNC_model = sklearn.neural_network.MLPClassifier()\n",
    "# batch_size = [10, 20, 40, 60, 80, 100]\n",
    "batch_size = [100]\n",
    "# epochs = [10, 50, 100]\n",
    "epochs = [10]\n",
    "learn_rate = [0.001, 0.01, 0.1]\n",
    "momentum = [0.0, 0.2, 0.4, 0.6, 0.8]\n",
    "neurons = [1, 5, 10, 15, 20, 25, 30] \n",
    "activation = ['identity', 'logistic', 'tanh', 'relu']\n",
    "alpha = [0.0001,0.002]\n",
    "param_grid = {'batch_size':batch_size,  'momentum':momentum, \n",
    "              'activation' : activation, }\n",
    "\n",
    "mdls = sklearn.model_selection.GridSearchCV(NNC_model, param_grid, verbose=1,cv=5).fit(X_train, y_train)\n",
    "print(mdls.best_estimator_)\n",
    "\n",
    "y_pred = mdls.best_estimator_.predict(X_test)\n",
    "sklearn.metrics.accuracy_score(y_test, y_pred)"
   ]
  },
  {
   "cell_type": "code",
   "execution_count": 11,
   "metadata": {},
   "outputs": [
    {
     "name": "stdout",
     "output_type": "stream",
     "text": [
      "Fitting 3 folds for each of 20 candidates, totalling 60 fits\n"
     ]
    },
    {
     "name": "stderr",
     "output_type": "stream",
     "text": [
      "[Parallel(n_jobs=1)]: Using backend SequentialBackend with 1 concurrent workers.\n",
      "[Parallel(n_jobs=1)]: Done  60 out of  60 | elapsed:   18.3s finished\n"
     ]
    },
    {
     "name": "stdout",
     "output_type": "stream",
     "text": [
      "SVC(C=0.001, cache_size=200, class_weight=None, coef0=0.0,\n",
      "  decision_function_shape='ovr', degree=3, gamma=0.001, kernel='rbf',\n",
      "  max_iter=-1, probability=False, random_state=None, shrinking=True,\n",
      "  tol=0.001, verbose=False)\n"
     ]
    },
    {
     "data": {
      "text/plain": [
       "0.33161953727506427"
      ]
     },
     "execution_count": 11,
     "metadata": {},
     "output_type": "execute_result"
    }
   ],
   "source": [
    "#SVM classifier\n",
    "svm_model = sklearn.svm.SVC()\n",
    "Kernels = ['linear', 'poly', 'rbf', 'sigmoid']\n",
    "Epsilons = [0.1,0.2,0.5,0.3]\n",
    "Cs = [0.001, 0.01, 0.1, 1, 10]\n",
    "Gammas = [0.001, 0.01, 0.1, 1]\n",
    "param_grid = {'C': Cs, 'gamma' : Gammas}\n",
    "\n",
    "mdls = sklearn.model_selection.GridSearchCV(svm_model, param_grid, verbose=1,cv=3).fit(X_train, y_train)\n",
    "print(mdls.best_estimator_)\n",
    "\n",
    "y_pred = mdls.best_estimator_.predict(X_test)\n",
    "sklearn.metrics.accuracy_score(y_test, y_pred)"
   ]
  }
 ],
 "metadata": {
  "kernelspec": {
   "display_name": "Python 3",
   "language": "python",
   "name": "python3"
  },
  "language_info": {
   "codemirror_mode": {
    "name": "ipython",
    "version": 3
   },
   "file_extension": ".py",
   "mimetype": "text/x-python",
   "name": "python",
   "nbconvert_exporter": "python",
   "pygments_lexer": "ipython3",
   "version": "3.7.1"
  }
 },
 "nbformat": 4,
 "nbformat_minor": 2
}
