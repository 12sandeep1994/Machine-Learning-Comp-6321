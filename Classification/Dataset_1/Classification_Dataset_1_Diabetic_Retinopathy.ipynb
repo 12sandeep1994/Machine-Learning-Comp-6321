{
 "cells": [
  {
   "cell_type": "code",
   "execution_count": 1,
   "metadata": {},
   "outputs": [],
   "source": [
    "#OM\n",
    "import numpy as np\n",
    "import matplotlib.pyplot as plt\n",
    "import sklearn\n",
    "import sklearn.linear_model\n",
    "from sklearn import preprocessing\n",
    "from sklearn.model_selection import train_test_split\n",
    "import sklearn.svm\n",
    "from sklearn.tree import DecisionTreeClassifier \n",
    "import sklearn.ensemble\n",
    "from sklearn.neighbors import KNeighborsClassifier\n",
    "from sklearn.naive_bayes import GaussianNB\n",
    "import sklearn.neural_network\n",
    "\n",
    "import warnings\n",
    "warnings.filterwarnings(\"ignore\")  # Ignore sklearn deprecation warnings\n",
    "warnings.filterwarnings(\"ignore\", category=FutureWarning)       # Ignore sklearn deprecation warnings"
   ]
  },
  {
   "cell_type": "code",
   "execution_count": 2,
   "metadata": {},
   "outputs": [],
   "source": [
    "#Dataset 1 : Diabetic Retinopathy\n",
    "data = np.loadtxt('messidor_features.arff', delimiter=',', comments = '@', max_rows = 1000)\n",
    "X_train, X_test, y_train, y_test = train_test_split(\n",
    "    data[:,:19],data[:,19], test_size=0.2, random_state=0)"
   ]
  },
  {
   "cell_type": "code",
   "execution_count": 3,
   "metadata": {},
   "outputs": [
    {
     "name": "stdout",
     "output_type": "stream",
     "text": [
      "KNeighborsClassifier(algorithm='auto', leaf_size=30, metric='minkowski',\n",
      "                     metric_params=None, n_jobs=-1, n_neighbors=19, p=2,\n",
      "                     weights='uniform')\n"
     ]
    },
    {
     "data": {
      "text/plain": [
       "0.67"
      ]
     },
     "execution_count": 3,
     "metadata": {},
     "output_type": "execute_result"
    }
   ],
   "source": [
    "#k-Nearest neighbours classification\n",
    "knn_model = sklearn.neighbors.KNeighborsClassifier(n_jobs=-1)\n",
    "param_grid = {'n_neighbors':(np.arange(5,20, 2))}\n",
    "\n",
    "mdls = sklearn.model_selection.GridSearchCV(knn_model, param_grid, verbose=0,cv=3).fit(X_train, y_train)\n",
    "print(mdls.best_estimator_)\n",
    "y_pred = mdls.best_estimator_.predict(X_test)\n",
    "sklearn.metrics.accuracy_score(y_test, y_pred)"
   ]
  },
  {
   "cell_type": "code",
   "execution_count": 4,
   "metadata": {},
   "outputs": [
    {
     "data": {
      "text/plain": [
       "0.745"
      ]
     },
     "execution_count": 4,
     "metadata": {},
     "output_type": "execute_result"
    }
   ],
   "source": [
    "#SVM\n",
    "svm_model = sklearn.svm.SVC(kernel = 'linear')\n",
    "svm_model.fit(X_train, y_train);\n",
    "y_pred = svm_model.predict(X_test)\n",
    "sklearn.metrics.accuracy_score(y_test, y_pred)"
   ]
  },
  {
   "cell_type": "code",
   "execution_count": 5,
   "metadata": {},
   "outputs": [
    {
     "name": "stdout",
     "output_type": "stream",
     "text": [
      "DecisionTreeClassifier(class_weight=None, criterion='gini', max_depth=11,\n",
      "                       max_features='auto', max_leaf_nodes=None,\n",
      "                       min_impurity_decrease=0.0, min_impurity_split=None,\n",
      "                       min_samples_leaf=0.01, min_samples_split=0.2,\n",
      "                       min_weight_fraction_leaf=0.0, presort=False,\n",
      "                       random_state=0, splitter='best')\n"
     ]
    },
    {
     "data": {
      "text/plain": [
       "0.645"
      ]
     },
     "execution_count": 5,
     "metadata": {},
     "output_type": "execute_result"
    }
   ],
   "source": [
    "#Decision tree classification\n",
    "DTC_model = sklearn.tree.DecisionTreeClassifier(random_state=0)\n",
    "Max_features = ['auto', 'sqrt', 'log2']\n",
    "Max_depths = np.arange(1,34,2)\n",
    "Min_samples_splits = np.linspace(0.1, 1.0, 10, endpoint=True)\n",
    "Min_samples_leafs = np.linspace(0.01, 0.05, 5, endpoint=True)\n",
    "param_grid = {'max_features': Max_features, 'max_depth': Max_depths,  'min_samples_split': Min_samples_splits, 'min_samples_leaf': Min_samples_leafs}\n",
    "\n",
    "mdls = sklearn.model_selection.GridSearchCV(DTC_model, param_grid, verbose=0,cv=3).fit(X_train, y_train)\n",
    "print(mdls.best_estimator_)\n",
    "\n",
    "y_pred = mdls.best_estimator_.predict(X_test)\n",
    "sklearn.metrics.accuracy_score(y_test, y_pred)"
   ]
  },
  {
   "cell_type": "code",
   "execution_count": 6,
   "metadata": {},
   "outputs": [
    {
     "name": "stdout",
     "output_type": "stream",
     "text": [
      "RandomForestClassifier(bootstrap=True, class_weight=None, criterion='gini',\n",
      "                       max_depth=None, max_features='auto', max_leaf_nodes=None,\n",
      "                       min_impurity_decrease=0.0, min_impurity_split=None,\n",
      "                       min_samples_leaf=1, min_samples_split=2,\n",
      "                       min_weight_fraction_leaf=0.0, n_estimators=100,\n",
      "                       n_jobs=None, oob_score=False, random_state=0, verbose=0,\n",
      "                       warm_start=False)\n"
     ]
    },
    {
     "data": {
      "text/plain": [
       "0.635"
      ]
     },
     "execution_count": 6,
     "metadata": {},
     "output_type": "execute_result"
    }
   ],
   "source": [
    "#Random forest classification\n",
    "RFC_model = sklearn.ensemble.RandomForestClassifier(random_state=0)\n",
    "Estimators = np.arange(100,105,1)\n",
    "Max_features = ['auto', 'sqrt', 'log2']\n",
    "param_grid = {'n_estimators': Estimators,'max_features': Max_features, }\n",
    "\n",
    "mdls = sklearn.model_selection.GridSearchCV(RFC_model, param_grid, verbose=0,cv=3).fit(X_train, y_train)\n",
    "print(mdls.best_estimator_)\n",
    "\n",
    "y_pred = mdls.best_estimator_.predict(X_test)\n",
    "sklearn.metrics.accuracy_score(y_test, y_pred)"
   ]
  },
  {
   "cell_type": "code",
   "execution_count": 7,
   "metadata": {},
   "outputs": [
    {
     "name": "stdout",
     "output_type": "stream",
     "text": [
      "AdaBoostClassifier(algorithm='SAMME.R', base_estimator=None, learning_rate=1,\n",
      "                   n_estimators=50, random_state=0)\n"
     ]
    },
    {
     "data": {
      "text/plain": [
       "0.66"
      ]
     },
     "execution_count": 7,
     "metadata": {},
     "output_type": "execute_result"
    }
   ],
   "source": [
    "#AdaBoost classification\n",
    "ABC_model = sklearn.ensemble.AdaBoostClassifier(random_state=0)\n",
    "Estimators = np.arange(50,100,10)\n",
    "Learning_rates = [0.01,0.05,0.1,0.3,1]\n",
    "algorithm = ['SAMME', 'SAMME.R']\n",
    "param_grid = {'n_estimators': Estimators, 'learning_rate': Learning_rates, 'algorithm': algorithm}\n",
    "\n",
    "mdls = sklearn.model_selection.GridSearchCV(ABC_model, param_grid, verbose=0,cv=3).fit(X_train, y_train)\n",
    "print(mdls.best_estimator_)\n",
    "\n",
    "y_pred = mdls.best_estimator_.predict(X_test)\n",
    "sklearn.metrics.accuracy_score(y_test, y_pred)"
   ]
  },
  {
   "cell_type": "code",
   "execution_count": 8,
   "metadata": {},
   "outputs": [
    {
     "name": "stdout",
     "output_type": "stream",
     "text": [
      "MLPClassifier(activation='logistic', alpha=0.002, batch_size=80, beta_1=0.9,\n",
      "              beta_2=0.999, early_stopping=False, epsilon=1e-08,\n",
      "              hidden_layer_sizes=(100,), learning_rate='constant',\n",
      "              learning_rate_init=0.001, max_iter=200, momentum=0.2,\n",
      "              n_iter_no_change=10, nesterovs_momentum=True, power_t=0.5,\n",
      "              random_state=None, shuffle=True, solver='adam', tol=0.0001,\n",
      "              validation_fraction=0.1, verbose=False, warm_start=False)\n"
     ]
    },
    {
     "data": {
      "text/plain": [
       "0.725"
      ]
     },
     "execution_count": 8,
     "metadata": {},
     "output_type": "execute_result"
    }
   ],
   "source": [
    "#Neural network classification\n",
    "NNC_model = sklearn.neural_network.MLPClassifier()\n",
    "batch_size = [10, 20, 40, 60, 80, 100]\n",
    "epochs = [10, 50, 100]\n",
    "learn_rate = [0.001, 0.01, 0.1]\n",
    "momentum = [0.0, 0.2, 0.4, 0.6, 0.8]\n",
    "neurons = [1, 5, 10, 15, 20, 25, 30] \n",
    "activation = ['identity', 'logistic', 'tanh', 'relu']\n",
    "alpha = [0.0001,0.002]\n",
    "param_grid = {'batch_size':batch_size,  'momentum':momentum, \n",
    "              'activation' : activation, 'alpha':alpha }\n",
    "\n",
    "mdls = sklearn.model_selection.GridSearchCV(NNC_model, param_grid, verbose=0,cv=3).fit(X_train, y_train)\n",
    "print(mdls.best_estimator_)\n",
    "\n",
    "y_pred = mdls.best_estimator_.predict(X_test)\n",
    "sklearn.metrics.accuracy_score(y_test, y_pred)"
   ]
  },
  {
   "cell_type": "code",
   "execution_count": 9,
   "metadata": {},
   "outputs": [
    {
     "name": "stdout",
     "output_type": "stream",
     "text": [
      "LogisticRegression(C=1.0, class_weight=None, dual=False, fit_intercept=True,\n",
      "                   intercept_scaling=1, l1_ratio=None, max_iter=300,\n",
      "                   multi_class='warn', n_jobs=-1, penalty='l2',\n",
      "                   random_state=None, solver='lbfgs', tol=0.0001, verbose=0,\n",
      "                   warm_start=False)\n"
     ]
    },
    {
     "data": {
      "text/plain": [
       "0.735"
      ]
     },
     "execution_count": 9,
     "metadata": {},
     "output_type": "execute_result"
    }
   ],
   "source": [
    "#Logistic regression (for classification)\n",
    "#Fit_intercept is set to True because we don't have bias\n",
    "# logistic_model = sklearn.linear_model.LogisticRegression(fit_intercept=True)\n",
    "logistic_model = sklearn.linear_model.LogisticRegression(n_jobs=-1)\n",
    "param_grid = { \"fit_intercept\":[True], \"solver\":['newton-cg', 'lbfgs', 'liblinear', 'sag', 'saga'], \n",
    "             \"max_iter\":np.arange(100,400, 100)}\n",
    "\n",
    "\n",
    "mdls = sklearn.model_selection.GridSearchCV(logistic_model, param_grid, verbose=0,cv=5).fit(X_train, y_train)\n",
    "print(mdls.best_estimator_)\n",
    "\n",
    "y_pred = mdls.best_estimator_.predict(X_test)\n",
    "sklearn.metrics.accuracy_score(y_test, y_pred)"
   ]
  },
  {
   "cell_type": "code",
   "execution_count": null,
   "metadata": {},
   "outputs": [],
   "source": [
    "# #SVM classifier\n",
    "# svm_model = sklearn.svm.SVC()\n",
    "# Kernels = ['linear', 'poly', 'rbf', 'sigmoid']\n",
    "# Epsilons = [0.1,0.2,0.5,0.3]\n",
    "# Cs = [0.001, 0.01, 0.1, 1, 10]\n",
    "# Gammas = [0.001, 0.01, 0.1, 1]\n",
    "# param_grid = {'C': Cs, 'gamma' : Gammas, 'kernel' : Kernels}\n",
    "\n",
    "# mdls = sklearn.model_selection.GridSearchCV(svm_model, param_grid, verbose=0,cv=3).fit(X_train, y_train)\n",
    "# print(mdls.best_estimator_)\n",
    "\n",
    "# y_pred = mdls.best_estimator_.predict(X_test)\n",
    "# sklearn.metrics.accuracy_score(y_test, y_pred)"
   ]
  },
  {
   "cell_type": "code",
   "execution_count": 3,
   "metadata": {},
   "outputs": [
    {
     "data": {
      "text/plain": [
       "0.59"
      ]
     },
     "execution_count": 3,
     "metadata": {},
     "output_type": "execute_result"
    }
   ],
   "source": [
    "#Gaussian naive Bayes classification\n",
    "\n",
    "zero_prob = y_train[y_train == 0].shape[0]/y_train.shape[0]\n",
    "one_prob = 1 - zero_prob\n",
    "prob = np.array([zero_prob,one_prob])\n",
    "GNB_model = sklearn.naive_bayes.GaussianNB(priors = prob)\n",
    "GNB_model.fit(X_train, y_train)\n",
    "# mdls = sklearn.model_selection.GridSearchCV(GNB_model, param_grid, verbose=1,cv=5).fit(X_train, y_train)\n",
    "# print(mdls.best_estimator_)\n",
    "\n",
    "y_pred = GNB_model.predict(X_test)\n",
    "sklearn.metrics.accuracy_score(y_test, y_pred)"
   ]
  }
 ],
 "metadata": {
  "kernelspec": {
   "display_name": "Python 3",
   "language": "python",
   "name": "python3"
  },
  "language_info": {
   "codemirror_mode": {
    "name": "ipython",
    "version": 3
   },
   "file_extension": ".py",
   "mimetype": "text/x-python",
   "name": "python",
   "nbconvert_exporter": "python",
   "pygments_lexer": "ipython3",
   "version": "3.7.4"
  }
 },
 "nbformat": 4,
 "nbformat_minor": 2
}
