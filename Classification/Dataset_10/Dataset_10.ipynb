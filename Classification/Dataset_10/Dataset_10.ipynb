{
 "cells": [
  {
   "cell_type": "code",
   "execution_count": 1,
   "metadata": {},
   "outputs": [],
   "source": [
    "#Basic imports for all datasets\n",
    "import numpy as np \n",
    "import pandas as pd   # for data reading \n",
    "import matplotlib.pyplot as plt\n",
    "import sklearn\n",
    "import sklearn.linear_model\n",
    "import sklearn.tree\n",
    "import sklearn.ensemble\n",
    "import sklearn.naive_bayes\n",
    "import sklearn.neural_network\n",
    "from sklearn import preprocessing\n",
    "from sklearn.model_selection import train_test_split\n",
    "import sklearn.metrics           # For accuracy_score\n",
    "import sklearn.model_selection   # For GridSearchCV and RandomizedSearchCV\n",
    "import scipy\n",
    "import scipy.stats               # For reciprocal distribution\n",
    "import warnings\n",
    "warnings.filterwarnings(\"ignore\")  # Ignore sklearn deprecation warnings\n",
    "warnings.filterwarnings(\"ignore\", category=FutureWarning)       # Ignore sklearn deprecation warnings\n",
    "from sklearn.gaussian_process.kernels import RBF, ConstantKernel, RationalQuadratic, ExpSineSquared"
   ]
  },
  {
   "cell_type": "code",
   "execution_count": 2,
   "metadata": {},
   "outputs": [],
   "source": [
    "\n",
    "import pandas as pd\n",
    "\n",
    "class MultiColumnLabelEncoder:\n",
    "    def __init__(self,columns = None):\n",
    "        self.columns = columns # array of column names to encode\n",
    "\n",
    "    def fit(self,X,y=None):\n",
    "        return self \n",
    "    def transform(self,X):\n",
    "        '''\n",
    "        Transforms columns of X specified in self.columns using\n",
    "        LabelEncoder(). If no columns specified, transforms all\n",
    "        columns in X.\n",
    "        '''\n",
    "        output = X.copy()\n",
    "        if self.columns is not None:\n",
    "            for col in self.columns:\n",
    "                output[col] = preprocessing.LabelEncoder().fit_transform(output[col])\n",
    "        else:\n",
    "            for colname,col in output.iteritems():\n",
    "                output[colname] = preprocessing.LabelEncoder().fit_transform(col)\n",
    "        return output\n",
    "\n",
    "    def fit_transform(self,X,y=None):\n",
    "        return self.fit(X,y).transform(X)"
   ]
  },
  {
   "cell_type": "code",
   "execution_count": 3,
   "metadata": {},
   "outputs": [
    {
     "data": {
      "text/plain": [
       "71"
      ]
     },
     "execution_count": 3,
     "metadata": {},
     "output_type": "execute_result"
    }
   ],
   "source": [
    "f = open(\"results.txt\", \"a\")\n",
    "f.write(\"\\nResults printed below are for Clasification Data set 10 Seismic Bumps\\n\" )"
   ]
  },
  {
   "cell_type": "code",
   "execution_count": 4,
   "metadata": {},
   "outputs": [],
   "source": [
    "data = np.loadtxt('seismic-bumps.arff',dtype = 'str',delimiter=',',comments=('@','%'))\n",
    "columns = np.arange(19)\n",
    "df = pd.DataFrame(data,columns=columns)\n",
    "df = MultiColumnLabelEncoder(columns = [0,1,2,7]).fit_transform(df)\n",
    "data = df.values\n",
    "data = data.astype(np.float)\n",
    "X_train, X_test, y_train, y_test = train_test_split(\n",
    "    data[:,:18],data[:,18], test_size=0.2, random_state=42)"
   ]
  },
  {
   "cell_type": "code",
   "execution_count": 5,
   "metadata": {},
   "outputs": [
    {
     "name": "stdout",
     "output_type": "stream",
     "text": [
      "KNeighborsClassifier(algorithm='auto', leaf_size=30, metric='minkowski',\n",
      "                     metric_params=None, n_jobs=-1, n_neighbors=20, p=2,\n",
      "                     weights='uniform')\n"
     ]
    },
    {
     "data": {
      "text/plain": [
       "39"
      ]
     },
     "execution_count": 5,
     "metadata": {},
     "output_type": "execute_result"
    }
   ],
   "source": [
    "#k-Nearest neighbours classification\n",
    "# knn_model = sklearn.neighbors.KNeighborsClassifier(n_neighbors=35)\n",
    "# knn_model.fit(X_train, y_train)\n",
    "# y_pred = knn_model.predict(X_test)\n",
    "# sklearn.metrics.accuracy_score(y_test, y_pred)\n",
    "\n",
    "\n",
    "\n",
    "knn_model = sklearn.neighbors.KNeighborsClassifier(n_jobs=-1)\n",
    "param_grid = {'n_neighbors':(np.arange(2,30, 3))}\n",
    "\n",
    "mdls = sklearn.model_selection.GridSearchCV(knn_model, param_grid, verbose=0,cv=5).fit(X_train, y_train)\n",
    "print(mdls.best_estimator_)\n",
    "y_pred = mdls.best_estimator_.predict(X_test)\n",
    "f.write(\"Accuracy for KNN is \" + str( sklearn.metrics.accuracy_score(y_test, y_pred ) * 100 ) + \"%\\n\")"
   ]
  },
  {
   "cell_type": "code",
   "execution_count": 6,
   "metadata": {},
   "outputs": [
    {
     "name": "stdout",
     "output_type": "stream",
     "text": [
      "LogisticRegression(C=35, class_weight=None, dual=False, fit_intercept=True,\n",
      "                   intercept_scaling=1, l1_ratio=None, max_iter=100,\n",
      "                   multi_class='warn', n_jobs=None, penalty='l2',\n",
      "                   random_state=None, solver='sag', tol=0.0001, verbose=0,\n",
      "                   warm_start=False)\n"
     ]
    },
    {
     "data": {
      "text/plain": [
       "55"
      ]
     },
     "execution_count": 6,
     "metadata": {},
     "output_type": "execute_result"
    }
   ],
   "source": [
    "#Logistic regression\n",
    "logistic_model = sklearn.linear_model.LogisticRegression(C = 35,fit_intercept=False, penalty='l2', solver='lbfgs',max_iter = 1000)\n",
    "logistic_model.fit(X_train, y_train);\n",
    "y_pred = logistic_model.predict(X_test)\n",
    "sklearn.metrics.accuracy_score(y_test, y_pred)\n",
    "\n",
    "\n",
    "param_grid = { \"fit_intercept\":[True], \"solver\":['newton-cg', 'lbfgs', 'liblinear', 'sag', 'saga'], \n",
    "             \"max_iter\":np.arange(100,400, 100)}\n",
    "\n",
    "\n",
    "mdls = sklearn.model_selection.GridSearchCV(logistic_model, param_grid, verbose=0,cv=5).fit(X_train, y_train)\n",
    "print(mdls.best_estimator_)\n",
    "\n",
    "y_pred = mdls.best_estimator_.predict(X_test)\n",
    "f.write(\"Accuracy for Logistic regression is \" + str( sklearn.metrics.accuracy_score(y_test, y_pred ) * 100 ) + \"%\\n\")"
   ]
  },
  {
   "cell_type": "code",
   "execution_count": 7,
   "metadata": {},
   "outputs": [
    {
     "data": {
      "text/plain": [
       "39"
      ]
     },
     "execution_count": 7,
     "metadata": {},
     "output_type": "execute_result"
    }
   ],
   "source": [
    "#SVM classifier\n",
    "svm_model = sklearn.svm.SVC()\n",
    "svm_model.fit(X_train, y_train)\n",
    "y_pred = svm_model.predict(X_test)\n",
    "f.write(\"Accuracy for SVM is \" + str( sklearn.metrics.accuracy_score(y_test, y_pred ) * 100 ) + \"%\\n\")"
   ]
  },
  {
   "cell_type": "code",
   "execution_count": 8,
   "metadata": {},
   "outputs": [
    {
     "name": "stdout",
     "output_type": "stream",
     "text": [
      "DecisionTreeClassifier(class_weight=None, criterion='gini', max_depth=1,\n",
      "                       max_features='auto', max_leaf_nodes=None,\n",
      "                       min_impurity_decrease=0.0, min_impurity_split=None,\n",
      "                       min_samples_leaf=0.01, min_samples_split=0.1,\n",
      "                       min_weight_fraction_leaf=0.0, presort=False,\n",
      "                       random_state=0, splitter='best')\n"
     ]
    },
    {
     "data": {
      "text/plain": [
       "60"
      ]
     },
     "execution_count": 8,
     "metadata": {},
     "output_type": "execute_result"
    }
   ],
   "source": [
    "#Decision tree classification\n",
    "# DTC_model = sklearn.tree.DecisionTreeClassifier()\n",
    "# DTC_model.fit(X_train, y_train)\n",
    "# y_pred = DTC_model.predict(X_test)\n",
    "# sklearn.metrics.accuracy_score(y_test, y_pred)\n",
    "\n",
    "\n",
    "DTC_model = sklearn.tree.DecisionTreeClassifier(random_state=0)\n",
    "Max_features = ['auto', 'sqrt', 'log2']\n",
    "Max_depths = np.arange(1,34,2)\n",
    "Min_samples_splits = np.linspace(0.1, 1.0, 10, endpoint=True)\n",
    "Min_samples_leafs = np.linspace(0.01, 0.05, 5, endpoint=True)\n",
    "param_grid = {'max_features': Max_features, 'max_depth': Max_depths,  'min_samples_split': Min_samples_splits, 'min_samples_leaf': Min_samples_leafs}\n",
    "\n",
    "mdls = sklearn.model_selection.GridSearchCV(DTC_model, param_grid, verbose=0,cv=5).fit(X_train, y_train)\n",
    "print(mdls.best_estimator_)\n",
    "\n",
    "y_pred = mdls.best_estimator_.predict(X_test)\n",
    "f.write(\"Accuracy for Decision Tree Classifier is \" + str( sklearn.metrics.accuracy_score(y_test, y_pred ) * 100 ) + \"%\\n\")"
   ]
  },
  {
   "cell_type": "code",
   "execution_count": 9,
   "metadata": {},
   "outputs": [
    {
     "name": "stdout",
     "output_type": "stream",
     "text": [
      "RandomForestClassifier(bootstrap=True, class_weight=None, criterion='gini',\n",
      "                       max_depth=None, max_features='auto', max_leaf_nodes=None,\n",
      "                       min_impurity_decrease=0.0, min_impurity_split=None,\n",
      "                       min_samples_leaf=1, min_samples_split=2,\n",
      "                       min_weight_fraction_leaf=0.0, n_estimators=104,\n",
      "                       n_jobs=None, oob_score=False, random_state=0, verbose=0,\n",
      "                       warm_start=False)\n"
     ]
    },
    {
     "data": {
      "text/plain": [
       "64"
      ]
     },
     "execution_count": 9,
     "metadata": {},
     "output_type": "execute_result"
    }
   ],
   "source": [
    "#Random forest classification\n",
    "# RFC_model = sklearn.ensemble.RandomForestClassifier()\n",
    "# RFC_model.fit(X_train, y_train)\n",
    "# y_pred = RFC_model.predict(X_test)\n",
    "# sklearn.metrics.accuracy_score(y_test, y_pred)\n",
    "\n",
    "\n",
    "\n",
    "RFC_model = sklearn.ensemble.RandomForestClassifier(random_state=0)\n",
    "Estimators = np.arange(100,105,1)\n",
    "Max_features = ['auto', 'sqrt', 'log2']\n",
    "param_grid = {'n_estimators': Estimators,'max_features': Max_features, }\n",
    "\n",
    "mdls = sklearn.model_selection.GridSearchCV(RFC_model, param_grid, verbose=0,cv=5).fit(X_train, y_train)\n",
    "print(mdls.best_estimator_)\n",
    "\n",
    "y_pred = mdls.best_estimator_.predict(X_test)\n",
    "f.write(\"Accuracy for Random forest classification is \" + str( sklearn.metrics.accuracy_score(y_test, y_pred ) * 100 )+ \"%\\n\")"
   ]
  },
  {
   "cell_type": "code",
   "execution_count": 10,
   "metadata": {},
   "outputs": [
    {
     "name": "stdout",
     "output_type": "stream",
     "text": [
      "Fitting 5 folds for each of 50 candidates, totalling 250 fits\n"
     ]
    },
    {
     "name": "stderr",
     "output_type": "stream",
     "text": [
      "[Parallel(n_jobs=1)]: Using backend SequentialBackend with 1 concurrent workers.\n"
     ]
    },
    {
     "name": "stdout",
     "output_type": "stream",
     "text": [
      "AdaBoostClassifier(algorithm='SAMME.R', base_estimator=None, learning_rate=0.3,\n",
      "                   n_estimators=50, random_state=0)\n"
     ]
    },
    {
     "name": "stderr",
     "output_type": "stream",
     "text": [
      "[Parallel(n_jobs=1)]: Done 250 out of 250 | elapsed:   33.5s finished\n"
     ]
    },
    {
     "data": {
      "text/plain": [
       "59"
      ]
     },
     "execution_count": 10,
     "metadata": {},
     "output_type": "execute_result"
    }
   ],
   "source": [
    "#AdaBoost classification\n",
    "# ABC_model = sklearn.ensemble.AdaBoostClassifier()\n",
    "# ABC_model.fit(X_train, y_train)\n",
    "# y_pred = ABC_model.predict(X_test)\n",
    "# sklearn.metrics.accuracy_score(y_test, y_pred)\n",
    "\n",
    "\n",
    "\n",
    "ABC_model = sklearn.ensemble.AdaBoostClassifier(random_state=0)\n",
    "Estimators = np.arange(50,100,10)\n",
    "Learning_rates = [0.01,0.05,0.1,0.3,1]\n",
    "algorithm = ['SAMME', 'SAMME.R']\n",
    "param_grid = {'n_estimators': Estimators, 'learning_rate': Learning_rates, 'algorithm': algorithm}\n",
    "\n",
    "mdls = sklearn.model_selection.GridSearchCV(ABC_model, param_grid, verbose=1,cv=5).fit(X_train, y_train)\n",
    "print(mdls.best_estimator_)\n",
    "\n",
    "y_pred = mdls.best_estimator_.predict(X_test)\n",
    "f.write(\"Accuracy for AdaBoost classification is \" + str( sklearn.metrics.accuracy_score(y_test, y_pred ) * 100 ) + \"%\\n\")"
   ]
  },
  {
   "cell_type": "code",
   "execution_count": 11,
   "metadata": {},
   "outputs": [
    {
     "data": {
      "text/plain": [
       "71"
      ]
     },
     "execution_count": 11,
     "metadata": {},
     "output_type": "execute_result"
    }
   ],
   "source": [
    "#Gaussian naive Bayes classification\n",
    "\n",
    "zero_prob = y_train[y_train == 0].shape[0]/y_train.shape[0]\n",
    "one_prob = 1 - zero_prob\n",
    "prob = np.array([zero_prob,one_prob])\n",
    "GNB_model = sklearn.naive_bayes.GaussianNB(priors = prob)\n",
    "GNB_model.fit(X_train, y_train)\n",
    "# mdls = sklearn.model_selection.GridSearchCV(GNB_model, param_grid, verbose=1,cv=5).fit(X_train, y_train)\n",
    "# print(mdls.best_estimator_)\n",
    "\n",
    "y_pred = GNB_model.predict(X_test)\n",
    "f.write(\"Accuracy for Gaussian naive Bayes classification is \" + str( sklearn.metrics.accuracy_score(y_test, y_pred ) * 100 ) + \"%\\n\")"
   ]
  },
  {
   "cell_type": "code",
   "execution_count": 12,
   "metadata": {},
   "outputs": [
    {
     "name": "stderr",
     "output_type": "stream",
     "text": [
      "[Parallel(n_jobs=1)]: Using backend SequentialBackend with 1 concurrent workers.\n"
     ]
    },
    {
     "name": "stdout",
     "output_type": "stream",
     "text": [
      "Fitting 5 folds for each of 32 candidates, totalling 160 fits\n"
     ]
    },
    {
     "name": "stderr",
     "output_type": "stream",
     "text": [
      "[Parallel(n_jobs=1)]: Done 160 out of 160 | elapsed:  2.4min finished\n"
     ]
    },
    {
     "name": "stdout",
     "output_type": "stream",
     "text": [
      "MLPClassifier(activation='logistic', alpha=0.0001, batch_size=50, beta_1=0.9,\n",
      "              beta_2=0.999, early_stopping=False, epsilon=1e-08,\n",
      "              hidden_layer_sizes=(100,), learning_rate='constant',\n",
      "              learning_rate_init=0.001, max_iter=200, momentum=0.4,\n",
      "              n_iter_no_change=10, nesterovs_momentum=True, power_t=0.5,\n",
      "              random_state=None, shuffle=True, solver='adam', tol=0.0001,\n",
      "              validation_fraction=0.1, verbose=False, warm_start=False)\n"
     ]
    },
    {
     "data": {
      "text/plain": [
       "65"
      ]
     },
     "execution_count": 12,
     "metadata": {},
     "output_type": "execute_result"
    }
   ],
   "source": [
    "#Neural network classification\n",
    "# NNC_model = sklearn.neural_network.MLPClassifier()\n",
    "# NNC_model.fit(X_train, y_train)\n",
    "# y_pred = NNC_model.predict(X_test)\n",
    "# sklearn.metrics.accuracy_score(y_test, y_pred)\n",
    "\n",
    "\n",
    "NNC_model = sklearn.neural_network.MLPClassifier()\n",
    "batch_size = [50, 100]\n",
    "epochs = [10, 50, 100]\n",
    "learn_rate = [0.001, 0.01, 0.1]\n",
    "momentum = [ 0.4, 0.8]\n",
    "neurons = [1, 5, 10, 15, 20, 25, 30] \n",
    "activation = ['identity', 'logistic', 'tanh', 'relu']\n",
    "alpha = [0.0001,0.002]\n",
    "param_grid = {'batch_size':batch_size,  'momentum':momentum, \n",
    "              'activation' : activation, 'alpha':alpha }\n",
    "\n",
    "mdls = sklearn.model_selection.GridSearchCV(NNC_model, param_grid, verbose=1,cv=5).fit(X_train, y_train)\n",
    "print(mdls.best_estimator_)\n",
    "\n",
    "y_pred = mdls.best_estimator_.predict(X_test)\n",
    "f.write(\"Accuracy for Neural network classification is \"+ str( sklearn.metrics.accuracy_score(y_test, y_pred ) * 100 )+ \"%\\n\")"
   ]
  },
  {
   "cell_type": "code",
   "execution_count": 13,
   "metadata": {},
   "outputs": [],
   "source": [
    "# #SVM classifier\n",
    "# svm_model = sklearn.svm.SVC()\n",
    "# Kernels = ['linear']\n",
    "# Epsilons = [0.1,0.2,0.5,0.3]\n",
    "# Cs = [0.001, 0.01, 0.1, 1, 10]\n",
    "# Gammas = [0.001, 0.01, 0.1, 1]\n",
    "# param_grid = {'C': Cs, 'gamma' : Gammas, 'kernel': Kernels}\n",
    "\n",
    "# mdls = sklearn.model_selection.GridSearchCV(svm_model, param_grid, verbose=1,cv=3).fit(X_train, y_train)\n",
    "# print(mdls.best_estimator_)\n",
    "\n",
    "# y_pred = mdls.best_estimator_.predict(X_test)\n",
    "# f.write(\"Accuracy for SVM is \" + str( sklearn.metrics.accuracy_score(y_test, y_pred ) * 100 ) + \"%\\n\")"
   ]
  },
  {
   "cell_type": "code",
   "execution_count": 14,
   "metadata": {},
   "outputs": [],
   "source": [
    "f.write(\"Best classifier is Random Forest Classifier with 92.84% accuracy \\n\")\n",
    "f.close()"
   ]
  }
 ],
 "metadata": {
  "kernelspec": {
   "display_name": "Python 3",
   "language": "python",
   "name": "python3"
  },
  "language_info": {
   "codemirror_mode": {
    "name": "ipython",
    "version": 3
   },
   "file_extension": ".py",
   "mimetype": "text/x-python",
   "name": "python",
   "nbconvert_exporter": "python",
   "pygments_lexer": "ipython3",
   "version": "3.7.4"
  }
 },
 "nbformat": 4,
 "nbformat_minor": 2
}
